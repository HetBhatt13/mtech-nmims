{
  "nbformat": 4,
  "nbformat_minor": 0,
  "metadata": {
    "colab": {
      "name": "ROMIL_HOLKAR_D009_ASSIGNMENT-1_Q2.ipynb",
      "provenance": [],
      "collapsed_sections": []
    },
    "kernelspec": {
      "name": "python3",
      "display_name": "Python 3"
    },
    "language_info": {
      "name": "python"
    },
    "accelerator": "GPU",
    "gpuClass": "standard"
  },
  "cells": [
    {
      "cell_type": "code",
      "source": [
        "import pandas as pd\n",
        "import numpy as np\n",
        "import matplotlib.pyplot as plt\n",
        "import seaborn as sns\n",
        "from sklearn.model_selection import train_test_split\n",
        "from sklearn.preprocessing import OneHotEncoder\n",
        "from sklearn.preprocessing import MinMaxScaler"
      ],
      "metadata": {
        "id": "L-a4aK-59GtR"
      },
      "execution_count": null,
      "outputs": []
    },
    {
      "cell_type": "code",
      "source": [
        "train = pd.read_csv(\"Train.csv\")\n"
      ],
      "metadata": {
        "id": "VEqa597A8thh"
      },
      "execution_count": null,
      "outputs": []
    },
    {
      "cell_type": "code",
      "source": [
        "train.head()\n"
      ],
      "metadata": {
        "colab": {
          "base_uri": "https://localhost:8080/",
          "height": 206
        },
        "id": "8ybmqUCZ9mL-",
        "outputId": "a71c5a49-9f10-4a11-a6ac-14f6cb2cfe1d"
      },
      "execution_count": null,
      "outputs": [
        {
          "output_type": "execute_result",
          "data": {
            "text/plain": [
              "   City  Location_Score  Internal_Audit_Score  External_Audit_Score  \\\n",
              "0     2           8.032                    14                     8   \n",
              "1    31          77.730                     8                     3   \n",
              "2    40          59.203                     3                    12   \n",
              "3    12          73.080                     4                     5   \n",
              "4     4          15.666                    13                    15   \n",
              "\n",
              "   Fin_Score  Loss_score  Past_Results  IsUnderRisk  \n",
              "0          3           6             0            1  \n",
              "1          3           8             1            0  \n",
              "2         11           3             0            1  \n",
              "3          7           6             0            0  \n",
              "4          6           7             2            1  "
            ],
            "text/html": [
              "\n",
              "  <div id=\"df-4f625ff9-73a3-4189-9027-f70df292b023\">\n",
              "    <div class=\"colab-df-container\">\n",
              "      <div>\n",
              "<style scoped>\n",
              "    .dataframe tbody tr th:only-of-type {\n",
              "        vertical-align: middle;\n",
              "    }\n",
              "\n",
              "    .dataframe tbody tr th {\n",
              "        vertical-align: top;\n",
              "    }\n",
              "\n",
              "    .dataframe thead th {\n",
              "        text-align: right;\n",
              "    }\n",
              "</style>\n",
              "<table border=\"1\" class=\"dataframe\">\n",
              "  <thead>\n",
              "    <tr style=\"text-align: right;\">\n",
              "      <th></th>\n",
              "      <th>City</th>\n",
              "      <th>Location_Score</th>\n",
              "      <th>Internal_Audit_Score</th>\n",
              "      <th>External_Audit_Score</th>\n",
              "      <th>Fin_Score</th>\n",
              "      <th>Loss_score</th>\n",
              "      <th>Past_Results</th>\n",
              "      <th>IsUnderRisk</th>\n",
              "    </tr>\n",
              "  </thead>\n",
              "  <tbody>\n",
              "    <tr>\n",
              "      <th>0</th>\n",
              "      <td>2</td>\n",
              "      <td>8.032</td>\n",
              "      <td>14</td>\n",
              "      <td>8</td>\n",
              "      <td>3</td>\n",
              "      <td>6</td>\n",
              "      <td>0</td>\n",
              "      <td>1</td>\n",
              "    </tr>\n",
              "    <tr>\n",
              "      <th>1</th>\n",
              "      <td>31</td>\n",
              "      <td>77.730</td>\n",
              "      <td>8</td>\n",
              "      <td>3</td>\n",
              "      <td>3</td>\n",
              "      <td>8</td>\n",
              "      <td>1</td>\n",
              "      <td>0</td>\n",
              "    </tr>\n",
              "    <tr>\n",
              "      <th>2</th>\n",
              "      <td>40</td>\n",
              "      <td>59.203</td>\n",
              "      <td>3</td>\n",
              "      <td>12</td>\n",
              "      <td>11</td>\n",
              "      <td>3</td>\n",
              "      <td>0</td>\n",
              "      <td>1</td>\n",
              "    </tr>\n",
              "    <tr>\n",
              "      <th>3</th>\n",
              "      <td>12</td>\n",
              "      <td>73.080</td>\n",
              "      <td>4</td>\n",
              "      <td>5</td>\n",
              "      <td>7</td>\n",
              "      <td>6</td>\n",
              "      <td>0</td>\n",
              "      <td>0</td>\n",
              "    </tr>\n",
              "    <tr>\n",
              "      <th>4</th>\n",
              "      <td>4</td>\n",
              "      <td>15.666</td>\n",
              "      <td>13</td>\n",
              "      <td>15</td>\n",
              "      <td>6</td>\n",
              "      <td>7</td>\n",
              "      <td>2</td>\n",
              "      <td>1</td>\n",
              "    </tr>\n",
              "  </tbody>\n",
              "</table>\n",
              "</div>\n",
              "      <button class=\"colab-df-convert\" onclick=\"convertToInteractive('df-4f625ff9-73a3-4189-9027-f70df292b023')\"\n",
              "              title=\"Convert this dataframe to an interactive table.\"\n",
              "              style=\"display:none;\">\n",
              "        \n",
              "  <svg xmlns=\"http://www.w3.org/2000/svg\" height=\"24px\"viewBox=\"0 0 24 24\"\n",
              "       width=\"24px\">\n",
              "    <path d=\"M0 0h24v24H0V0z\" fill=\"none\"/>\n",
              "    <path d=\"M18.56 5.44l.94 2.06.94-2.06 2.06-.94-2.06-.94-.94-2.06-.94 2.06-2.06.94zm-11 1L8.5 8.5l.94-2.06 2.06-.94-2.06-.94L8.5 2.5l-.94 2.06-2.06.94zm10 10l.94 2.06.94-2.06 2.06-.94-2.06-.94-.94-2.06-.94 2.06-2.06.94z\"/><path d=\"M17.41 7.96l-1.37-1.37c-.4-.4-.92-.59-1.43-.59-.52 0-1.04.2-1.43.59L10.3 9.45l-7.72 7.72c-.78.78-.78 2.05 0 2.83L4 21.41c.39.39.9.59 1.41.59.51 0 1.02-.2 1.41-.59l7.78-7.78 2.81-2.81c.8-.78.8-2.07 0-2.86zM5.41 20L4 18.59l7.72-7.72 1.47 1.35L5.41 20z\"/>\n",
              "  </svg>\n",
              "      </button>\n",
              "      \n",
              "  <style>\n",
              "    .colab-df-container {\n",
              "      display:flex;\n",
              "      flex-wrap:wrap;\n",
              "      gap: 12px;\n",
              "    }\n",
              "\n",
              "    .colab-df-convert {\n",
              "      background-color: #E8F0FE;\n",
              "      border: none;\n",
              "      border-radius: 50%;\n",
              "      cursor: pointer;\n",
              "      display: none;\n",
              "      fill: #1967D2;\n",
              "      height: 32px;\n",
              "      padding: 0 0 0 0;\n",
              "      width: 32px;\n",
              "    }\n",
              "\n",
              "    .colab-df-convert:hover {\n",
              "      background-color: #E2EBFA;\n",
              "      box-shadow: 0px 1px 2px rgba(60, 64, 67, 0.3), 0px 1px 3px 1px rgba(60, 64, 67, 0.15);\n",
              "      fill: #174EA6;\n",
              "    }\n",
              "\n",
              "    [theme=dark] .colab-df-convert {\n",
              "      background-color: #3B4455;\n",
              "      fill: #D2E3FC;\n",
              "    }\n",
              "\n",
              "    [theme=dark] .colab-df-convert:hover {\n",
              "      background-color: #434B5C;\n",
              "      box-shadow: 0px 1px 3px 1px rgba(0, 0, 0, 0.15);\n",
              "      filter: drop-shadow(0px 1px 2px rgba(0, 0, 0, 0.3));\n",
              "      fill: #FFFFFF;\n",
              "    }\n",
              "  </style>\n",
              "\n",
              "      <script>\n",
              "        const buttonEl =\n",
              "          document.querySelector('#df-4f625ff9-73a3-4189-9027-f70df292b023 button.colab-df-convert');\n",
              "        buttonEl.style.display =\n",
              "          google.colab.kernel.accessAllowed ? 'block' : 'none';\n",
              "\n",
              "        async function convertToInteractive(key) {\n",
              "          const element = document.querySelector('#df-4f625ff9-73a3-4189-9027-f70df292b023');\n",
              "          const dataTable =\n",
              "            await google.colab.kernel.invokeFunction('convertToInteractive',\n",
              "                                                     [key], {});\n",
              "          if (!dataTable) return;\n",
              "\n",
              "          const docLinkHtml = 'Like what you see? Visit the ' +\n",
              "            '<a target=\"_blank\" href=https://colab.research.google.com/notebooks/data_table.ipynb>data table notebook</a>'\n",
              "            + ' to learn more about interactive tables.';\n",
              "          element.innerHTML = '';\n",
              "          dataTable['output_type'] = 'display_data';\n",
              "          await google.colab.output.renderOutput(dataTable, element);\n",
              "          const docLink = document.createElement('div');\n",
              "          docLink.innerHTML = docLinkHtml;\n",
              "          element.appendChild(docLink);\n",
              "        }\n",
              "      </script>\n",
              "    </div>\n",
              "  </div>\n",
              "  "
            ]
          },
          "metadata": {},
          "execution_count": 37
        }
      ]
    },
    {
      "cell_type": "code",
      "source": [
        "train.shape\n"
      ],
      "metadata": {
        "colab": {
          "base_uri": "https://localhost:8080/"
        },
        "id": "eyDxzf8R9opN",
        "outputId": "94e876d4-e562-4850-cd7c-1d8ca0daaa43"
      },
      "execution_count": null,
      "outputs": [
        {
          "output_type": "execute_result",
          "data": {
            "text/plain": [
              "(543, 8)"
            ]
          },
          "metadata": {},
          "execution_count": 38
        }
      ]
    },
    {
      "cell_type": "code",
      "source": [
        "train.isna().sum()\n"
      ],
      "metadata": {
        "colab": {
          "base_uri": "https://localhost:8080/"
        },
        "id": "peU86VBp9rQ3",
        "outputId": "f1beb696-7055-42d3-fd76-364fa44f7793"
      },
      "execution_count": null,
      "outputs": [
        {
          "output_type": "execute_result",
          "data": {
            "text/plain": [
              "City                    0\n",
              "Location_Score          0\n",
              "Internal_Audit_Score    0\n",
              "External_Audit_Score    0\n",
              "Fin_Score               0\n",
              "Loss_score              0\n",
              "Past_Results            0\n",
              "IsUnderRisk             0\n",
              "dtype: int64"
            ]
          },
          "metadata": {},
          "execution_count": 39
        }
      ]
    },
    {
      "cell_type": "markdown",
      "source": [
        "#EDA\n"
      ],
      "metadata": {
        "id": "v4BSRmb69xd7"
      }
    },
    {
      "cell_type": "code",
      "source": [
        "train.describe()\n"
      ],
      "metadata": {
        "colab": {
          "base_uri": "https://localhost:8080/",
          "height": 300
        },
        "id": "T5AEEAwd9vV5",
        "outputId": "e565a032-6c04-4c1f-9968-56ad99e07d30"
      },
      "execution_count": null,
      "outputs": [
        {
          "output_type": "execute_result",
          "data": {
            "text/plain": [
              "             City  Location_Score  Internal_Audit_Score  External_Audit_Score  \\\n",
              "count  543.000000      543.000000            543.000000            543.000000   \n",
              "mean    19.576427       32.259346              8.189687              7.327808   \n",
              "std     14.722687       24.887291              3.312022              3.450667   \n",
              "min      0.000000        5.185000              3.000000              3.000000   \n",
              "25%      6.000000       13.565000              6.000000              5.000000   \n",
              "50%     14.000000       19.803000              8.000000              7.000000   \n",
              "75%     37.000000       62.594000             11.000000             10.000000   \n",
              "max     44.000000       80.809000             15.000000             15.000000   \n",
              "\n",
              "        Fin_Score  Loss_score  Past_Results  IsUnderRisk  \n",
              "count  543.000000  543.000000    543.000000   543.000000  \n",
              "mean     7.046041    5.530387      0.613260     0.626151  \n",
              "std      3.156978    1.839124      0.764509     0.484270  \n",
              "min      3.000000    3.000000      0.000000     0.000000  \n",
              "25%      5.000000    4.000000      0.000000     0.000000  \n",
              "50%      7.000000    6.000000      1.000000     1.000000  \n",
              "75%      8.000000    7.000000      1.000000     1.000000  \n",
              "max     15.000000   13.000000     10.000000     1.000000  "
            ],
            "text/html": [
              "\n",
              "  <div id=\"df-95e92d79-0eb3-4fc5-9dff-e4368c833808\">\n",
              "    <div class=\"colab-df-container\">\n",
              "      <div>\n",
              "<style scoped>\n",
              "    .dataframe tbody tr th:only-of-type {\n",
              "        vertical-align: middle;\n",
              "    }\n",
              "\n",
              "    .dataframe tbody tr th {\n",
              "        vertical-align: top;\n",
              "    }\n",
              "\n",
              "    .dataframe thead th {\n",
              "        text-align: right;\n",
              "    }\n",
              "</style>\n",
              "<table border=\"1\" class=\"dataframe\">\n",
              "  <thead>\n",
              "    <tr style=\"text-align: right;\">\n",
              "      <th></th>\n",
              "      <th>City</th>\n",
              "      <th>Location_Score</th>\n",
              "      <th>Internal_Audit_Score</th>\n",
              "      <th>External_Audit_Score</th>\n",
              "      <th>Fin_Score</th>\n",
              "      <th>Loss_score</th>\n",
              "      <th>Past_Results</th>\n",
              "      <th>IsUnderRisk</th>\n",
              "    </tr>\n",
              "  </thead>\n",
              "  <tbody>\n",
              "    <tr>\n",
              "      <th>count</th>\n",
              "      <td>543.000000</td>\n",
              "      <td>543.000000</td>\n",
              "      <td>543.000000</td>\n",
              "      <td>543.000000</td>\n",
              "      <td>543.000000</td>\n",
              "      <td>543.000000</td>\n",
              "      <td>543.000000</td>\n",
              "      <td>543.000000</td>\n",
              "    </tr>\n",
              "    <tr>\n",
              "      <th>mean</th>\n",
              "      <td>19.576427</td>\n",
              "      <td>32.259346</td>\n",
              "      <td>8.189687</td>\n",
              "      <td>7.327808</td>\n",
              "      <td>7.046041</td>\n",
              "      <td>5.530387</td>\n",
              "      <td>0.613260</td>\n",
              "      <td>0.626151</td>\n",
              "    </tr>\n",
              "    <tr>\n",
              "      <th>std</th>\n",
              "      <td>14.722687</td>\n",
              "      <td>24.887291</td>\n",
              "      <td>3.312022</td>\n",
              "      <td>3.450667</td>\n",
              "      <td>3.156978</td>\n",
              "      <td>1.839124</td>\n",
              "      <td>0.764509</td>\n",
              "      <td>0.484270</td>\n",
              "    </tr>\n",
              "    <tr>\n",
              "      <th>min</th>\n",
              "      <td>0.000000</td>\n",
              "      <td>5.185000</td>\n",
              "      <td>3.000000</td>\n",
              "      <td>3.000000</td>\n",
              "      <td>3.000000</td>\n",
              "      <td>3.000000</td>\n",
              "      <td>0.000000</td>\n",
              "      <td>0.000000</td>\n",
              "    </tr>\n",
              "    <tr>\n",
              "      <th>25%</th>\n",
              "      <td>6.000000</td>\n",
              "      <td>13.565000</td>\n",
              "      <td>6.000000</td>\n",
              "      <td>5.000000</td>\n",
              "      <td>5.000000</td>\n",
              "      <td>4.000000</td>\n",
              "      <td>0.000000</td>\n",
              "      <td>0.000000</td>\n",
              "    </tr>\n",
              "    <tr>\n",
              "      <th>50%</th>\n",
              "      <td>14.000000</td>\n",
              "      <td>19.803000</td>\n",
              "      <td>8.000000</td>\n",
              "      <td>7.000000</td>\n",
              "      <td>7.000000</td>\n",
              "      <td>6.000000</td>\n",
              "      <td>1.000000</td>\n",
              "      <td>1.000000</td>\n",
              "    </tr>\n",
              "    <tr>\n",
              "      <th>75%</th>\n",
              "      <td>37.000000</td>\n",
              "      <td>62.594000</td>\n",
              "      <td>11.000000</td>\n",
              "      <td>10.000000</td>\n",
              "      <td>8.000000</td>\n",
              "      <td>7.000000</td>\n",
              "      <td>1.000000</td>\n",
              "      <td>1.000000</td>\n",
              "    </tr>\n",
              "    <tr>\n",
              "      <th>max</th>\n",
              "      <td>44.000000</td>\n",
              "      <td>80.809000</td>\n",
              "      <td>15.000000</td>\n",
              "      <td>15.000000</td>\n",
              "      <td>15.000000</td>\n",
              "      <td>13.000000</td>\n",
              "      <td>10.000000</td>\n",
              "      <td>1.000000</td>\n",
              "    </tr>\n",
              "  </tbody>\n",
              "</table>\n",
              "</div>\n",
              "      <button class=\"colab-df-convert\" onclick=\"convertToInteractive('df-95e92d79-0eb3-4fc5-9dff-e4368c833808')\"\n",
              "              title=\"Convert this dataframe to an interactive table.\"\n",
              "              style=\"display:none;\">\n",
              "        \n",
              "  <svg xmlns=\"http://www.w3.org/2000/svg\" height=\"24px\"viewBox=\"0 0 24 24\"\n",
              "       width=\"24px\">\n",
              "    <path d=\"M0 0h24v24H0V0z\" fill=\"none\"/>\n",
              "    <path d=\"M18.56 5.44l.94 2.06.94-2.06 2.06-.94-2.06-.94-.94-2.06-.94 2.06-2.06.94zm-11 1L8.5 8.5l.94-2.06 2.06-.94-2.06-.94L8.5 2.5l-.94 2.06-2.06.94zm10 10l.94 2.06.94-2.06 2.06-.94-2.06-.94-.94-2.06-.94 2.06-2.06.94z\"/><path d=\"M17.41 7.96l-1.37-1.37c-.4-.4-.92-.59-1.43-.59-.52 0-1.04.2-1.43.59L10.3 9.45l-7.72 7.72c-.78.78-.78 2.05 0 2.83L4 21.41c.39.39.9.59 1.41.59.51 0 1.02-.2 1.41-.59l7.78-7.78 2.81-2.81c.8-.78.8-2.07 0-2.86zM5.41 20L4 18.59l7.72-7.72 1.47 1.35L5.41 20z\"/>\n",
              "  </svg>\n",
              "      </button>\n",
              "      \n",
              "  <style>\n",
              "    .colab-df-container {\n",
              "      display:flex;\n",
              "      flex-wrap:wrap;\n",
              "      gap: 12px;\n",
              "    }\n",
              "\n",
              "    .colab-df-convert {\n",
              "      background-color: #E8F0FE;\n",
              "      border: none;\n",
              "      border-radius: 50%;\n",
              "      cursor: pointer;\n",
              "      display: none;\n",
              "      fill: #1967D2;\n",
              "      height: 32px;\n",
              "      padding: 0 0 0 0;\n",
              "      width: 32px;\n",
              "    }\n",
              "\n",
              "    .colab-df-convert:hover {\n",
              "      background-color: #E2EBFA;\n",
              "      box-shadow: 0px 1px 2px rgba(60, 64, 67, 0.3), 0px 1px 3px 1px rgba(60, 64, 67, 0.15);\n",
              "      fill: #174EA6;\n",
              "    }\n",
              "\n",
              "    [theme=dark] .colab-df-convert {\n",
              "      background-color: #3B4455;\n",
              "      fill: #D2E3FC;\n",
              "    }\n",
              "\n",
              "    [theme=dark] .colab-df-convert:hover {\n",
              "      background-color: #434B5C;\n",
              "      box-shadow: 0px 1px 3px 1px rgba(0, 0, 0, 0.15);\n",
              "      filter: drop-shadow(0px 1px 2px rgba(0, 0, 0, 0.3));\n",
              "      fill: #FFFFFF;\n",
              "    }\n",
              "  </style>\n",
              "\n",
              "      <script>\n",
              "        const buttonEl =\n",
              "          document.querySelector('#df-95e92d79-0eb3-4fc5-9dff-e4368c833808 button.colab-df-convert');\n",
              "        buttonEl.style.display =\n",
              "          google.colab.kernel.accessAllowed ? 'block' : 'none';\n",
              "\n",
              "        async function convertToInteractive(key) {\n",
              "          const element = document.querySelector('#df-95e92d79-0eb3-4fc5-9dff-e4368c833808');\n",
              "          const dataTable =\n",
              "            await google.colab.kernel.invokeFunction('convertToInteractive',\n",
              "                                                     [key], {});\n",
              "          if (!dataTable) return;\n",
              "\n",
              "          const docLinkHtml = 'Like what you see? Visit the ' +\n",
              "            '<a target=\"_blank\" href=https://colab.research.google.com/notebooks/data_table.ipynb>data table notebook</a>'\n",
              "            + ' to learn more about interactive tables.';\n",
              "          element.innerHTML = '';\n",
              "          dataTable['output_type'] = 'display_data';\n",
              "          await google.colab.output.renderOutput(dataTable, element);\n",
              "          const docLink = document.createElement('div');\n",
              "          docLink.innerHTML = docLinkHtml;\n",
              "          element.appendChild(docLink);\n",
              "        }\n",
              "      </script>\n",
              "    </div>\n",
              "  </div>\n",
              "  "
            ]
          },
          "metadata": {},
          "execution_count": 41
        }
      ]
    },
    {
      "cell_type": "code",
      "source": [
        "sns.countplot(train['IsUnderRisk'], palette = 'pastel')\n",
        "plt.title('Count of target variable')\n",
        "plt.show()"
      ],
      "metadata": {
        "colab": {
          "base_uri": "https://localhost:8080/",
          "height": 295
        },
        "id": "1IZFqMSL932F",
        "outputId": "12028f45-8266-4068-e72b-73737a152e64"
      },
      "execution_count": null,
      "outputs": [
        {
          "output_type": "display_data",
          "data": {
            "text/plain": [
              "<Figure size 432x288 with 1 Axes>"
            ],
            "image/png": "[encoded data removed]"
          },
          "metadata": {
            "needs_background": "light"
          }
        }
      ]
    },
    {
      "cell_type": "code",
      "source": [
        "cont_var = ['Location_Score', 'Internal_Audit_Score', 'External_Audit_Score', 'Fin_Score', 'Loss_score']\n",
        "\n",
        "plt.figure(figsize = (10,5))\n",
        "sns.boxplot(data= train[cont_var], palette = 'pastel')\n",
        "plt.title('Boxplots ')\n",
        "plt.show()"
      ],
      "metadata": {
        "colab": {
          "base_uri": "https://localhost:8080/",
          "height": 337
        },
        "id": "LwfUM_Dk97GK",
        "outputId": "82d94607-5edf-4202-8ab7-02a191da3fb7"
      },
      "execution_count": null,
      "outputs": [
        {
          "output_type": "display_data",
          "data": {
            "text/plain": [
              "<Figure size 720x360 with 1 Axes>"
            ],
            "image/png": "[encoded data removed]"
          },
          "metadata": {
            "needs_background": "light"
          }
        }
      ]
    },
    {
      "cell_type": "markdown",
      "source": [
        "#Separating target variable\n"
      ],
      "metadata": {
        "id": "WvqkOmGz-OCz"
      }
    },
    {
      "cell_type": "code",
      "source": [
        "X = train.drop(['IsUnderRisk'], axis=1)\n",
        "y = pd.Series(train['IsUnderRisk'])"
      ],
      "metadata": {
        "id": "Wv_PMbyf-LUX"
      },
      "execution_count": null,
      "outputs": []
    },
    {
      "cell_type": "markdown",
      "source": [
        "#Normalizing Data\n"
      ],
      "metadata": {
        "id": "s4iAD6GB-T77"
      }
    },
    {
      "cell_type": "code",
      "source": [
        "scaler = MinMaxScaler()\n",
        "\n",
        "scaler.fit(X)\n",
        "X = scaler.transform(X)"
      ],
      "metadata": {
        "id": "DtI7SYda-WVW"
      },
      "execution_count": null,
      "outputs": []
    },
    {
      "cell_type": "markdown",
      "source": [
        "#Splitting into train & test\n"
      ],
      "metadata": {
        "id": "CKuJ5Q1H-aGd"
      }
    },
    {
      "cell_type": "code",
      "source": [
        "x_train, x_test, y_train, y_test =  train_test_split(X, y, test_size=0.20)\n"
      ],
      "metadata": {
        "id": "obkbchtz-bvT"
      },
      "execution_count": null,
      "outputs": []
    },
    {
      "cell_type": "markdown",
      "source": [
        "# DNN Model\n"
      ],
      "metadata": {
        "id": "ACE2dtiD-eqG"
      }
    },
    {
      "cell_type": "code",
      "source": [
        "import tensorflow as tf\n",
        "from tensorflow.keras.models import Sequential\n",
        "from tensorflow.keras.layers import InputLayer, Dense, Dropout\n",
        "from keras.callbacks import EarlyStopping"
      ],
      "metadata": {
        "id": "4bv1M18hZcGJ"
      },
      "execution_count": null,
      "outputs": []
    },
    {
      "cell_type": "code",
      "source": [
        "model = tf.keras.Sequential()\n",
        "model.add(Dense(128, input_shape=(7,),activation='relu'))\n",
        "model.add(Dropout(0.2))\n",
        "model.add(Dense(64, activation='relu'))\n",
        "model.add(Dense(32, activation='relu'))\n",
        "model.add(Dense(1, activation='sigmoid'))"
      ],
      "metadata": {
        "id": "8_cJkSAK-gVg"
      },
      "execution_count": null,
      "outputs": []
    },
    {
      "cell_type": "code",
      "source": [
        "model.compile(optimizer ='sgd', loss = 'binary_crossentropy', metrics=['accuracy'])\n"
      ],
      "metadata": {
        "id": "3rrmGWem-kfh"
      },
      "execution_count": null,
      "outputs": []
    },
    {
      "cell_type": "code",
      "source": [
        "early_stop = EarlyStopping(monitor='val_loss', verbose=1, patience=2)\n"
      ],
      "metadata": {
        "id": "63DhI4Gw-mw6"
      },
      "execution_count": null,
      "outputs": []
    },
    {
      "cell_type": "code",
      "source": [
        "history1 = model.fit(x=x_train, y=y_train, epochs=200, validation_data=(x_test, y_test), callbacks=[early_stop])\n"
      ],
      "metadata": {
        "colab": {
          "base_uri": "https://localhost:8080/"
        },
        "id": "oahq4rt2-pt8",
        "outputId": "27825eeb-41da-4ec1-c33a-d849533c7382"
      },
      "execution_count": null,
      "outputs": [
        {
          "output_type": "stream",
          "name": "stdout",
          "text": [
            "Epoch 1/200\n",
            "14/14 [==============================] - 1s 14ms/step - loss: 0.6707 - accuracy: 0.6406 - val_loss: 0.6714 - val_accuracy: 0.5688\n",
            "Epoch 2/200\n",
            "14/14 [==============================] - 0s 4ms/step - loss: 0.6628 - accuracy: 0.6429 - val_loss: 0.6656 - val_accuracy: 0.5688\n",
            "Epoch 3/200\n",
            "14/14 [==============================] - 0s 6ms/step - loss: 0.6526 - accuracy: 0.6452 - val_loss: 0.6599 - val_accuracy: 0.5688\n",
            "Epoch 4/200\n",
            "14/14 [==============================] - 0s 6ms/step - loss: 0.6464 - accuracy: 0.6406 - val_loss: 0.6549 - val_accuracy: 0.5688\n",
            "Epoch 5/200\n",
            "14/14 [==============================] - 0s 6ms/step - loss: 0.6398 - accuracy: 0.6406 - val_loss: 0.6501 - val_accuracy: 0.5688\n",
            "Epoch 6/200\n",
            "14/14 [==============================] - 0s 4ms/step - loss: 0.6359 - accuracy: 0.6406 - val_loss: 0.6455 - val_accuracy: 0.5688\n",
            "Epoch 7/200\n",
            "14/14 [==============================] - 0s 5ms/step - loss: 0.6255 - accuracy: 0.6406 - val_loss: 0.6411 - val_accuracy: 0.5688\n",
            "Epoch 8/200\n",
            "14/14 [==============================] - 0s 5ms/step - loss: 0.6190 - accuracy: 0.6406 - val_loss: 0.6370 - val_accuracy: 0.5688\n",
            "Epoch 9/200\n",
            "14/14 [==============================] - 0s 4ms/step - loss: 0.6150 - accuracy: 0.6406 - val_loss: 0.6327 - val_accuracy: 0.5688\n",
            "Epoch 10/200\n",
            "14/14 [==============================] - 0s 4ms/step - loss: 0.6075 - accuracy: 0.6406 - val_loss: 0.6285 - val_accuracy: 0.5688\n",
            "Epoch 11/200\n",
            "14/14 [==============================] - 0s 5ms/step - loss: 0.6055 - accuracy: 0.6406 - val_loss: 0.6240 - val_accuracy: 0.5688\n",
            "Epoch 12/200\n",
            "14/14 [==============================] - 0s 5ms/step - loss: 0.5975 - accuracy: 0.6406 - val_loss: 0.6192 - val_accuracy: 0.5688\n",
            "Epoch 13/200\n",
            "14/14 [==============================] - 0s 4ms/step - loss: 0.5916 - accuracy: 0.6406 - val_loss: 0.6142 - val_accuracy: 0.5688\n",
            "Epoch 14/200\n",
            "14/14 [==============================] - 0s 4ms/step - loss: 0.5874 - accuracy: 0.6406 - val_loss: 0.6092 - val_accuracy: 0.5688\n",
            "Epoch 15/200\n",
            "14/14 [==============================] - 0s 4ms/step - loss: 0.5825 - accuracy: 0.6406 - val_loss: 0.6042 - val_accuracy: 0.5688\n",
            "Epoch 16/200\n",
            "14/14 [==============================] - 0s 4ms/step - loss: 0.5752 - accuracy: 0.6406 - val_loss: 0.5987 - val_accuracy: 0.5688\n",
            "Epoch 17/200\n",
            "14/14 [==============================] - 0s 4ms/step - loss: 0.5704 - accuracy: 0.6406 - val_loss: 0.5933 - val_accuracy: 0.5688\n",
            "Epoch 18/200\n",
            "14/14 [==============================] - 0s 4ms/step - loss: 0.5645 - accuracy: 0.6406 - val_loss: 0.5870 - val_accuracy: 0.5688\n",
            "Epoch 19/200\n",
            "14/14 [==============================] - 0s 4ms/step - loss: 0.5571 - accuracy: 0.6382 - val_loss: 0.5812 - val_accuracy: 0.5780\n",
            "Epoch 20/200\n",
            "14/14 [==============================] - 0s 5ms/step - loss: 0.5526 - accuracy: 0.6406 - val_loss: 0.5753 - val_accuracy: 0.5780\n",
            "Epoch 21/200\n",
            "14/14 [==============================] - 0s 5ms/step - loss: 0.5487 - accuracy: 0.6475 - val_loss: 0.5693 - val_accuracy: 0.5872\n",
            "Epoch 22/200\n",
            "14/14 [==============================] - 0s 5ms/step - loss: 0.5409 - accuracy: 0.6590 - val_loss: 0.5630 - val_accuracy: 0.5872\n",
            "Epoch 23/200\n",
            "14/14 [==============================] - 0s 5ms/step - loss: 0.5369 - accuracy: 0.6498 - val_loss: 0.5574 - val_accuracy: 0.6055\n",
            "Epoch 24/200\n",
            "14/14 [==============================] - 0s 6ms/step - loss: 0.5314 - accuracy: 0.6613 - val_loss: 0.5513 - val_accuracy: 0.6422\n",
            "Epoch 25/200\n",
            "14/14 [==============================] - 0s 4ms/step - loss: 0.5253 - accuracy: 0.6751 - val_loss: 0.5446 - val_accuracy: 0.6330\n",
            "Epoch 26/200\n",
            "14/14 [==============================] - 0s 4ms/step - loss: 0.5234 - accuracy: 0.6866 - val_loss: 0.5386 - val_accuracy: 0.6422\n",
            "Epoch 27/200\n",
            "14/14 [==============================] - 0s 5ms/step - loss: 0.5113 - accuracy: 0.7097 - val_loss: 0.5329 - val_accuracy: 0.6789\n",
            "Epoch 28/200\n",
            "14/14 [==============================] - 0s 6ms/step - loss: 0.5152 - accuracy: 0.6843 - val_loss: 0.5264 - val_accuracy: 0.6881\n",
            "Epoch 29/200\n",
            "14/14 [==============================] - 0s 5ms/step - loss: 0.5040 - accuracy: 0.7189 - val_loss: 0.5207 - val_accuracy: 0.6972\n",
            "Epoch 30/200\n",
            "14/14 [==============================] - 0s 4ms/step - loss: 0.4969 - accuracy: 0.7327 - val_loss: 0.5147 - val_accuracy: 0.7064\n",
            "Epoch 31/200\n",
            "14/14 [==============================] - 0s 6ms/step - loss: 0.4957 - accuracy: 0.7304 - val_loss: 0.5097 - val_accuracy: 0.7064\n",
            "Epoch 32/200\n",
            "14/14 [==============================] - 0s 4ms/step - loss: 0.4916 - accuracy: 0.7558 - val_loss: 0.5048 - val_accuracy: 0.7156\n",
            "Epoch 33/200\n",
            "14/14 [==============================] - 0s 4ms/step - loss: 0.4861 - accuracy: 0.7373 - val_loss: 0.4991 - val_accuracy: 0.7431\n",
            "Epoch 34/200\n",
            "14/14 [==============================] - 0s 4ms/step - loss: 0.4792 - accuracy: 0.7558 - val_loss: 0.4940 - val_accuracy: 0.7431\n",
            "Epoch 35/200\n",
            "14/14 [==============================] - 0s 5ms/step - loss: 0.4744 - accuracy: 0.7719 - val_loss: 0.4885 - val_accuracy: 0.7523\n",
            "Epoch 36/200\n",
            "14/14 [==============================] - 0s 5ms/step - loss: 0.4707 - accuracy: 0.7581 - val_loss: 0.4834 - val_accuracy: 0.7523\n",
            "Epoch 37/200\n",
            "14/14 [==============================] - 0s 5ms/step - loss: 0.4652 - accuracy: 0.7719 - val_loss: 0.4783 - val_accuracy: 0.7523\n",
            "Epoch 38/200\n",
            "14/14 [==============================] - 0s 5ms/step - loss: 0.4619 - accuracy: 0.7627 - val_loss: 0.4732 - val_accuracy: 0.7706\n",
            "Epoch 39/200\n",
            "14/14 [==============================] - 0s 5ms/step - loss: 0.4554 - accuracy: 0.7903 - val_loss: 0.4687 - val_accuracy: 0.7706\n",
            "Epoch 40/200\n",
            "14/14 [==============================] - 0s 4ms/step - loss: 0.4495 - accuracy: 0.7857 - val_loss: 0.4647 - val_accuracy: 0.7615\n",
            "Epoch 41/200\n",
            "14/14 [==============================] - 0s 5ms/step - loss: 0.4510 - accuracy: 0.7857 - val_loss: 0.4600 - val_accuracy: 0.7798\n",
            "Epoch 42/200\n",
            "14/14 [==============================] - 0s 4ms/step - loss: 0.4487 - accuracy: 0.7926 - val_loss: 0.4562 - val_accuracy: 0.7798\n",
            "Epoch 43/200\n",
            "14/14 [==============================] - 0s 5ms/step - loss: 0.4430 - accuracy: 0.7880 - val_loss: 0.4518 - val_accuracy: 0.7798\n",
            "Epoch 44/200\n",
            "14/14 [==============================] - 0s 6ms/step - loss: 0.4424 - accuracy: 0.7880 - val_loss: 0.4473 - val_accuracy: 0.7798\n",
            "Epoch 45/200\n",
            "14/14 [==============================] - 0s 5ms/step - loss: 0.4395 - accuracy: 0.7972 - val_loss: 0.4435 - val_accuracy: 0.7798\n",
            "Epoch 46/200\n",
            "14/14 [==============================] - 0s 6ms/step - loss: 0.4263 - accuracy: 0.8088 - val_loss: 0.4400 - val_accuracy: 0.7798\n",
            "Epoch 47/200\n",
            "14/14 [==============================] - 0s 5ms/step - loss: 0.4271 - accuracy: 0.7972 - val_loss: 0.4362 - val_accuracy: 0.7890\n",
            "Epoch 48/200\n",
            "14/14 [==============================] - 0s 5ms/step - loss: 0.4282 - accuracy: 0.8088 - val_loss: 0.4322 - val_accuracy: 0.8165\n",
            "Epoch 49/200\n",
            "14/14 [==============================] - 0s 6ms/step - loss: 0.4246 - accuracy: 0.7949 - val_loss: 0.4287 - val_accuracy: 0.8257\n",
            "Epoch 50/200\n",
            "14/14 [==============================] - 0s 5ms/step - loss: 0.4231 - accuracy: 0.8111 - val_loss: 0.4253 - val_accuracy: 0.8257\n",
            "Epoch 51/200\n",
            "14/14 [==============================] - 0s 5ms/step - loss: 0.4142 - accuracy: 0.8134 - val_loss: 0.4221 - val_accuracy: 0.8257\n",
            "Epoch 52/200\n",
            "14/14 [==============================] - 0s 5ms/step - loss: 0.4108 - accuracy: 0.8065 - val_loss: 0.4195 - val_accuracy: 0.8257\n",
            "Epoch 53/200\n",
            "14/14 [==============================] - 0s 5ms/step - loss: 0.4114 - accuracy: 0.8065 - val_loss: 0.4162 - val_accuracy: 0.8257\n",
            "Epoch 54/200\n",
            "14/14 [==============================] - 0s 4ms/step - loss: 0.4063 - accuracy: 0.8157 - val_loss: 0.4138 - val_accuracy: 0.8257\n",
            "Epoch 55/200\n",
            "14/14 [==============================] - 0s 5ms/step - loss: 0.4050 - accuracy: 0.8088 - val_loss: 0.4104 - val_accuracy: 0.8257\n",
            "Epoch 56/200\n",
            "14/14 [==============================] - 0s 5ms/step - loss: 0.4103 - accuracy: 0.8041 - val_loss: 0.4080 - val_accuracy: 0.8165\n",
            "Epoch 57/200\n",
            "14/14 [==============================] - 0s 5ms/step - loss: 0.4012 - accuracy: 0.8203 - val_loss: 0.4052 - val_accuracy: 0.8073\n",
            "Epoch 58/200\n",
            "14/14 [==============================] - 0s 4ms/step - loss: 0.4027 - accuracy: 0.8111 - val_loss: 0.4027 - val_accuracy: 0.8073\n",
            "Epoch 59/200\n",
            "14/14 [==============================] - 0s 4ms/step - loss: 0.3958 - accuracy: 0.8249 - val_loss: 0.4004 - val_accuracy: 0.8073\n",
            "Epoch 60/200\n",
            "14/14 [==============================] - 0s 5ms/step - loss: 0.3979 - accuracy: 0.8226 - val_loss: 0.3984 - val_accuracy: 0.8073\n",
            "Epoch 61/200\n",
            "14/14 [==============================] - 0s 5ms/step - loss: 0.3989 - accuracy: 0.8134 - val_loss: 0.3960 - val_accuracy: 0.8073\n",
            "Epoch 62/200\n",
            "14/14 [==============================] - 0s 5ms/step - loss: 0.3969 - accuracy: 0.8180 - val_loss: 0.3939 - val_accuracy: 0.8073\n",
            "Epoch 63/200\n",
            "14/14 [==============================] - 0s 4ms/step - loss: 0.3932 - accuracy: 0.8203 - val_loss: 0.3921 - val_accuracy: 0.8073\n",
            "Epoch 64/200\n",
            "14/14 [==============================] - 0s 6ms/step - loss: 0.3925 - accuracy: 0.7903 - val_loss: 0.3904 - val_accuracy: 0.8073\n",
            "Epoch 65/200\n",
            "14/14 [==============================] - 0s 4ms/step - loss: 0.3898 - accuracy: 0.8180 - val_loss: 0.3885 - val_accuracy: 0.8073\n",
            "Epoch 66/200\n",
            "14/14 [==============================] - 0s 6ms/step - loss: 0.3936 - accuracy: 0.8272 - val_loss: 0.3871 - val_accuracy: 0.8073\n",
            "Epoch 67/200\n",
            "14/14 [==============================] - 0s 4ms/step - loss: 0.3865 - accuracy: 0.8180 - val_loss: 0.3852 - val_accuracy: 0.7982\n",
            "Epoch 68/200\n",
            "14/14 [==============================] - 0s 6ms/step - loss: 0.3989 - accuracy: 0.8018 - val_loss: 0.3840 - val_accuracy: 0.8073\n",
            "Epoch 69/200\n",
            "14/14 [==============================] - 0s 6ms/step - loss: 0.3855 - accuracy: 0.8088 - val_loss: 0.3825 - val_accuracy: 0.7982\n",
            "Epoch 70/200\n",
            "14/14 [==============================] - 0s 4ms/step - loss: 0.3917 - accuracy: 0.8180 - val_loss: 0.3813 - val_accuracy: 0.7982\n",
            "Epoch 71/200\n",
            "14/14 [==============================] - 0s 5ms/step - loss: 0.3859 - accuracy: 0.8134 - val_loss: 0.3796 - val_accuracy: 0.7982\n",
            "Epoch 72/200\n",
            "14/14 [==============================] - 0s 4ms/step - loss: 0.3760 - accuracy: 0.8272 - val_loss: 0.3791 - val_accuracy: 0.8165\n",
            "Epoch 73/200\n",
            "14/14 [==============================] - 0s 4ms/step - loss: 0.3756 - accuracy: 0.8272 - val_loss: 0.3778 - val_accuracy: 0.8165\n",
            "Epoch 74/200\n",
            "14/14 [==============================] - 0s 5ms/step - loss: 0.3760 - accuracy: 0.8180 - val_loss: 0.3763 - val_accuracy: 0.8073\n",
            "Epoch 75/200\n",
            "14/14 [==============================] - 0s 5ms/step - loss: 0.3757 - accuracy: 0.8134 - val_loss: 0.3749 - val_accuracy: 0.8073\n",
            "Epoch 76/200\n",
            "14/14 [==============================] - 0s 6ms/step - loss: 0.3799 - accuracy: 0.8111 - val_loss: 0.3740 - val_accuracy: 0.8073\n",
            "Epoch 77/200\n",
            "14/14 [==============================] - 0s 5ms/step - loss: 0.3827 - accuracy: 0.8180 - val_loss: 0.3720 - val_accuracy: 0.8257\n",
            "Epoch 78/200\n",
            "14/14 [==============================] - 0s 6ms/step - loss: 0.3764 - accuracy: 0.8364 - val_loss: 0.3716 - val_accuracy: 0.8349\n",
            "Epoch 79/200\n",
            "14/14 [==============================] - 0s 5ms/step - loss: 0.3817 - accuracy: 0.8203 - val_loss: 0.3703 - val_accuracy: 0.8349\n",
            "Epoch 80/200\n",
            "14/14 [==============================] - 0s 6ms/step - loss: 0.3749 - accuracy: 0.8088 - val_loss: 0.3698 - val_accuracy: 0.8349\n",
            "Epoch 81/200\n",
            "14/14 [==============================] - 0s 5ms/step - loss: 0.3757 - accuracy: 0.8249 - val_loss: 0.3686 - val_accuracy: 0.8349\n",
            "Epoch 82/200\n",
            "14/14 [==============================] - 0s 4ms/step - loss: 0.3774 - accuracy: 0.8180 - val_loss: 0.3676 - val_accuracy: 0.8349\n",
            "Epoch 83/200\n",
            "14/14 [==============================] - 0s 5ms/step - loss: 0.3748 - accuracy: 0.8249 - val_loss: 0.3670 - val_accuracy: 0.8349\n",
            "Epoch 84/200\n",
            "14/14 [==============================] - 0s 4ms/step - loss: 0.3809 - accuracy: 0.8180 - val_loss: 0.3659 - val_accuracy: 0.8440\n",
            "Epoch 85/200\n",
            "14/14 [==============================] - 0s 4ms/step - loss: 0.3745 - accuracy: 0.8180 - val_loss: 0.3653 - val_accuracy: 0.8440\n",
            "Epoch 86/200\n",
            "14/14 [==============================] - 0s 4ms/step - loss: 0.3704 - accuracy: 0.8249 - val_loss: 0.3645 - val_accuracy: 0.8440\n",
            "Epoch 87/200\n",
            "14/14 [==============================] - 0s 5ms/step - loss: 0.3712 - accuracy: 0.8203 - val_loss: 0.3639 - val_accuracy: 0.8440\n",
            "Epoch 88/200\n",
            "14/14 [==============================] - 0s 5ms/step - loss: 0.3690 - accuracy: 0.8180 - val_loss: 0.3632 - val_accuracy: 0.8440\n",
            "Epoch 89/200\n",
            "14/14 [==============================] - 0s 4ms/step - loss: 0.3693 - accuracy: 0.8203 - val_loss: 0.3630 - val_accuracy: 0.8440\n",
            "Epoch 90/200\n",
            "14/14 [==============================] - 0s 4ms/step - loss: 0.3653 - accuracy: 0.8272 - val_loss: 0.3620 - val_accuracy: 0.8440\n",
            "Epoch 91/200\n",
            "14/14 [==============================] - 0s 5ms/step - loss: 0.3704 - accuracy: 0.8272 - val_loss: 0.3618 - val_accuracy: 0.8440\n",
            "Epoch 92/200\n",
            "14/14 [==============================] - 0s 4ms/step - loss: 0.3828 - accuracy: 0.8157 - val_loss: 0.3610 - val_accuracy: 0.8440\n",
            "Epoch 93/200\n",
            "14/14 [==============================] - 0s 6ms/step - loss: 0.3699 - accuracy: 0.8180 - val_loss: 0.3605 - val_accuracy: 0.8532\n",
            "Epoch 94/200\n",
            "14/14 [==============================] - 0s 5ms/step - loss: 0.3755 - accuracy: 0.8272 - val_loss: 0.3600 - val_accuracy: 0.8440\n",
            "Epoch 95/200\n",
            "14/14 [==============================] - 0s 6ms/step - loss: 0.3653 - accuracy: 0.8249 - val_loss: 0.3598 - val_accuracy: 0.8440\n",
            "Epoch 96/200\n",
            "14/14 [==============================] - 0s 5ms/step - loss: 0.3655 - accuracy: 0.8226 - val_loss: 0.3588 - val_accuracy: 0.8440\n",
            "Epoch 97/200\n",
            "14/14 [==============================] - 0s 4ms/step - loss: 0.3728 - accuracy: 0.8249 - val_loss: 0.3585 - val_accuracy: 0.8532\n",
            "Epoch 98/200\n",
            "14/14 [==============================] - 0s 5ms/step - loss: 0.3678 - accuracy: 0.8180 - val_loss: 0.3580 - val_accuracy: 0.8440\n",
            "Epoch 99/200\n",
            "14/14 [==============================] - 0s 5ms/step - loss: 0.3717 - accuracy: 0.8318 - val_loss: 0.3575 - val_accuracy: 0.8440\n",
            "Epoch 100/200\n",
            "14/14 [==============================] - 0s 5ms/step - loss: 0.3732 - accuracy: 0.8249 - val_loss: 0.3573 - val_accuracy: 0.8440\n",
            "Epoch 101/200\n",
            "14/14 [==============================] - 0s 5ms/step - loss: 0.3589 - accuracy: 0.8249 - val_loss: 0.3566 - val_accuracy: 0.8532\n",
            "Epoch 102/200\n",
            "14/14 [==============================] - 0s 5ms/step - loss: 0.3666 - accuracy: 0.8088 - val_loss: 0.3562 - val_accuracy: 0.8532\n",
            "Epoch 103/200\n",
            "14/14 [==============================] - 0s 5ms/step - loss: 0.3647 - accuracy: 0.8226 - val_loss: 0.3561 - val_accuracy: 0.8440\n",
            "Epoch 104/200\n",
            "14/14 [==============================] - 0s 4ms/step - loss: 0.3617 - accuracy: 0.8410 - val_loss: 0.3567 - val_accuracy: 0.8440\n",
            "Epoch 105/200\n",
            "14/14 [==============================] - 0s 4ms/step - loss: 0.3638 - accuracy: 0.8272 - val_loss: 0.3560 - val_accuracy: 0.8440\n",
            "Epoch 106/200\n",
            "14/14 [==============================] - 0s 6ms/step - loss: 0.3637 - accuracy: 0.8203 - val_loss: 0.3548 - val_accuracy: 0.8440\n",
            "Epoch 107/200\n",
            "14/14 [==============================] - 0s 4ms/step - loss: 0.3596 - accuracy: 0.8272 - val_loss: 0.3550 - val_accuracy: 0.8440\n",
            "Epoch 108/200\n",
            "14/14 [==============================] - 0s 4ms/step - loss: 0.3623 - accuracy: 0.8272 - val_loss: 0.3548 - val_accuracy: 0.8440\n",
            "Epoch 108: early stopping\n"
          ]
        }
      ]
    },
    {
      "cell_type": "code",
      "source": [
        "plt.plot(history1.history['loss'], label=\"LOSS\")\n",
        "plt.plot(history1.history['accuracy'], label=\"ACCURACY\")\n",
        "plt.legend(loc='best')\n",
        "plt.show()"
      ],
      "metadata": {
        "colab": {
          "base_uri": "https://localhost:8080/",
          "height": 265
        },
        "id": "12Cg8hI_-5N8",
        "outputId": "f9596cd8-4f68-4638-e396-684882bb3e57"
      },
      "execution_count": null,
      "outputs": [
        {
          "output_type": "display_data",
          "data": {
            "text/plain": [
              "<Figure size 432x288 with 1 Axes>"
            ],
            "image/png": "[encoded data removed]"
          },
          "metadata": {
            "needs_background": "light"
          }
        }
      ]
    },
    {
      "cell_type": "code",
      "source": [
        "plt.plot(history1.history['val_loss'], label=\"VALIDATION LOSS\")\n",
        "plt.plot(history1.history['loss'], label=\"TRAINING LOSS\")\n",
        "plt.legend(loc='best')\n",
        "plt.show()"
      ],
      "metadata": {
        "colab": {
          "base_uri": "https://localhost:8080/",
          "height": 265
        },
        "id": "XFceejRh-8rt",
        "outputId": "f697e50e-45fb-4afa-823a-2def48f80150"
      },
      "execution_count": null,
      "outputs": [
        {
          "output_type": "display_data",
          "data": {
            "text/plain": [
              "<Figure size 432x288 with 1 Axes>"
            ],
            "image/png": "[encoded data removed]"
          },
          "metadata": {
            "needs_background": "light"
          }
        }
      ]
    },
    {
      "cell_type": "markdown",
      "source": [
        "#Predicting on test set\n"
      ],
      "metadata": {
        "id": "fJ7ClE3q-_LZ"
      }
    },
    {
      "cell_type": "code",
      "source": [
        "y_pred_prob = model.predict(x_test)\n"
      ],
      "metadata": {
        "id": "At7FGYeS_Azl"
      },
      "execution_count": null,
      "outputs": []
    },
    {
      "cell_type": "code",
      "source": [
        "y_pred = []\n",
        "for prob in y_pred_prob:\n",
        "    if prob >= 0.5:\n",
        "        y_pred.append(1)\n",
        "    else:\n",
        "        y_pred.append(0)"
      ],
      "metadata": {
        "id": "op99VWxq_EXz"
      },
      "execution_count": null,
      "outputs": []
    },
    {
      "cell_type": "code",
      "source": [
        "print(classification_report(y_test, y_pred))\n"
      ],
      "metadata": {
        "colab": {
          "base_uri": "https://localhost:8080/"
        },
        "id": "3f5BiGQa_KCf",
        "outputId": "c86402e7-ba28-423c-8d7a-0ba55c6611f6"
      },
      "execution_count": null,
      "outputs": [
        {
          "output_type": "stream",
          "name": "stdout",
          "text": [
            "              precision    recall  f1-score   support\n",
            "\n",
            "           0       0.80      0.85      0.82        47\n",
            "           1       0.88      0.84      0.86        62\n",
            "\n",
            "    accuracy                           0.84       109\n",
            "   macro avg       0.84      0.84      0.84       109\n",
            "weighted avg       0.85      0.84      0.84       109\n",
            "\n"
          ]
        }
      ]
    },
    {
      "cell_type": "markdown",
      "source": [
        "#ROC-AUC Score\n"
      ],
      "metadata": {
        "id": "p9DHVFT1_M82"
      }
    },
    {
      "cell_type": "code",
      "source": [
        "from sklearn.metrics import classification_report, confusion_matrix, roc_auc_score, log_loss\n"
      ],
      "metadata": {
        "id": "YHE7XlXzZQC2"
      },
      "execution_count": null,
      "outputs": []
    },
    {
      "cell_type": "code",
      "source": [
        "roc_auc = roc_auc_score(y_test, y_pred)\n",
        "print(\"ROC-AUC score is:\", np.round(roc_auc,2))"
      ],
      "metadata": {
        "colab": {
          "base_uri": "https://localhost:8080/"
        },
        "id": "TZV6CdK__OP6",
        "outputId": "ea844778-bebe-4282-b51a-968ae7c9138c"
      },
      "execution_count": null,
      "outputs": [
        {
          "output_type": "stream",
          "name": "stdout",
          "text": [
            "ROC-AUC score is: 0.84\n"
          ]
        }
      ]
    },
    {
      "cell_type": "code",
      "source": [
        "y_ = np.array(train['IsUnderRisk']).reshape(-1,1)\n",
        "\n",
        "encoder = OneHotEncoder(sparse=False)\n",
        "y = encoder.fit_transform(y_)"
      ],
      "metadata": {
        "id": "opdQnite_U2h"
      },
      "execution_count": null,
      "outputs": []
    },
    {
      "cell_type": "code",
      "source": [
        "x_train, x_test, y_train, y_test =  train_test_split(X, y, test_size=0.20)\n"
      ],
      "metadata": {
        "id": "RRtqj9ts_YTO"
      },
      "execution_count": null,
      "outputs": []
    },
    {
      "cell_type": "markdown",
      "source": [
        "#DNN Model 2\n"
      ],
      "metadata": {
        "id": "eJbIjBVB_aei"
      }
    },
    {
      "cell_type": "code",
      "source": [
        "model = tf.keras.Sequential()\n",
        "model.add(Dense(128, input_shape=(7,),activation='relu'))\n",
        "model.add(Dense(64, activation='relu'))\n",
        "model.add(Dense(16, activation='relu'))\n",
        "model.add(Dense(2, activation='softmax'))"
      ],
      "metadata": {
        "id": "tQq143Ho_b2u"
      },
      "execution_count": null,
      "outputs": []
    },
    {
      "cell_type": "code",
      "source": [
        "model.compile(optimizer ='sgd', loss = 'binary_crossentropy', metrics = ['accuracy'])\n"
      ],
      "metadata": {
        "id": "kjLJSRf1_gCQ"
      },
      "execution_count": null,
      "outputs": []
    },
    {
      "cell_type": "code",
      "source": [
        "history2 = model.fit(x=x_train, y=y_train, epochs=100)\n"
      ],
      "metadata": {
        "colab": {
          "base_uri": "https://localhost:8080/"
        },
        "id": "0dsVA3ko_h5Z",
        "outputId": "7c2dfcc9-bfea-4da0-cdab-99120b1105d7"
      },
      "execution_count": null,
      "outputs": [
        {
          "output_type": "stream",
          "name": "stdout",
          "text": [
            "Epoch 1/100\n",
            "14/14 [==============================] - 0s 3ms/step - loss: 0.5105 - accuracy: 0.7396\n",
            "Epoch 2/100\n",
            "14/14 [==============================] - 0s 3ms/step - loss: 0.5066 - accuracy: 0.7488\n",
            "Epoch 3/100\n",
            "14/14 [==============================] - 0s 3ms/step - loss: 0.5027 - accuracy: 0.7558\n",
            "Epoch 4/100\n",
            "14/14 [==============================] - 0s 4ms/step - loss: 0.4990 - accuracy: 0.7535\n",
            "Epoch 5/100\n",
            "14/14 [==============================] - 0s 3ms/step - loss: 0.4952 - accuracy: 0.7604\n",
            "Epoch 6/100\n",
            "14/14 [==============================] - 0s 3ms/step - loss: 0.4915 - accuracy: 0.7627\n",
            "Epoch 7/100\n",
            "14/14 [==============================] - 0s 3ms/step - loss: 0.4879 - accuracy: 0.7719\n",
            "Epoch 8/100\n",
            "14/14 [==============================] - 0s 3ms/step - loss: 0.4843 - accuracy: 0.7765\n",
            "Epoch 9/100\n",
            "14/14 [==============================] - 0s 3ms/step - loss: 0.4806 - accuracy: 0.7788\n",
            "Epoch 10/100\n",
            "14/14 [==============================] - 0s 3ms/step - loss: 0.4772 - accuracy: 0.7765\n",
            "Epoch 11/100\n",
            "14/14 [==============================] - 0s 3ms/step - loss: 0.4735 - accuracy: 0.7765\n",
            "Epoch 12/100\n",
            "14/14 [==============================] - 0s 3ms/step - loss: 0.4699 - accuracy: 0.7834\n",
            "Epoch 13/100\n",
            "14/14 [==============================] - 0s 3ms/step - loss: 0.4662 - accuracy: 0.7788\n",
            "Epoch 14/100\n",
            "14/14 [==============================] - 0s 3ms/step - loss: 0.4629 - accuracy: 0.7880\n",
            "Epoch 15/100\n",
            "14/14 [==============================] - 0s 3ms/step - loss: 0.4594 - accuracy: 0.7880\n",
            "Epoch 16/100\n",
            "14/14 [==============================] - 0s 3ms/step - loss: 0.4559 - accuracy: 0.7857\n",
            "Epoch 17/100\n",
            "14/14 [==============================] - 0s 3ms/step - loss: 0.4525 - accuracy: 0.7880\n",
            "Epoch 18/100\n",
            "14/14 [==============================] - 0s 3ms/step - loss: 0.4491 - accuracy: 0.7857\n",
            "Epoch 19/100\n",
            "14/14 [==============================] - 0s 3ms/step - loss: 0.4458 - accuracy: 0.7857\n",
            "Epoch 20/100\n",
            "14/14 [==============================] - 0s 3ms/step - loss: 0.4428 - accuracy: 0.7857\n",
            "Epoch 21/100\n",
            "14/14 [==============================] - 0s 3ms/step - loss: 0.4395 - accuracy: 0.7857\n",
            "Epoch 22/100\n",
            "14/14 [==============================] - 0s 3ms/step - loss: 0.4365 - accuracy: 0.7880\n",
            "Epoch 23/100\n",
            "14/14 [==============================] - 0s 3ms/step - loss: 0.4336 - accuracy: 0.7880\n",
            "Epoch 24/100\n",
            "14/14 [==============================] - 0s 3ms/step - loss: 0.4303 - accuracy: 0.7926\n",
            "Epoch 25/100\n",
            "14/14 [==============================] - 0s 3ms/step - loss: 0.4275 - accuracy: 0.7880\n",
            "Epoch 26/100\n",
            "14/14 [==============================] - 0s 3ms/step - loss: 0.4245 - accuracy: 0.7972\n",
            "Epoch 27/100\n",
            "14/14 [==============================] - 0s 3ms/step - loss: 0.4217 - accuracy: 0.7972\n",
            "Epoch 28/100\n",
            "14/14 [==============================] - 0s 3ms/step - loss: 0.4191 - accuracy: 0.7926\n",
            "Epoch 29/100\n",
            "14/14 [==============================] - 0s 3ms/step - loss: 0.4166 - accuracy: 0.7949\n",
            "Epoch 30/100\n",
            "14/14 [==============================] - 0s 3ms/step - loss: 0.4138 - accuracy: 0.7972\n",
            "Epoch 31/100\n",
            "14/14 [==============================] - 0s 3ms/step - loss: 0.4115 - accuracy: 0.7949\n",
            "Epoch 32/100\n",
            "14/14 [==============================] - 0s 3ms/step - loss: 0.4089 - accuracy: 0.7995\n",
            "Epoch 33/100\n",
            "14/14 [==============================] - 0s 3ms/step - loss: 0.4067 - accuracy: 0.8041\n",
            "Epoch 34/100\n",
            "14/14 [==============================] - 0s 3ms/step - loss: 0.4043 - accuracy: 0.8018\n",
            "Epoch 35/100\n",
            "14/14 [==============================] - 0s 3ms/step - loss: 0.4023 - accuracy: 0.8041\n",
            "Epoch 36/100\n",
            "14/14 [==============================] - 0s 3ms/step - loss: 0.3998 - accuracy: 0.8065\n",
            "Epoch 37/100\n",
            "14/14 [==============================] - 0s 3ms/step - loss: 0.3976 - accuracy: 0.8065\n",
            "Epoch 38/100\n",
            "14/14 [==============================] - 0s 3ms/step - loss: 0.3956 - accuracy: 0.8065\n",
            "Epoch 39/100\n",
            "14/14 [==============================] - 0s 3ms/step - loss: 0.3939 - accuracy: 0.8111\n",
            "Epoch 40/100\n",
            "14/14 [==============================] - 0s 3ms/step - loss: 0.3918 - accuracy: 0.8088\n",
            "Epoch 41/100\n",
            "14/14 [==============================] - 0s 3ms/step - loss: 0.3899 - accuracy: 0.8111\n",
            "Epoch 42/100\n",
            "14/14 [==============================] - 0s 3ms/step - loss: 0.3884 - accuracy: 0.8111\n",
            "Epoch 43/100\n",
            "14/14 [==============================] - 0s 3ms/step - loss: 0.3868 - accuracy: 0.8157\n",
            "Epoch 44/100\n",
            "14/14 [==============================] - 0s 3ms/step - loss: 0.3852 - accuracy: 0.8203\n",
            "Epoch 45/100\n",
            "14/14 [==============================] - 0s 3ms/step - loss: 0.3831 - accuracy: 0.8180\n",
            "Epoch 46/100\n",
            "14/14 [==============================] - 0s 3ms/step - loss: 0.3817 - accuracy: 0.8203\n",
            "Epoch 47/100\n",
            "14/14 [==============================] - 0s 3ms/step - loss: 0.3803 - accuracy: 0.8203\n",
            "Epoch 48/100\n",
            "14/14 [==============================] - 0s 3ms/step - loss: 0.3789 - accuracy: 0.8226\n",
            "Epoch 49/100\n",
            "14/14 [==============================] - 0s 3ms/step - loss: 0.3775 - accuracy: 0.8226\n",
            "Epoch 50/100\n",
            "14/14 [==============================] - 0s 3ms/step - loss: 0.3763 - accuracy: 0.8203\n",
            "Epoch 51/100\n",
            "14/14 [==============================] - 0s 3ms/step - loss: 0.3754 - accuracy: 0.8249\n",
            "Epoch 52/100\n",
            "14/14 [==============================] - 0s 3ms/step - loss: 0.3737 - accuracy: 0.8249\n",
            "Epoch 53/100\n",
            "14/14 [==============================] - 0s 3ms/step - loss: 0.3732 - accuracy: 0.8249\n",
            "Epoch 54/100\n",
            "14/14 [==============================] - 0s 3ms/step - loss: 0.3720 - accuracy: 0.8249\n",
            "Epoch 55/100\n",
            "14/14 [==============================] - 0s 3ms/step - loss: 0.3701 - accuracy: 0.8272\n",
            "Epoch 56/100\n",
            "14/14 [==============================] - 0s 3ms/step - loss: 0.3700 - accuracy: 0.8226\n",
            "Epoch 57/100\n",
            "14/14 [==============================] - 0s 3ms/step - loss: 0.3687 - accuracy: 0.8272\n",
            "Epoch 58/100\n",
            "14/14 [==============================] - 0s 3ms/step - loss: 0.3677 - accuracy: 0.8249\n",
            "Epoch 59/100\n",
            "14/14 [==============================] - 0s 3ms/step - loss: 0.3673 - accuracy: 0.8226\n",
            "Epoch 60/100\n",
            "14/14 [==============================] - 0s 3ms/step - loss: 0.3660 - accuracy: 0.8249\n",
            "Epoch 61/100\n",
            "14/14 [==============================] - 0s 3ms/step - loss: 0.3651 - accuracy: 0.8272\n",
            "Epoch 62/100\n",
            "14/14 [==============================] - 0s 3ms/step - loss: 0.3645 - accuracy: 0.8272\n",
            "Epoch 63/100\n",
            "14/14 [==============================] - 0s 3ms/step - loss: 0.3634 - accuracy: 0.8272\n",
            "Epoch 64/100\n",
            "14/14 [==============================] - 0s 3ms/step - loss: 0.3631 - accuracy: 0.8226\n",
            "Epoch 65/100\n",
            "14/14 [==============================] - 0s 3ms/step - loss: 0.3624 - accuracy: 0.8272\n",
            "Epoch 66/100\n",
            "14/14 [==============================] - 0s 3ms/step - loss: 0.3615 - accuracy: 0.8272\n",
            "Epoch 67/100\n",
            "14/14 [==============================] - 0s 3ms/step - loss: 0.3611 - accuracy: 0.8226\n",
            "Epoch 68/100\n",
            "14/14 [==============================] - 0s 3ms/step - loss: 0.3601 - accuracy: 0.8318\n",
            "Epoch 69/100\n",
            "14/14 [==============================] - 0s 3ms/step - loss: 0.3595 - accuracy: 0.8272\n",
            "Epoch 70/100\n",
            "14/14 [==============================] - 0s 3ms/step - loss: 0.3592 - accuracy: 0.8341\n",
            "Epoch 71/100\n",
            "14/14 [==============================] - 0s 3ms/step - loss: 0.3581 - accuracy: 0.8295\n",
            "Epoch 72/100\n",
            "14/14 [==============================] - 0s 3ms/step - loss: 0.3582 - accuracy: 0.8318\n",
            "Epoch 73/100\n",
            "14/14 [==============================] - 0s 3ms/step - loss: 0.3573 - accuracy: 0.8272\n",
            "Epoch 74/100\n",
            "14/14 [==============================] - 0s 3ms/step - loss: 0.3565 - accuracy: 0.8318\n",
            "Epoch 75/100\n",
            "14/14 [==============================] - 0s 3ms/step - loss: 0.3557 - accuracy: 0.8341\n",
            "Epoch 76/100\n",
            "14/14 [==============================] - 0s 3ms/step - loss: 0.3554 - accuracy: 0.8318\n",
            "Epoch 77/100\n",
            "14/14 [==============================] - 0s 3ms/step - loss: 0.3548 - accuracy: 0.8295\n",
            "Epoch 78/100\n",
            "14/14 [==============================] - 0s 3ms/step - loss: 0.3553 - accuracy: 0.8318\n",
            "Epoch 79/100\n",
            "14/14 [==============================] - 0s 3ms/step - loss: 0.3534 - accuracy: 0.8364\n",
            "Epoch 80/100\n",
            "14/14 [==============================] - 0s 3ms/step - loss: 0.3537 - accuracy: 0.8318\n",
            "Epoch 81/100\n",
            "14/14 [==============================] - 0s 3ms/step - loss: 0.3525 - accuracy: 0.8364\n",
            "Epoch 82/100\n",
            "14/14 [==============================] - 0s 3ms/step - loss: 0.3522 - accuracy: 0.8295\n",
            "Epoch 83/100\n",
            "14/14 [==============================] - 0s 3ms/step - loss: 0.3520 - accuracy: 0.8341\n",
            "Epoch 84/100\n",
            "14/14 [==============================] - 0s 3ms/step - loss: 0.3512 - accuracy: 0.8341\n",
            "Epoch 85/100\n",
            "14/14 [==============================] - 0s 3ms/step - loss: 0.3514 - accuracy: 0.8364\n",
            "Epoch 86/100\n",
            "14/14 [==============================] - 0s 3ms/step - loss: 0.3505 - accuracy: 0.8341\n",
            "Epoch 87/100\n",
            "14/14 [==============================] - 0s 3ms/step - loss: 0.3499 - accuracy: 0.8341\n",
            "Epoch 88/100\n",
            "14/14 [==============================] - 0s 3ms/step - loss: 0.3494 - accuracy: 0.8318\n",
            "Epoch 89/100\n",
            "14/14 [==============================] - 0s 3ms/step - loss: 0.3491 - accuracy: 0.8341\n",
            "Epoch 90/100\n",
            "14/14 [==============================] - 0s 3ms/step - loss: 0.3488 - accuracy: 0.8341\n",
            "Epoch 91/100\n",
            "14/14 [==============================] - 0s 3ms/step - loss: 0.3481 - accuracy: 0.8318\n",
            "Epoch 92/100\n",
            "14/14 [==============================] - 0s 3ms/step - loss: 0.3486 - accuracy: 0.8272\n",
            "Epoch 93/100\n",
            "14/14 [==============================] - 0s 3ms/step - loss: 0.3482 - accuracy: 0.8295\n",
            "Epoch 94/100\n",
            "14/14 [==============================] - 0s 3ms/step - loss: 0.3476 - accuracy: 0.8318\n",
            "Epoch 95/100\n",
            "14/14 [==============================] - 0s 3ms/step - loss: 0.3469 - accuracy: 0.8341\n",
            "Epoch 96/100\n",
            "14/14 [==============================] - 0s 3ms/step - loss: 0.3474 - accuracy: 0.8387\n",
            "Epoch 97/100\n",
            "14/14 [==============================] - 0s 3ms/step - loss: 0.3461 - accuracy: 0.8318\n",
            "Epoch 98/100\n",
            "14/14 [==============================] - 0s 3ms/step - loss: 0.3459 - accuracy: 0.8364\n",
            "Epoch 99/100\n",
            "14/14 [==============================] - 0s 3ms/step - loss: 0.3458 - accuracy: 0.8387\n",
            "Epoch 100/100\n",
            "14/14 [==============================] - 0s 3ms/step - loss: 0.3459 - accuracy: 0.8341\n"
          ]
        }
      ]
    },
    {
      "cell_type": "code",
      "source": [
        "plt.plot(range(100), history2.history['loss'], label=\"LOSS\")\n",
        "plt.plot(range(100), history2.history['accuracy'], label=\"ACCURACY\")\n",
        "plt.legend(loc='best')\n",
        "plt.show()"
      ],
      "metadata": {
        "colab": {
          "base_uri": "https://localhost:8080/",
          "height": 265
        },
        "id": "nsTzgT9f_onu",
        "outputId": "555420ed-6b96-4831-d704-3271b222763e"
      },
      "execution_count": null,
      "outputs": [
        {
          "output_type": "display_data",
          "data": {
            "text/plain": [
              "<Figure size 432x288 with 1 Axes>"
            ],
            "image/png": "[encoded data removed]"
          },
          "metadata": {
            "needs_background": "light"
          }
        }
      ]
    },
    {
      "cell_type": "markdown",
      "source": [
        " test set\n"
      ],
      "metadata": {
        "id": "kwsPhis3_tU1"
      }
    },
    {
      "cell_type": "code",
      "source": [
        "y_pred = model.predict(x_test)\n"
      ],
      "metadata": {
        "id": "Wd9_CJgF_sWq"
      },
      "execution_count": null,
      "outputs": []
    },
    {
      "cell_type": "markdown",
      "source": [
        "#Log loss Error \n"
      ],
      "metadata": {
        "id": "EgnLATQU_xin"
      }
    },
    {
      "cell_type": "code",
      "source": [
        "ll = log_loss(y_test, y_pred)\n",
        "print(\"Log-Loss Error for the DNN model-2 is\", np.round(ll,2))"
      ],
      "metadata": {
        "colab": {
          "base_uri": "https://localhost:8080/"
        },
        "id": "gNYhkgIt_y38",
        "outputId": "7ba5f8c5-520e-4a47-feb0-6aa49dd63876"
      },
      "execution_count": null,
      "outputs": [
        {
          "output_type": "stream",
          "name": "stdout",
          "text": [
            "Log-Loss Error for the DNN model-2 is 0.39\n"
          ]
        }
      ]
    },
    {
      "cell_type": "markdown",
      "source": [
        ""
      ],
      "metadata": {
        "id": "mzgY9WNx-NDQ"
      }
    }
  ]
}