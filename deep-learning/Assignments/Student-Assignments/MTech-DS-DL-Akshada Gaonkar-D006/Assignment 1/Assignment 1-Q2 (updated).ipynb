{
 "cells": [
  {
   "cell_type": "markdown",
   "metadata": {
    "_cell_guid": "b1076dfc-b9ad-4769-8c92-a6c4dae69d19",
    "_uuid": "8f2839f25d086af736a60e9eeb907d3b93b6e0e5"
   },
   "source": [
    "### Problem Statement\n",
    "For any organization, even the slightest chance of financial risk can not be ignored.\n",
    "Organizations conduct regular inspections on their expenditures and revenue to make sure that\n",
    "they do not fall below the critical limit. In this assignment, you as a data scientist must use the\n",
    "given data to predict whether an organization is under a possible financial risk or not.\n",
    "Given are 7 distinguishing factors that can provide insight into whether an organization may face\n",
    "a financial risk or not. Your objective as a data scientist is to build a machine learning model that\n",
    "can predict if an organization will fall under the risk using the given features."
   ]
  },
  {
   "cell_type": "markdown",
   "metadata": {},
   "source": [
    "### Contents \n",
    "\n",
    "1. EDA and preprocessing\n",
    "2. Dense Neural Network model (3 hidden layers, and 1 output neuron with sigmoid activation)\n",
    "3. Fit dropout layer with Early stopping, use SGD optimizer and binary cross-entropy\n",
    "4. AUC-ROC score for above DNN on a test set\n",
    "5. Dense Neural Network model (2 output neurons and softmax activation)\n",
    "6. Log loss score for above DNN on a test set"
   ]
  },
  {
   "cell_type": "markdown",
   "metadata": {},
   "source": [
    "### Importing libraries"
   ]
  },
  {
   "cell_type": "code",
   "execution_count": 1,
   "metadata": {
    "execution": {
     "iopub.execute_input": "2022-07-23T07:03:25.023804Z",
     "iopub.status.busy": "2022-07-23T07:03:25.022618Z",
     "iopub.status.idle": "2022-07-23T07:03:27.358714Z",
     "shell.execute_reply": "2022-07-23T07:03:27.357881Z",
     "shell.execute_reply.started": "2022-07-23T07:03:25.023694Z"
    }
   },
   "outputs": [],
   "source": [
    "#Data preprocessing \n",
    "import pandas as pd\n",
    "import numpy as np\n",
    "import matplotlib.pyplot as plt\n",
    "import seaborn as sns\n",
    "from sklearn.model_selection import train_test_split\n",
    "from sklearn.preprocessing import OneHotEncoder\n",
    "from sklearn.preprocessing import MinMaxScaler\n",
    "\n",
    "#Neural Network\n",
    "import tensorflow as tf\n",
    "from tensorflow.keras.models import Sequential\n",
    "from tensorflow.keras.layers import InputLayer, Dense, Dropout\n",
    "from keras.callbacks import EarlyStopping\n",
    "\n",
    "#Evaluation \n",
    "from sklearn.metrics import classification_report, confusion_matrix, roc_auc_score, log_loss\n",
    "\n",
    "import warnings\n",
    "warnings.filterwarnings('ignore')"
   ]
  },
  {
   "cell_type": "markdown",
   "metadata": {},
   "source": [
    "### Understanding data"
   ]
  },
  {
   "cell_type": "code",
   "execution_count": 2,
   "metadata": {
    "execution": {
     "iopub.execute_input": "2022-07-23T07:03:27.363670Z",
     "iopub.status.busy": "2022-07-23T07:03:27.363170Z",
     "iopub.status.idle": "2022-07-23T07:03:27.383927Z",
     "shell.execute_reply": "2022-07-23T07:03:27.383162Z",
     "shell.execute_reply.started": "2022-07-23T07:03:27.363640Z"
    }
   },
   "outputs": [],
   "source": [
    "train = pd.read_csv(r\"C:\\Users\\akshada\\Downloads\\DL-Assignment 1-Train.csv\")"
   ]
  },
  {
   "cell_type": "code",
   "execution_count": 3,
   "metadata": {
    "execution": {
     "iopub.execute_input": "2022-07-23T07:03:27.385388Z",
     "iopub.status.busy": "2022-07-23T07:03:27.385032Z",
     "iopub.status.idle": "2022-07-23T07:03:27.405818Z",
     "shell.execute_reply": "2022-07-23T07:03:27.405022Z",
     "shell.execute_reply.started": "2022-07-23T07:03:27.385348Z"
    }
   },
   "outputs": [
    {
     "data": {
      "text/html": [
       "<div>\n",
       "<style scoped>\n",
       "    .dataframe tbody tr th:only-of-type {\n",
       "        vertical-align: middle;\n",
       "    }\n",
       "\n",
       "    .dataframe tbody tr th {\n",
       "        vertical-align: top;\n",
       "    }\n",
       "\n",
       "    .dataframe thead th {\n",
       "        text-align: right;\n",
       "    }\n",
       "</style>\n",
       "<table border=\"1\" class=\"dataframe\">\n",
       "  <thead>\n",
       "    <tr style=\"text-align: right;\">\n",
       "      <th></th>\n",
       "      <th>City</th>\n",
       "      <th>Location_Score</th>\n",
       "      <th>Internal_Audit_Score</th>\n",
       "      <th>External_Audit_Score</th>\n",
       "      <th>Fin_Score</th>\n",
       "      <th>Loss_score</th>\n",
       "      <th>Past_Results</th>\n",
       "      <th>IsUnderRisk</th>\n",
       "    </tr>\n",
       "  </thead>\n",
       "  <tbody>\n",
       "    <tr>\n",
       "      <th>0</th>\n",
       "      <td>2</td>\n",
       "      <td>8.032</td>\n",
       "      <td>14</td>\n",
       "      <td>8</td>\n",
       "      <td>3</td>\n",
       "      <td>6</td>\n",
       "      <td>0</td>\n",
       "      <td>1</td>\n",
       "    </tr>\n",
       "    <tr>\n",
       "      <th>1</th>\n",
       "      <td>31</td>\n",
       "      <td>77.730</td>\n",
       "      <td>8</td>\n",
       "      <td>3</td>\n",
       "      <td>3</td>\n",
       "      <td>8</td>\n",
       "      <td>1</td>\n",
       "      <td>0</td>\n",
       "    </tr>\n",
       "    <tr>\n",
       "      <th>2</th>\n",
       "      <td>40</td>\n",
       "      <td>59.203</td>\n",
       "      <td>3</td>\n",
       "      <td>12</td>\n",
       "      <td>11</td>\n",
       "      <td>3</td>\n",
       "      <td>0</td>\n",
       "      <td>1</td>\n",
       "    </tr>\n",
       "    <tr>\n",
       "      <th>3</th>\n",
       "      <td>12</td>\n",
       "      <td>73.080</td>\n",
       "      <td>4</td>\n",
       "      <td>5</td>\n",
       "      <td>7</td>\n",
       "      <td>6</td>\n",
       "      <td>0</td>\n",
       "      <td>0</td>\n",
       "    </tr>\n",
       "    <tr>\n",
       "      <th>4</th>\n",
       "      <td>4</td>\n",
       "      <td>15.666</td>\n",
       "      <td>13</td>\n",
       "      <td>15</td>\n",
       "      <td>6</td>\n",
       "      <td>7</td>\n",
       "      <td>2</td>\n",
       "      <td>1</td>\n",
       "    </tr>\n",
       "  </tbody>\n",
       "</table>\n",
       "</div>"
      ],
      "text/plain": [
       "   City  Location_Score  Internal_Audit_Score  External_Audit_Score  \\\n",
       "0     2           8.032                    14                     8   \n",
       "1    31          77.730                     8                     3   \n",
       "2    40          59.203                     3                    12   \n",
       "3    12          73.080                     4                     5   \n",
       "4     4          15.666                    13                    15   \n",
       "\n",
       "   Fin_Score  Loss_score  Past_Results  IsUnderRisk  \n",
       "0          3           6             0            1  \n",
       "1          3           8             1            0  \n",
       "2         11           3             0            1  \n",
       "3          7           6             0            0  \n",
       "4          6           7             2            1  "
      ]
     },
     "execution_count": 3,
     "metadata": {},
     "output_type": "execute_result"
    }
   ],
   "source": [
    "train.head()"
   ]
  },
  {
   "cell_type": "code",
   "execution_count": 4,
   "metadata": {
    "execution": {
     "iopub.execute_input": "2022-07-23T07:03:27.408980Z",
     "iopub.status.busy": "2022-07-23T07:03:27.408289Z",
     "iopub.status.idle": "2022-07-23T07:03:27.414657Z",
     "shell.execute_reply": "2022-07-23T07:03:27.413755Z",
     "shell.execute_reply.started": "2022-07-23T07:03:27.408951Z"
    }
   },
   "outputs": [
    {
     "data": {
      "text/plain": [
       "(543, 8)"
      ]
     },
     "execution_count": 4,
     "metadata": {},
     "output_type": "execute_result"
    }
   ],
   "source": [
    "train.shape"
   ]
  },
  {
   "cell_type": "code",
   "execution_count": 5,
   "metadata": {
    "execution": {
     "iopub.execute_input": "2022-07-23T07:03:27.416719Z",
     "iopub.status.busy": "2022-07-23T07:03:27.416087Z",
     "iopub.status.idle": "2022-07-23T07:03:27.427060Z",
     "shell.execute_reply": "2022-07-23T07:03:27.426231Z",
     "shell.execute_reply.started": "2022-07-23T07:03:27.416681Z"
    }
   },
   "outputs": [
    {
     "data": {
      "text/plain": [
       "City                    0\n",
       "Location_Score          0\n",
       "Internal_Audit_Score    0\n",
       "External_Audit_Score    0\n",
       "Fin_Score               0\n",
       "Loss_score              0\n",
       "Past_Results            0\n",
       "IsUnderRisk             0\n",
       "dtype: int64"
      ]
     },
     "execution_count": 5,
     "metadata": {},
     "output_type": "execute_result"
    }
   ],
   "source": [
    "train.isna().sum()"
   ]
  },
  {
   "cell_type": "code",
   "execution_count": 6,
   "metadata": {
    "execution": {
     "iopub.execute_input": "2022-07-23T07:03:27.428983Z",
     "iopub.status.busy": "2022-07-23T07:03:27.428693Z",
     "iopub.status.idle": "2022-07-23T07:03:27.440239Z",
     "shell.execute_reply": "2022-07-23T07:03:27.439430Z",
     "shell.execute_reply.started": "2022-07-23T07:03:27.428957Z"
    }
   },
   "outputs": [
    {
     "data": {
      "text/plain": [
       "City                      int64\n",
       "Location_Score          float64\n",
       "Internal_Audit_Score      int64\n",
       "External_Audit_Score      int64\n",
       "Fin_Score                 int64\n",
       "Loss_score                int64\n",
       "Past_Results              int64\n",
       "IsUnderRisk               int64\n",
       "dtype: object"
      ]
     },
     "execution_count": 6,
     "metadata": {},
     "output_type": "execute_result"
    }
   ],
   "source": [
    "train.dtypes"
   ]
  },
  {
   "cell_type": "markdown",
   "metadata": {},
   "source": [
    "### EDA\n",
    "\n",
    "#### Univariate Analysis "
   ]
  },
  {
   "cell_type": "code",
   "execution_count": 7,
   "metadata": {
    "execution": {
     "iopub.execute_input": "2022-07-23T07:03:27.442279Z",
     "iopub.status.busy": "2022-07-23T07:03:27.441855Z",
     "iopub.status.idle": "2022-07-23T07:03:27.488437Z",
     "shell.execute_reply": "2022-07-23T07:03:27.487689Z",
     "shell.execute_reply.started": "2022-07-23T07:03:27.442238Z"
    }
   },
   "outputs": [
    {
     "data": {
      "text/html": [
       "<div>\n",
       "<style scoped>\n",
       "    .dataframe tbody tr th:only-of-type {\n",
       "        vertical-align: middle;\n",
       "    }\n",
       "\n",
       "    .dataframe tbody tr th {\n",
       "        vertical-align: top;\n",
       "    }\n",
       "\n",
       "    .dataframe thead th {\n",
       "        text-align: right;\n",
       "    }\n",
       "</style>\n",
       "<table border=\"1\" class=\"dataframe\">\n",
       "  <thead>\n",
       "    <tr style=\"text-align: right;\">\n",
       "      <th></th>\n",
       "      <th>City</th>\n",
       "      <th>Location_Score</th>\n",
       "      <th>Internal_Audit_Score</th>\n",
       "      <th>External_Audit_Score</th>\n",
       "      <th>Fin_Score</th>\n",
       "      <th>Loss_score</th>\n",
       "      <th>Past_Results</th>\n",
       "      <th>IsUnderRisk</th>\n",
       "    </tr>\n",
       "  </thead>\n",
       "  <tbody>\n",
       "    <tr>\n",
       "      <th>count</th>\n",
       "      <td>543.000000</td>\n",
       "      <td>543.000000</td>\n",
       "      <td>543.000000</td>\n",
       "      <td>543.000000</td>\n",
       "      <td>543.000000</td>\n",
       "      <td>543.000000</td>\n",
       "      <td>543.000000</td>\n",
       "      <td>543.000000</td>\n",
       "    </tr>\n",
       "    <tr>\n",
       "      <th>mean</th>\n",
       "      <td>19.576427</td>\n",
       "      <td>32.259346</td>\n",
       "      <td>8.189687</td>\n",
       "      <td>7.327808</td>\n",
       "      <td>7.046041</td>\n",
       "      <td>5.530387</td>\n",
       "      <td>0.613260</td>\n",
       "      <td>0.626151</td>\n",
       "    </tr>\n",
       "    <tr>\n",
       "      <th>std</th>\n",
       "      <td>14.722687</td>\n",
       "      <td>24.887291</td>\n",
       "      <td>3.312022</td>\n",
       "      <td>3.450667</td>\n",
       "      <td>3.156978</td>\n",
       "      <td>1.839124</td>\n",
       "      <td>0.764509</td>\n",
       "      <td>0.484270</td>\n",
       "    </tr>\n",
       "    <tr>\n",
       "      <th>min</th>\n",
       "      <td>0.000000</td>\n",
       "      <td>5.185000</td>\n",
       "      <td>3.000000</td>\n",
       "      <td>3.000000</td>\n",
       "      <td>3.000000</td>\n",
       "      <td>3.000000</td>\n",
       "      <td>0.000000</td>\n",
       "      <td>0.000000</td>\n",
       "    </tr>\n",
       "    <tr>\n",
       "      <th>25%</th>\n",
       "      <td>6.000000</td>\n",
       "      <td>13.565000</td>\n",
       "      <td>6.000000</td>\n",
       "      <td>5.000000</td>\n",
       "      <td>5.000000</td>\n",
       "      <td>4.000000</td>\n",
       "      <td>0.000000</td>\n",
       "      <td>0.000000</td>\n",
       "    </tr>\n",
       "    <tr>\n",
       "      <th>50%</th>\n",
       "      <td>14.000000</td>\n",
       "      <td>19.803000</td>\n",
       "      <td>8.000000</td>\n",
       "      <td>7.000000</td>\n",
       "      <td>7.000000</td>\n",
       "      <td>6.000000</td>\n",
       "      <td>1.000000</td>\n",
       "      <td>1.000000</td>\n",
       "    </tr>\n",
       "    <tr>\n",
       "      <th>75%</th>\n",
       "      <td>37.000000</td>\n",
       "      <td>62.594000</td>\n",
       "      <td>11.000000</td>\n",
       "      <td>10.000000</td>\n",
       "      <td>8.000000</td>\n",
       "      <td>7.000000</td>\n",
       "      <td>1.000000</td>\n",
       "      <td>1.000000</td>\n",
       "    </tr>\n",
       "    <tr>\n",
       "      <th>max</th>\n",
       "      <td>44.000000</td>\n",
       "      <td>80.809000</td>\n",
       "      <td>15.000000</td>\n",
       "      <td>15.000000</td>\n",
       "      <td>15.000000</td>\n",
       "      <td>13.000000</td>\n",
       "      <td>10.000000</td>\n",
       "      <td>1.000000</td>\n",
       "    </tr>\n",
       "  </tbody>\n",
       "</table>\n",
       "</div>"
      ],
      "text/plain": [
       "             City  Location_Score  Internal_Audit_Score  External_Audit_Score  \\\n",
       "count  543.000000      543.000000            543.000000            543.000000   \n",
       "mean    19.576427       32.259346              8.189687              7.327808   \n",
       "std     14.722687       24.887291              3.312022              3.450667   \n",
       "min      0.000000        5.185000              3.000000              3.000000   \n",
       "25%      6.000000       13.565000              6.000000              5.000000   \n",
       "50%     14.000000       19.803000              8.000000              7.000000   \n",
       "75%     37.000000       62.594000             11.000000             10.000000   \n",
       "max     44.000000       80.809000             15.000000             15.000000   \n",
       "\n",
       "        Fin_Score  Loss_score  Past_Results  IsUnderRisk  \n",
       "count  543.000000  543.000000    543.000000   543.000000  \n",
       "mean     7.046041    5.530387      0.613260     0.626151  \n",
       "std      3.156978    1.839124      0.764509     0.484270  \n",
       "min      3.000000    3.000000      0.000000     0.000000  \n",
       "25%      5.000000    4.000000      0.000000     0.000000  \n",
       "50%      7.000000    6.000000      1.000000     1.000000  \n",
       "75%      8.000000    7.000000      1.000000     1.000000  \n",
       "max     15.000000   13.000000     10.000000     1.000000  "
      ]
     },
     "execution_count": 7,
     "metadata": {},
     "output_type": "execute_result"
    }
   ],
   "source": [
    "train.describe()"
   ]
  },
  {
   "cell_type": "code",
   "execution_count": 8,
   "metadata": {
    "execution": {
     "iopub.execute_input": "2022-07-23T07:03:27.490168Z",
     "iopub.status.busy": "2022-07-23T07:03:27.489687Z",
     "iopub.status.idle": "2022-07-23T07:03:27.680699Z",
     "shell.execute_reply": "2022-07-23T07:03:27.679666Z",
     "shell.execute_reply.started": "2022-07-23T07:03:27.490138Z"
    }
   },
   "outputs": [
    {
     "data": {
      "image/png": "[encoded data removed]",
      "text/plain": [
       "<Figure size 432x288 with 1 Axes>"
      ]
     },
     "metadata": {
      "needs_background": "light"
     },
     "output_type": "display_data"
    }
   ],
   "source": [
    "sns.countplot(train['IsUnderRisk'], palette = 'pastel')\n",
    "plt.title('Count of target variable (Is Under Risk)')\n",
    "plt.show()"
   ]
  },
  {
   "cell_type": "code",
   "execution_count": 9,
   "metadata": {
    "execution": {
     "iopub.execute_input": "2022-07-23T07:03:27.682750Z",
     "iopub.status.busy": "2022-07-23T07:03:27.682249Z",
     "iopub.status.idle": "2022-07-23T07:03:27.937604Z",
     "shell.execute_reply": "2022-07-23T07:03:27.936835Z",
     "shell.execute_reply.started": "2022-07-23T07:03:27.682719Z"
    }
   },
   "outputs": [
    {
     "data": {
      "image/png": "[encoded data removed]",
      "text/plain": [
       "<Figure size 1440x720 with 1 Axes>"
      ]
     },
     "metadata": {
      "needs_background": "light"
     },
     "output_type": "display_data"
    }
   ],
   "source": [
    "cont_var = ['Location_Score', 'Internal_Audit_Score', 'External_Audit_Score', 'Fin_Score', 'Loss_score']\n",
    "\n",
    "plt.figure(figsize = (20,10))\n",
    "sns.boxplot(data= train[cont_var], palette = 'pastel')\n",
    "plt.title('Boxplots for continuous variables')\n",
    "plt.show()"
   ]
  },
  {
   "cell_type": "code",
   "execution_count": 10,
   "metadata": {
    "execution": {
     "iopub.execute_input": "2022-07-23T07:03:27.939407Z",
     "iopub.status.busy": "2022-07-23T07:03:27.938884Z",
     "iopub.status.idle": "2022-07-23T07:03:28.828764Z",
     "shell.execute_reply": "2022-07-23T07:03:28.827564Z",
     "shell.execute_reply.started": "2022-07-23T07:03:27.939377Z"
    }
   },
   "outputs": [
    {
     "data": {
      "image/png": "[encoded data removed]",
      "text/plain": [
       "<Figure size 1440x720 with 5 Axes>"
      ]
     },
     "metadata": {
      "needs_background": "light"
     },
     "output_type": "display_data"
    }
   ],
   "source": [
    "clr = sns.color_palette(\"pastel\")\n",
    "\n",
    "plt.figure(figsize=(20,10))\n",
    "for i,j in zip(range(1,6),cont_var):\n",
    "    plt.subplot(2,3,i)\n",
    "    sns.histplot(train[j], label=j, color=clr[i-1])\n",
    "    plt.legend()\n",
    "    plt.plot()\n"
   ]
  },
  {
   "cell_type": "code",
   "execution_count": 11,
   "metadata": {
    "execution": {
     "iopub.execute_input": "2022-07-23T07:03:28.830672Z",
     "iopub.status.busy": "2022-07-23T07:03:28.830201Z",
     "iopub.status.idle": "2022-07-23T07:03:29.403933Z",
     "shell.execute_reply": "2022-07-23T07:03:29.403162Z",
     "shell.execute_reply.started": "2022-07-23T07:03:28.830629Z"
    }
   },
   "outputs": [
    {
     "data": {
      "image/png": "[encoded data removed]",
      "text/plain": [
       "<Figure size 1080x720 with 2 Axes>"
      ]
     },
     "metadata": {
      "needs_background": "light"
     },
     "output_type": "display_data"
    }
   ],
   "source": [
    "discrete_var = ['City', 'Past_Results']\n",
    "\n",
    "plt.figure(figsize = (15,10))\n",
    "\n",
    "plt.subplot(2,1,1)\n",
    "sns.countplot(train[discrete_var[0]], palette = 'pastel')\n",
    "plt.title('Counts for discrete variables')\n",
    "\n",
    "plt.subplot(2,1,2)\n",
    "sns.countplot(train[discrete_var[1]], palette = 'pastel')\n",
    "\n",
    "plt.show()"
   ]
  },
  {
   "cell_type": "markdown",
   "metadata": {},
   "source": [
    "#### Bivariate Analysis"
   ]
  },
  {
   "cell_type": "code",
   "execution_count": 12,
   "metadata": {
    "execution": {
     "iopub.execute_input": "2022-07-23T07:03:29.406054Z",
     "iopub.status.busy": "2022-07-23T07:03:29.405288Z",
     "iopub.status.idle": "2022-07-23T07:03:29.973866Z",
     "shell.execute_reply": "2022-07-23T07:03:29.972659Z",
     "shell.execute_reply.started": "2022-07-23T07:03:29.406014Z"
    }
   },
   "outputs": [
    {
     "data": {
      "image/png": "[encoded data removed]",
      "text/plain": [
       "<Figure size 1080x720 with 2 Axes>"
      ]
     },
     "metadata": {
      "needs_background": "light"
     },
     "output_type": "display_data"
    }
   ],
   "source": [
    "corr = train.corr()\n",
    "\n",
    "plt.figure(figsize = (15,10))\n",
    "sns.heatmap(corr, annot=True, cmap='Pastel1_r', square=True)\n",
    "plt.title('Correlation Matrix')\n",
    "plt.show()"
   ]
  },
  {
   "cell_type": "code",
   "execution_count": null,
   "metadata": {},
   "outputs": [],
   "source": []
  },
  {
   "cell_type": "markdown",
   "metadata": {},
   "source": [
    "### Separating target variable "
   ]
  },
  {
   "cell_type": "code",
   "execution_count": 13,
   "metadata": {
    "execution": {
     "iopub.execute_input": "2022-07-23T07:03:29.977671Z",
     "iopub.status.busy": "2022-07-23T07:03:29.977342Z",
     "iopub.status.idle": "2022-07-23T07:03:29.983736Z",
     "shell.execute_reply": "2022-07-23T07:03:29.982745Z",
     "shell.execute_reply.started": "2022-07-23T07:03:29.977644Z"
    }
   },
   "outputs": [],
   "source": [
    "X = train.drop(['IsUnderRisk'], axis=1)\n",
    "y = pd.Series(train['IsUnderRisk'])"
   ]
  },
  {
   "cell_type": "markdown",
   "metadata": {},
   "source": [
    "### Normalizing Data"
   ]
  },
  {
   "cell_type": "code",
   "execution_count": 14,
   "metadata": {
    "execution": {
     "iopub.execute_input": "2022-07-23T07:03:29.986084Z",
     "iopub.status.busy": "2022-07-23T07:03:29.985194Z",
     "iopub.status.idle": "2022-07-23T07:03:29.997045Z",
     "shell.execute_reply": "2022-07-23T07:03:29.996146Z",
     "shell.execute_reply.started": "2022-07-23T07:03:29.986041Z"
    }
   },
   "outputs": [],
   "source": [
    "scaler = MinMaxScaler()\n",
    "\n",
    "scaler.fit(X)\n",
    "X = scaler.transform(X)"
   ]
  },
  {
   "cell_type": "markdown",
   "metadata": {},
   "source": [
    "### Splitting into train & test "
   ]
  },
  {
   "cell_type": "code",
   "execution_count": 15,
   "metadata": {
    "execution": {
     "iopub.execute_input": "2022-07-23T07:03:29.999122Z",
     "iopub.status.busy": "2022-07-23T07:03:29.998745Z",
     "iopub.status.idle": "2022-07-23T07:03:30.007938Z",
     "shell.execute_reply": "2022-07-23T07:03:30.007052Z",
     "shell.execute_reply.started": "2022-07-23T07:03:29.999009Z"
    }
   },
   "outputs": [],
   "source": [
    "x_train, x_test, y_train, y_test =  train_test_split(X, y, test_size=0.20)"
   ]
  },
  {
   "cell_type": "markdown",
   "metadata": {},
   "source": [
    "## Building DNN Model (1)"
   ]
  },
  {
   "cell_type": "code",
   "execution_count": 16,
   "metadata": {
    "execution": {
     "iopub.execute_input": "2022-07-23T07:10:45.947699Z",
     "iopub.status.busy": "2022-07-23T07:10:45.947005Z",
     "iopub.status.idle": "2022-07-23T07:10:45.988718Z",
     "shell.execute_reply": "2022-07-23T07:10:45.987630Z",
     "shell.execute_reply.started": "2022-07-23T07:10:45.947661Z"
    }
   },
   "outputs": [],
   "source": [
    "model = tf.keras.Sequential()\n",
    "model.add(Dense(128, input_shape=(7,),activation='relu'))\n",
    "model.add(Dropout(0.2))\n",
    "model.add(Dense(64, activation='relu'))\n",
    "model.add(Dense(32, activation='relu'))\n",
    "model.add(Dense(1, activation='sigmoid'))"
   ]
  },
  {
   "cell_type": "code",
   "execution_count": 17,
   "metadata": {
    "execution": {
     "iopub.execute_input": "2022-07-23T07:10:50.900933Z",
     "iopub.status.busy": "2022-07-23T07:10:50.900547Z",
     "iopub.status.idle": "2022-07-23T07:10:50.913781Z",
     "shell.execute_reply": "2022-07-23T07:10:50.912561Z",
     "shell.execute_reply.started": "2022-07-23T07:10:50.900897Z"
    }
   },
   "outputs": [],
   "source": [
    "model.compile(optimizer ='sgd', loss = 'binary_crossentropy', metrics=['accuracy'])"
   ]
  },
  {
   "cell_type": "code",
   "execution_count": 18,
   "metadata": {
    "execution": {
     "iopub.execute_input": "2022-07-23T07:10:51.486199Z",
     "iopub.status.busy": "2022-07-23T07:10:51.485404Z",
     "iopub.status.idle": "2022-07-23T07:10:51.490046Z",
     "shell.execute_reply": "2022-07-23T07:10:51.489352Z",
     "shell.execute_reply.started": "2022-07-23T07:10:51.486164Z"
    }
   },
   "outputs": [],
   "source": [
    "early_stop = EarlyStopping(monitor='val_loss', verbose=1, patience=2)"
   ]
  },
  {
   "cell_type": "code",
   "execution_count": 19,
   "metadata": {
    "execution": {
     "iopub.execute_input": "2022-07-23T07:10:52.331317Z",
     "iopub.status.busy": "2022-07-23T07:10:52.330745Z",
     "iopub.status.idle": "2022-07-23T07:10:58.388284Z",
     "shell.execute_reply": "2022-07-23T07:10:58.387238Z",
     "shell.execute_reply.started": "2022-07-23T07:10:52.331276Z"
    },
    "scrolled": false
   },
   "outputs": [
    {
     "name": "stdout",
     "output_type": "stream",
     "text": [
      "Epoch 1/200\n",
      "14/14 [==============================] - 0s 9ms/step - loss: 0.6848 - accuracy: 0.6083 - val_loss: 0.6800 - val_accuracy: 0.6147\n",
      "Epoch 2/200\n",
      "14/14 [==============================] - 0s 2ms/step - loss: 0.6753 - accuracy: 0.6267 - val_loss: 0.6729 - val_accuracy: 0.6147\n",
      "Epoch 3/200\n",
      "14/14 [==============================] - 0s 2ms/step - loss: 0.6689 - accuracy: 0.6290 - val_loss: 0.6667 - val_accuracy: 0.6147\n",
      "Epoch 4/200\n",
      "14/14 [==============================] - 0s 2ms/step - loss: 0.6628 - accuracy: 0.6290 - val_loss: 0.6617 - val_accuracy: 0.6147\n",
      "Epoch 5/200\n",
      "14/14 [==============================] - 0s 2ms/step - loss: 0.6590 - accuracy: 0.6290 - val_loss: 0.6575 - val_accuracy: 0.6147\n",
      "Epoch 6/200\n",
      "14/14 [==============================] - 0s 2ms/step - loss: 0.6538 - accuracy: 0.6290 - val_loss: 0.6537 - val_accuracy: 0.6147\n",
      "Epoch 7/200\n",
      "14/14 [==============================] - 0s 3ms/step - loss: 0.6508 - accuracy: 0.6290 - val_loss: 0.6503 - val_accuracy: 0.6147\n",
      "Epoch 8/200\n",
      "14/14 [==============================] - 0s 2ms/step - loss: 0.6456 - accuracy: 0.6290 - val_loss: 0.6470 - val_accuracy: 0.6147\n",
      "Epoch 9/200\n",
      "14/14 [==============================] - 0s 2ms/step - loss: 0.6427 - accuracy: 0.6290 - val_loss: 0.6439 - val_accuracy: 0.6147\n",
      "Epoch 10/200\n",
      "14/14 [==============================] - 0s 2ms/step - loss: 0.6399 - accuracy: 0.6290 - val_loss: 0.6409 - val_accuracy: 0.6147\n",
      "Epoch 11/200\n",
      "14/14 [==============================] - 0s 2ms/step - loss: 0.6352 - accuracy: 0.6290 - val_loss: 0.6379 - val_accuracy: 0.6147\n",
      "Epoch 12/200\n",
      "14/14 [==============================] - 0s 3ms/step - loss: 0.6353 - accuracy: 0.6290 - val_loss: 0.6351 - val_accuracy: 0.6147\n",
      "Epoch 13/200\n",
      "14/14 [==============================] - 0s 2ms/step - loss: 0.6303 - accuracy: 0.6290 - val_loss: 0.6323 - val_accuracy: 0.6147\n",
      "Epoch 14/200\n",
      "14/14 [==============================] - 0s 2ms/step - loss: 0.6273 - accuracy: 0.6290 - val_loss: 0.6295 - val_accuracy: 0.6147\n",
      "Epoch 15/200\n",
      "14/14 [==============================] - 0s 2ms/step - loss: 0.6226 - accuracy: 0.6290 - val_loss: 0.6265 - val_accuracy: 0.6147\n",
      "Epoch 16/200\n",
      "14/14 [==============================] - 0s 2ms/step - loss: 0.6204 - accuracy: 0.6290 - val_loss: 0.6236 - val_accuracy: 0.6147\n",
      "Epoch 17/200\n",
      "14/14 [==============================] - 0s 3ms/step - loss: 0.6156 - accuracy: 0.6290 - val_loss: 0.6205 - val_accuracy: 0.6147\n",
      "Epoch 18/200\n",
      "14/14 [==============================] - 0s 3ms/step - loss: 0.6125 - accuracy: 0.6290 - val_loss: 0.6174 - val_accuracy: 0.6147\n",
      "Epoch 19/200\n",
      "14/14 [==============================] - 0s 2ms/step - loss: 0.6092 - accuracy: 0.6290 - val_loss: 0.6142 - val_accuracy: 0.6147\n",
      "Epoch 20/200\n",
      "14/14 [==============================] - 0s 3ms/step - loss: 0.6072 - accuracy: 0.6290 - val_loss: 0.6107 - val_accuracy: 0.6147\n",
      "Epoch 21/200\n",
      "14/14 [==============================] - 0s 3ms/step - loss: 0.6041 - accuracy: 0.6290 - val_loss: 0.6071 - val_accuracy: 0.6147\n",
      "Epoch 22/200\n",
      "14/14 [==============================] - 0s 2ms/step - loss: 0.5985 - accuracy: 0.6290 - val_loss: 0.6032 - val_accuracy: 0.6147\n",
      "Epoch 23/200\n",
      "14/14 [==============================] - 0s 2ms/step - loss: 0.5972 - accuracy: 0.6290 - val_loss: 0.5993 - val_accuracy: 0.6147\n",
      "Epoch 24/200\n",
      "14/14 [==============================] - 0s 2ms/step - loss: 0.5949 - accuracy: 0.6290 - val_loss: 0.5952 - val_accuracy: 0.6147\n",
      "Epoch 25/200\n",
      "14/14 [==============================] - 0s 2ms/step - loss: 0.5921 - accuracy: 0.6290 - val_loss: 0.5909 - val_accuracy: 0.6147\n",
      "Epoch 26/200\n",
      "14/14 [==============================] - 0s 2ms/step - loss: 0.5860 - accuracy: 0.6290 - val_loss: 0.5860 - val_accuracy: 0.6147\n",
      "Epoch 27/200\n",
      "14/14 [==============================] - 0s 3ms/step - loss: 0.5802 - accuracy: 0.6290 - val_loss: 0.5810 - val_accuracy: 0.6147\n",
      "Epoch 28/200\n",
      "14/14 [==============================] - 0s 2ms/step - loss: 0.5780 - accuracy: 0.6290 - val_loss: 0.5758 - val_accuracy: 0.6147\n",
      "Epoch 29/200\n",
      "14/14 [==============================] - 0s 2ms/step - loss: 0.5703 - accuracy: 0.6267 - val_loss: 0.5699 - val_accuracy: 0.6147\n",
      "Epoch 30/200\n",
      "14/14 [==============================] - 0s 2ms/step - loss: 0.5673 - accuracy: 0.6313 - val_loss: 0.5635 - val_accuracy: 0.6147\n",
      "Epoch 31/200\n",
      "14/14 [==============================] - 0s 2ms/step - loss: 0.5585 - accuracy: 0.6313 - val_loss: 0.5569 - val_accuracy: 0.6147\n",
      "Epoch 32/200\n",
      "14/14 [==============================] - 0s 2ms/step - loss: 0.5567 - accuracy: 0.6382 - val_loss: 0.5501 - val_accuracy: 0.6422\n",
      "Epoch 33/200\n",
      "14/14 [==============================] - 0s 2ms/step - loss: 0.5450 - accuracy: 0.6613 - val_loss: 0.5436 - val_accuracy: 0.6881\n",
      "Epoch 34/200\n",
      "14/14 [==============================] - 0s 2ms/step - loss: 0.5458 - accuracy: 0.6590 - val_loss: 0.5373 - val_accuracy: 0.7248\n",
      "Epoch 35/200\n",
      "14/14 [==============================] - 0s 3ms/step - loss: 0.5385 - accuracy: 0.6590 - val_loss: 0.5308 - val_accuracy: 0.7431\n",
      "Epoch 36/200\n",
      "14/14 [==============================] - 0s 3ms/step - loss: 0.5303 - accuracy: 0.6935 - val_loss: 0.5242 - val_accuracy: 0.7339\n",
      "Epoch 37/200\n",
      "14/14 [==============================] - 0s 2ms/step - loss: 0.5251 - accuracy: 0.7212 - val_loss: 0.5179 - val_accuracy: 0.7339\n",
      "Epoch 38/200\n",
      "14/14 [==============================] - 0s 2ms/step - loss: 0.5176 - accuracy: 0.7189 - val_loss: 0.5117 - val_accuracy: 0.7339\n",
      "Epoch 39/200\n",
      "14/14 [==============================] - 0s 3ms/step - loss: 0.5131 - accuracy: 0.7097 - val_loss: 0.5052 - val_accuracy: 0.7615\n",
      "Epoch 40/200\n",
      "14/14 [==============================] - 0s 2ms/step - loss: 0.5069 - accuracy: 0.7488 - val_loss: 0.4990 - val_accuracy: 0.7523\n",
      "Epoch 41/200\n",
      "14/14 [==============================] - 0s 2ms/step - loss: 0.5037 - accuracy: 0.7396 - val_loss: 0.4929 - val_accuracy: 0.7706\n",
      "Epoch 42/200\n",
      "14/14 [==============================] - 0s 2ms/step - loss: 0.4937 - accuracy: 0.7535 - val_loss: 0.4868 - val_accuracy: 0.7798\n",
      "Epoch 43/200\n",
      "14/14 [==============================] - 0s 2ms/step - loss: 0.4940 - accuracy: 0.7581 - val_loss: 0.4808 - val_accuracy: 0.7890\n",
      "Epoch 44/200\n",
      "14/14 [==============================] - 0s 2ms/step - loss: 0.4863 - accuracy: 0.7719 - val_loss: 0.4752 - val_accuracy: 0.7890\n",
      "Epoch 45/200\n",
      "14/14 [==============================] - 0s 2ms/step - loss: 0.4839 - accuracy: 0.7604 - val_loss: 0.4698 - val_accuracy: 0.7982\n",
      "Epoch 46/200\n",
      "14/14 [==============================] - 0s 2ms/step - loss: 0.4743 - accuracy: 0.7834 - val_loss: 0.4642 - val_accuracy: 0.7982\n",
      "Epoch 47/200\n",
      "14/14 [==============================] - 0s 3ms/step - loss: 0.4634 - accuracy: 0.7834 - val_loss: 0.4587 - val_accuracy: 0.8073\n",
      "Epoch 48/200\n",
      "14/14 [==============================] - 0s 3ms/step - loss: 0.4678 - accuracy: 0.7903 - val_loss: 0.4534 - val_accuracy: 0.7982\n",
      "Epoch 49/200\n",
      "14/14 [==============================] - 0s 3ms/step - loss: 0.4635 - accuracy: 0.7949 - val_loss: 0.4482 - val_accuracy: 0.8073\n",
      "Epoch 50/200\n",
      "14/14 [==============================] - 0s 3ms/step - loss: 0.4534 - accuracy: 0.7903 - val_loss: 0.4430 - val_accuracy: 0.8073\n",
      "Epoch 51/200\n",
      "14/14 [==============================] - 0s 3ms/step - loss: 0.4556 - accuracy: 0.7834 - val_loss: 0.4383 - val_accuracy: 0.8073\n",
      "Epoch 52/200\n",
      "14/14 [==============================] - 0s 3ms/step - loss: 0.4452 - accuracy: 0.7995 - val_loss: 0.4336 - val_accuracy: 0.8165\n",
      "Epoch 53/200\n",
      "14/14 [==============================] - 0s 3ms/step - loss: 0.4460 - accuracy: 0.8065 - val_loss: 0.4291 - val_accuracy: 0.8165\n",
      "Epoch 54/200\n",
      "14/14 [==============================] - 0s 3ms/step - loss: 0.4405 - accuracy: 0.7857 - val_loss: 0.4252 - val_accuracy: 0.8165\n",
      "Epoch 55/200\n",
      "14/14 [==============================] - 0s 3ms/step - loss: 0.4376 - accuracy: 0.7880 - val_loss: 0.4207 - val_accuracy: 0.8165\n",
      "Epoch 56/200\n",
      "14/14 [==============================] - 0s 3ms/step - loss: 0.4281 - accuracy: 0.8134 - val_loss: 0.4160 - val_accuracy: 0.8165\n",
      "Epoch 57/200\n",
      "14/14 [==============================] - 0s 3ms/step - loss: 0.4296 - accuracy: 0.7857 - val_loss: 0.4120 - val_accuracy: 0.8165\n",
      "Epoch 58/200\n",
      "14/14 [==============================] - 0s 3ms/step - loss: 0.4283 - accuracy: 0.7972 - val_loss: 0.4086 - val_accuracy: 0.8257\n"
     ]
    },
    {
     "name": "stdout",
     "output_type": "stream",
     "text": [
      "Epoch 59/200\n",
      "14/14 [==============================] - 0s 3ms/step - loss: 0.4225 - accuracy: 0.7926 - val_loss: 0.4050 - val_accuracy: 0.8257\n",
      "Epoch 60/200\n",
      "14/14 [==============================] - 0s 4ms/step - loss: 0.4196 - accuracy: 0.7995 - val_loss: 0.4016 - val_accuracy: 0.8257\n",
      "Epoch 61/200\n",
      "14/14 [==============================] - 0s 3ms/step - loss: 0.4192 - accuracy: 0.8041 - val_loss: 0.3985 - val_accuracy: 0.8257\n",
      "Epoch 62/200\n",
      "14/14 [==============================] - 0s 3ms/step - loss: 0.4128 - accuracy: 0.7972 - val_loss: 0.3952 - val_accuracy: 0.8349\n",
      "Epoch 63/200\n",
      "14/14 [==============================] - 0s 3ms/step - loss: 0.4151 - accuracy: 0.7995 - val_loss: 0.3924 - val_accuracy: 0.8349\n",
      "Epoch 64/200\n",
      "14/14 [==============================] - 0s 4ms/step - loss: 0.4113 - accuracy: 0.8041 - val_loss: 0.3900 - val_accuracy: 0.8440\n",
      "Epoch 65/200\n",
      "14/14 [==============================] - 0s 4ms/step - loss: 0.4103 - accuracy: 0.8088 - val_loss: 0.3872 - val_accuracy: 0.8440\n",
      "Epoch 66/200\n",
      "14/14 [==============================] - 0s 3ms/step - loss: 0.4089 - accuracy: 0.8041 - val_loss: 0.3846 - val_accuracy: 0.8440\n",
      "Epoch 67/200\n",
      "14/14 [==============================] - 0s 3ms/step - loss: 0.4018 - accuracy: 0.8180 - val_loss: 0.3822 - val_accuracy: 0.8440\n",
      "Epoch 68/200\n",
      "14/14 [==============================] - 0s 3ms/step - loss: 0.4050 - accuracy: 0.8041 - val_loss: 0.3798 - val_accuracy: 0.8440\n",
      "Epoch 69/200\n",
      "14/14 [==============================] - 0s 3ms/step - loss: 0.4031 - accuracy: 0.8065 - val_loss: 0.3779 - val_accuracy: 0.8532\n",
      "Epoch 70/200\n",
      "14/14 [==============================] - 0s 3ms/step - loss: 0.3991 - accuracy: 0.7995 - val_loss: 0.3767 - val_accuracy: 0.8624\n",
      "Epoch 71/200\n",
      "14/14 [==============================] - 0s 3ms/step - loss: 0.4007 - accuracy: 0.8180 - val_loss: 0.3739 - val_accuracy: 0.8532\n",
      "Epoch 72/200\n",
      "14/14 [==============================] - 0s 3ms/step - loss: 0.3948 - accuracy: 0.8249 - val_loss: 0.3719 - val_accuracy: 0.8532\n",
      "Epoch 73/200\n",
      "14/14 [==============================] - 0s 3ms/step - loss: 0.3937 - accuracy: 0.8157 - val_loss: 0.3703 - val_accuracy: 0.8532\n",
      "Epoch 74/200\n",
      "14/14 [==============================] - 0s 3ms/step - loss: 0.4049 - accuracy: 0.8018 - val_loss: 0.3687 - val_accuracy: 0.8532\n",
      "Epoch 75/200\n",
      "14/14 [==============================] - 0s 3ms/step - loss: 0.3927 - accuracy: 0.8065 - val_loss: 0.3672 - val_accuracy: 0.8624\n",
      "Epoch 76/200\n",
      "14/14 [==============================] - 0s 3ms/step - loss: 0.3930 - accuracy: 0.8157 - val_loss: 0.3653 - val_accuracy: 0.8532\n",
      "Epoch 77/200\n",
      "14/14 [==============================] - 0s 3ms/step - loss: 0.3894 - accuracy: 0.8249 - val_loss: 0.3638 - val_accuracy: 0.8532\n",
      "Epoch 78/200\n",
      "14/14 [==============================] - 0s 3ms/step - loss: 0.3887 - accuracy: 0.8134 - val_loss: 0.3625 - val_accuracy: 0.8624\n",
      "Epoch 79/200\n",
      "14/14 [==============================] - 0s 3ms/step - loss: 0.3870 - accuracy: 0.8111 - val_loss: 0.3618 - val_accuracy: 0.8624\n",
      "Epoch 80/200\n",
      "14/14 [==============================] - 0s 3ms/step - loss: 0.3876 - accuracy: 0.8203 - val_loss: 0.3601 - val_accuracy: 0.8624\n",
      "Epoch 81/200\n",
      "14/14 [==============================] - 0s 3ms/step - loss: 0.3836 - accuracy: 0.8157 - val_loss: 0.3589 - val_accuracy: 0.8624\n",
      "Epoch 82/200\n",
      "14/14 [==============================] - 0s 3ms/step - loss: 0.3814 - accuracy: 0.8226 - val_loss: 0.3581 - val_accuracy: 0.8532\n",
      "Epoch 83/200\n",
      "14/14 [==============================] - 0s 3ms/step - loss: 0.3803 - accuracy: 0.8226 - val_loss: 0.3571 - val_accuracy: 0.8532\n",
      "Epoch 84/200\n",
      "14/14 [==============================] - 0s 4ms/step - loss: 0.3804 - accuracy: 0.8180 - val_loss: 0.3564 - val_accuracy: 0.8532\n",
      "Epoch 85/200\n",
      "14/14 [==============================] - 0s 3ms/step - loss: 0.3851 - accuracy: 0.8272 - val_loss: 0.3556 - val_accuracy: 0.8624\n",
      "Epoch 86/200\n",
      "14/14 [==============================] - 0s 4ms/step - loss: 0.3773 - accuracy: 0.8134 - val_loss: 0.3546 - val_accuracy: 0.8624\n",
      "Epoch 87/200\n",
      "14/14 [==============================] - 0s 4ms/step - loss: 0.3814 - accuracy: 0.8203 - val_loss: 0.3537 - val_accuracy: 0.8624\n",
      "Epoch 88/200\n",
      "14/14 [==============================] - 0s 3ms/step - loss: 0.3799 - accuracy: 0.8272 - val_loss: 0.3525 - val_accuracy: 0.8624\n",
      "Epoch 89/200\n",
      "14/14 [==============================] - 0s 3ms/step - loss: 0.3794 - accuracy: 0.8157 - val_loss: 0.3517 - val_accuracy: 0.8624\n",
      "Epoch 90/200\n",
      "14/14 [==============================] - 0s 3ms/step - loss: 0.3766 - accuracy: 0.8203 - val_loss: 0.3512 - val_accuracy: 0.8624\n",
      "Epoch 91/200\n",
      "14/14 [==============================] - 0s 4ms/step - loss: 0.3764 - accuracy: 0.8203 - val_loss: 0.3505 - val_accuracy: 0.8624\n",
      "Epoch 92/200\n",
      "14/14 [==============================] - 0s 3ms/step - loss: 0.3697 - accuracy: 0.8433 - val_loss: 0.3492 - val_accuracy: 0.8624\n",
      "Epoch 93/200\n",
      "14/14 [==============================] - 0s 3ms/step - loss: 0.3718 - accuracy: 0.8295 - val_loss: 0.3486 - val_accuracy: 0.8624\n",
      "Epoch 94/200\n",
      "14/14 [==============================] - 0s 3ms/step - loss: 0.3695 - accuracy: 0.8364 - val_loss: 0.3477 - val_accuracy: 0.8624\n",
      "Epoch 95/200\n",
      "14/14 [==============================] - 0s 3ms/step - loss: 0.3816 - accuracy: 0.8134 - val_loss: 0.3470 - val_accuracy: 0.8624\n",
      "Epoch 96/200\n",
      "14/14 [==============================] - 0s 3ms/step - loss: 0.3754 - accuracy: 0.8203 - val_loss: 0.3465 - val_accuracy: 0.8624\n",
      "Epoch 97/200\n",
      "14/14 [==============================] - 0s 4ms/step - loss: 0.3730 - accuracy: 0.8180 - val_loss: 0.3460 - val_accuracy: 0.8624\n",
      "Epoch 98/200\n",
      "14/14 [==============================] - 0s 3ms/step - loss: 0.3709 - accuracy: 0.8180 - val_loss: 0.3455 - val_accuracy: 0.8624\n",
      "Epoch 99/200\n",
      "14/14 [==============================] - 0s 3ms/step - loss: 0.3699 - accuracy: 0.8226 - val_loss: 0.3447 - val_accuracy: 0.8624\n",
      "Epoch 100/200\n",
      "14/14 [==============================] - 0s 3ms/step - loss: 0.3745 - accuracy: 0.8065 - val_loss: 0.3442 - val_accuracy: 0.8624\n",
      "Epoch 101/200\n",
      "14/14 [==============================] - 0s 3ms/step - loss: 0.3710 - accuracy: 0.8272 - val_loss: 0.3441 - val_accuracy: 0.8624\n",
      "Epoch 102/200\n",
      "14/14 [==============================] - 0s 4ms/step - loss: 0.3702 - accuracy: 0.8180 - val_loss: 0.3438 - val_accuracy: 0.8624\n",
      "Epoch 103/200\n",
      "14/14 [==============================] - 0s 5ms/step - loss: 0.3592 - accuracy: 0.8157 - val_loss: 0.3428 - val_accuracy: 0.8624\n",
      "Epoch 104/200\n",
      "14/14 [==============================] - 0s 5ms/step - loss: 0.3677 - accuracy: 0.8364 - val_loss: 0.3422 - val_accuracy: 0.8624\n",
      "Epoch 105/200\n",
      "14/14 [==============================] - 0s 4ms/step - loss: 0.3618 - accuracy: 0.8226 - val_loss: 0.3416 - val_accuracy: 0.8624\n",
      "Epoch 106/200\n",
      "14/14 [==============================] - 0s 5ms/step - loss: 0.3708 - accuracy: 0.8226 - val_loss: 0.3413 - val_accuracy: 0.8624\n",
      "Epoch 107/200\n",
      "14/14 [==============================] - 0s 4ms/step - loss: 0.3632 - accuracy: 0.8272 - val_loss: 0.3407 - val_accuracy: 0.8624\n",
      "Epoch 108/200\n",
      "14/14 [==============================] - 0s 3ms/step - loss: 0.3658 - accuracy: 0.8249 - val_loss: 0.3402 - val_accuracy: 0.8624\n",
      "Epoch 109/200\n",
      "14/14 [==============================] - 0s 4ms/step - loss: 0.3635 - accuracy: 0.8134 - val_loss: 0.3400 - val_accuracy: 0.8624\n",
      "Epoch 110/200\n",
      "14/14 [==============================] - 0s 4ms/step - loss: 0.3684 - accuracy: 0.8249 - val_loss: 0.3396 - val_accuracy: 0.8624\n",
      "Epoch 111/200\n",
      "14/14 [==============================] - 0s 4ms/step - loss: 0.3643 - accuracy: 0.8272 - val_loss: 0.3392 - val_accuracy: 0.8624\n",
      "Epoch 112/200\n",
      "14/14 [==============================] - 0s 4ms/step - loss: 0.3684 - accuracy: 0.8295 - val_loss: 0.3390 - val_accuracy: 0.8624\n",
      "Epoch 113/200\n",
      "14/14 [==============================] - 0s 4ms/step - loss: 0.3635 - accuracy: 0.8272 - val_loss: 0.3386 - val_accuracy: 0.8624\n",
      "Epoch 114/200\n",
      "14/14 [==============================] - 0s 4ms/step - loss: 0.3641 - accuracy: 0.8249 - val_loss: 0.3383 - val_accuracy: 0.8624\n",
      "Epoch 115/200\n",
      "14/14 [==============================] - 0s 4ms/step - loss: 0.3677 - accuracy: 0.8180 - val_loss: 0.3380 - val_accuracy: 0.8624\n",
      "Epoch 116/200\n"
     ]
    },
    {
     "name": "stdout",
     "output_type": "stream",
     "text": [
      "14/14 [==============================] - 0s 3ms/step - loss: 0.3740 - accuracy: 0.8203 - val_loss: 0.3380 - val_accuracy: 0.8624\n",
      "Epoch 117/200\n",
      "14/14 [==============================] - 0s 3ms/step - loss: 0.3709 - accuracy: 0.8180 - val_loss: 0.3377 - val_accuracy: 0.8624\n",
      "Epoch 118/200\n",
      "14/14 [==============================] - 0s 3ms/step - loss: 0.3636 - accuracy: 0.8295 - val_loss: 0.3376 - val_accuracy: 0.8624\n",
      "Epoch 119/200\n",
      "14/14 [==============================] - 0s 3ms/step - loss: 0.3623 - accuracy: 0.8157 - val_loss: 0.3373 - val_accuracy: 0.8624\n",
      "Epoch 120/200\n",
      "14/14 [==============================] - 0s 2ms/step - loss: 0.3622 - accuracy: 0.8295 - val_loss: 0.3368 - val_accuracy: 0.8624\n",
      "Epoch 121/200\n",
      "14/14 [==============================] - 0s 3ms/step - loss: 0.3582 - accuracy: 0.8226 - val_loss: 0.3366 - val_accuracy: 0.8624\n",
      "Epoch 122/200\n",
      "14/14 [==============================] - 0s 3ms/step - loss: 0.3583 - accuracy: 0.8249 - val_loss: 0.3362 - val_accuracy: 0.8624\n",
      "Epoch 123/200\n",
      "14/14 [==============================] - 0s 2ms/step - loss: 0.3538 - accuracy: 0.8249 - val_loss: 0.3360 - val_accuracy: 0.8624\n",
      "Epoch 124/200\n",
      "14/14 [==============================] - 0s 3ms/step - loss: 0.3542 - accuracy: 0.8249 - val_loss: 0.3357 - val_accuracy: 0.8624\n",
      "Epoch 125/200\n",
      "14/14 [==============================] - 0s 2ms/step - loss: 0.3601 - accuracy: 0.8203 - val_loss: 0.3353 - val_accuracy: 0.8624\n",
      "Epoch 126/200\n",
      "14/14 [==============================] - 0s 2ms/step - loss: 0.3560 - accuracy: 0.8341 - val_loss: 0.3350 - val_accuracy: 0.8624\n",
      "Epoch 127/200\n",
      "14/14 [==============================] - 0s 2ms/step - loss: 0.3589 - accuracy: 0.8203 - val_loss: 0.3348 - val_accuracy: 0.8624\n",
      "Epoch 128/200\n",
      "14/14 [==============================] - 0s 2ms/step - loss: 0.3593 - accuracy: 0.8249 - val_loss: 0.3346 - val_accuracy: 0.8624\n",
      "Epoch 129/200\n",
      "14/14 [==============================] - 0s 3ms/step - loss: 0.3561 - accuracy: 0.8295 - val_loss: 0.3344 - val_accuracy: 0.8624\n",
      "Epoch 130/200\n",
      "14/14 [==============================] - 0s 2ms/step - loss: 0.3541 - accuracy: 0.8226 - val_loss: 0.3343 - val_accuracy: 0.8624\n",
      "Epoch 131/200\n",
      "14/14 [==============================] - 0s 2ms/step - loss: 0.3595 - accuracy: 0.8088 - val_loss: 0.3341 - val_accuracy: 0.8624\n",
      "Epoch 132/200\n",
      "14/14 [==============================] - 0s 2ms/step - loss: 0.3531 - accuracy: 0.8295 - val_loss: 0.3338 - val_accuracy: 0.8624\n",
      "Epoch 133/200\n",
      "14/14 [==============================] - 0s 3ms/step - loss: 0.3616 - accuracy: 0.8249 - val_loss: 0.3338 - val_accuracy: 0.8624\n",
      "Epoch 134/200\n",
      "14/14 [==============================] - 0s 3ms/step - loss: 0.3431 - accuracy: 0.8433 - val_loss: 0.3336 - val_accuracy: 0.8624\n",
      "Epoch 135/200\n",
      "14/14 [==============================] - 0s 3ms/step - loss: 0.3591 - accuracy: 0.8249 - val_loss: 0.3334 - val_accuracy: 0.8624\n",
      "Epoch 136/200\n",
      "14/14 [==============================] - 0s 2ms/step - loss: 0.3493 - accuracy: 0.8134 - val_loss: 0.3334 - val_accuracy: 0.8440\n",
      "Epoch 137/200\n",
      "14/14 [==============================] - 0s 3ms/step - loss: 0.3567 - accuracy: 0.8203 - val_loss: 0.3332 - val_accuracy: 0.8532\n",
      "Epoch 138/200\n",
      "14/14 [==============================] - 0s 3ms/step - loss: 0.3587 - accuracy: 0.8134 - val_loss: 0.3332 - val_accuracy: 0.8440\n",
      "Epoch 139/200\n",
      "14/14 [==============================] - 0s 2ms/step - loss: 0.3623 - accuracy: 0.8226 - val_loss: 0.3328 - val_accuracy: 0.8532\n",
      "Epoch 140/200\n",
      "14/14 [==============================] - 0s 3ms/step - loss: 0.3552 - accuracy: 0.8318 - val_loss: 0.3325 - val_accuracy: 0.8532\n",
      "Epoch 141/200\n",
      "14/14 [==============================] - 0s 2ms/step - loss: 0.3466 - accuracy: 0.8272 - val_loss: 0.3323 - val_accuracy: 0.8532\n",
      "Epoch 142/200\n",
      "14/14 [==============================] - 0s 2ms/step - loss: 0.3514 - accuracy: 0.8272 - val_loss: 0.3321 - val_accuracy: 0.8532\n",
      "Epoch 143/200\n",
      "14/14 [==============================] - 0s 3ms/step - loss: 0.3617 - accuracy: 0.8180 - val_loss: 0.3319 - val_accuracy: 0.8532\n",
      "Epoch 144/200\n",
      "14/14 [==============================] - 0s 2ms/step - loss: 0.3490 - accuracy: 0.8226 - val_loss: 0.3319 - val_accuracy: 0.8532\n",
      "Epoch 145/200\n",
      "14/14 [==============================] - 0s 2ms/step - loss: 0.3504 - accuracy: 0.8295 - val_loss: 0.3318 - val_accuracy: 0.8532\n",
      "Epoch 146/200\n",
      "14/14 [==============================] - 0s 3ms/step - loss: 0.3478 - accuracy: 0.8364 - val_loss: 0.3316 - val_accuracy: 0.8532\n",
      "Epoch 147/200\n",
      "14/14 [==============================] - 0s 3ms/step - loss: 0.3547 - accuracy: 0.8387 - val_loss: 0.3314 - val_accuracy: 0.8532\n",
      "Epoch 148/200\n",
      "14/14 [==============================] - 0s 3ms/step - loss: 0.3488 - accuracy: 0.8295 - val_loss: 0.3314 - val_accuracy: 0.8532\n",
      "Epoch 149/200\n",
      "14/14 [==============================] - 0s 3ms/step - loss: 0.3469 - accuracy: 0.8249 - val_loss: 0.3314 - val_accuracy: 0.8532\n",
      "Epoch 150/200\n",
      "14/14 [==============================] - 0s 3ms/step - loss: 0.3485 - accuracy: 0.8433 - val_loss: 0.3312 - val_accuracy: 0.8532\n",
      "Epoch 151/200\n",
      "14/14 [==============================] - 0s 2ms/step - loss: 0.3512 - accuracy: 0.8272 - val_loss: 0.3310 - val_accuracy: 0.8532\n",
      "Epoch 152/200\n",
      "14/14 [==============================] - 0s 2ms/step - loss: 0.3538 - accuracy: 0.8295 - val_loss: 0.3309 - val_accuracy: 0.8532\n",
      "Epoch 153/200\n",
      "14/14 [==============================] - 0s 2ms/step - loss: 0.3524 - accuracy: 0.8249 - val_loss: 0.3309 - val_accuracy: 0.8532\n",
      "Epoch 154/200\n",
      "14/14 [==============================] - 0s 2ms/step - loss: 0.3506 - accuracy: 0.8180 - val_loss: 0.3307 - val_accuracy: 0.8532\n",
      "Epoch 155/200\n",
      "14/14 [==============================] - 0s 2ms/step - loss: 0.3526 - accuracy: 0.8249 - val_loss: 0.3303 - val_accuracy: 0.8532\n",
      "Epoch 156/200\n",
      "14/14 [==============================] - 0s 3ms/step - loss: 0.3474 - accuracy: 0.8295 - val_loss: 0.3301 - val_accuracy: 0.8532\n",
      "Epoch 157/200\n",
      "14/14 [==============================] - 0s 3ms/step - loss: 0.3491 - accuracy: 0.8180 - val_loss: 0.3303 - val_accuracy: 0.8532\n",
      "Epoch 158/200\n",
      "14/14 [==============================] - 0s 2ms/step - loss: 0.3500 - accuracy: 0.8180 - val_loss: 0.3304 - val_accuracy: 0.8532\n",
      "Epoch 00158: early stopping\n"
     ]
    }
   ],
   "source": [
    "history1 = model.fit(x=x_train, y=y_train, epochs=200, validation_data=(x_test, y_test), callbacks=[early_stop])"
   ]
  },
  {
   "cell_type": "code",
   "execution_count": 20,
   "metadata": {
    "execution": {
     "iopub.execute_input": "2022-07-23T07:11:11.657082Z",
     "iopub.status.busy": "2022-07-23T07:11:11.656386Z",
     "iopub.status.idle": "2022-07-23T07:11:13.504139Z",
     "shell.execute_reply": "2022-07-23T07:11:13.503073Z",
     "shell.execute_reply.started": "2022-07-23T07:11:11.657047Z"
    }
   },
   "outputs": [
    {
     "data": {
      "image/png": "[encoded data removed]",
      "text/plain": [
       "<Figure size 432x288 with 1 Axes>"
      ]
     },
     "metadata": {
      "needs_background": "light"
     },
     "output_type": "display_data"
    }
   ],
   "source": [
    "plt.plot(history1.history['loss'], label=\"LOSS\")\n",
    "plt.plot(history1.history['accuracy'], label=\"ACCURACY\")\n",
    "plt.legend(loc='best')\n",
    "plt.show()"
   ]
  },
  {
   "cell_type": "code",
   "execution_count": 21,
   "metadata": {
    "execution": {
     "iopub.execute_input": "2022-07-23T07:12:57.336151Z",
     "iopub.status.busy": "2022-07-23T07:12:57.335137Z",
     "iopub.status.idle": "2022-07-23T07:12:57.525571Z",
     "shell.execute_reply": "2022-07-23T07:12:57.524481Z",
     "shell.execute_reply.started": "2022-07-23T07:12:57.336104Z"
    }
   },
   "outputs": [
    {
     "data": {
      "image/png": "[encoded data removed]",
      "text/plain": [
       "<Figure size 432x288 with 1 Axes>"
      ]
     },
     "metadata": {
      "needs_background": "light"
     },
     "output_type": "display_data"
    }
   ],
   "source": [
    "plt.plot(history1.history['val_loss'], label=\"VALIDATION LOSS\")\n",
    "plt.plot(history1.history['loss'], label=\"TRAINING LOSS\")\n",
    "plt.legend(loc='best')\n",
    "plt.show()"
   ]
  },
  {
   "cell_type": "markdown",
   "metadata": {},
   "source": [
    "### Predicting on test set "
   ]
  },
  {
   "cell_type": "code",
   "execution_count": 22,
   "metadata": {
    "execution": {
     "iopub.execute_input": "2022-07-23T07:13:02.105733Z",
     "iopub.status.busy": "2022-07-23T07:13:02.105331Z",
     "iopub.status.idle": "2022-07-23T07:13:02.248878Z",
     "shell.execute_reply": "2022-07-23T07:13:02.247818Z",
     "shell.execute_reply.started": "2022-07-23T07:13:02.105704Z"
    }
   },
   "outputs": [],
   "source": [
    "y_pred_prob = model.predict(x_test)"
   ]
  },
  {
   "cell_type": "code",
   "execution_count": 23,
   "metadata": {
    "execution": {
     "iopub.execute_input": "2022-07-23T07:13:06.245943Z",
     "iopub.status.busy": "2022-07-23T07:13:06.245230Z",
     "iopub.status.idle": "2022-07-23T07:13:06.251613Z",
     "shell.execute_reply": "2022-07-23T07:13:06.250421Z",
     "shell.execute_reply.started": "2022-07-23T07:13:06.245904Z"
    }
   },
   "outputs": [],
   "source": [
    "y_pred = np.argmax(y_pred_prob, axis=1)"
   ]
  },
  {
   "cell_type": "code",
   "execution_count": 24,
   "metadata": {
    "execution": {
     "iopub.execute_input": "2022-07-23T07:13:12.931928Z",
     "iopub.status.busy": "2022-07-23T07:13:12.931558Z",
     "iopub.status.idle": "2022-07-23T07:13:12.939217Z",
     "shell.execute_reply": "2022-07-23T07:13:12.938254Z",
     "shell.execute_reply.started": "2022-07-23T07:13:12.931887Z"
    }
   },
   "outputs": [
    {
     "name": "stdout",
     "output_type": "stream",
     "text": [
      "[[42  0]\n",
      " [67  0]]\n"
     ]
    }
   ],
   "source": [
    "print(confusion_matrix(y_test, y_pred))"
   ]
  },
  {
   "cell_type": "code",
   "execution_count": 25,
   "metadata": {
    "execution": {
     "iopub.execute_input": "2022-07-23T07:13:13.966102Z",
     "iopub.status.busy": "2022-07-23T07:13:13.965634Z",
     "iopub.status.idle": "2022-07-23T07:13:13.978129Z",
     "shell.execute_reply": "2022-07-23T07:13:13.977259Z",
     "shell.execute_reply.started": "2022-07-23T07:13:13.966056Z"
    }
   },
   "outputs": [
    {
     "name": "stdout",
     "output_type": "stream",
     "text": [
      "              precision    recall  f1-score   support\n",
      "\n",
      "           0       0.39      1.00      0.56        42\n",
      "           1       0.00      0.00      0.00        67\n",
      "\n",
      "    accuracy                           0.39       109\n",
      "   macro avg       0.19      0.50      0.28       109\n",
      "weighted avg       0.15      0.39      0.21       109\n",
      "\n"
     ]
    }
   ],
   "source": [
    "print(classification_report(y_test, y_pred))"
   ]
  },
  {
   "cell_type": "markdown",
   "metadata": {},
   "source": [
    "### ROC-AUC Score"
   ]
  },
  {
   "cell_type": "code",
   "execution_count": 26,
   "metadata": {
    "execution": {
     "iopub.execute_input": "2022-07-23T07:13:15.490827Z",
     "iopub.status.busy": "2022-07-23T07:13:15.490483Z",
     "iopub.status.idle": "2022-07-23T07:13:15.498016Z",
     "shell.execute_reply": "2022-07-23T07:13:15.496991Z",
     "shell.execute_reply.started": "2022-07-23T07:13:15.490799Z"
    }
   },
   "outputs": [
    {
     "name": "stdout",
     "output_type": "stream",
     "text": [
      "ROC-AUC Score for the DNN model-1 is 0.92\n"
     ]
    }
   ],
   "source": [
    "roc_auc = roc_auc_score(y_test, y_pred_prob)\n",
    "print(\"ROC-AUC Score for the DNN model-1 is\", np.round(roc_auc,2))"
   ]
  },
  {
   "cell_type": "code",
   "execution_count": null,
   "metadata": {},
   "outputs": [],
   "source": []
  },
  {
   "cell_type": "markdown",
   "metadata": {},
   "source": [
    "### One-Hot Encoding target variable "
   ]
  },
  {
   "cell_type": "code",
   "execution_count": 27,
   "metadata": {
    "execution": {
     "iopub.execute_input": "2022-07-23T07:13:23.261769Z",
     "iopub.status.busy": "2022-07-23T07:13:23.261413Z",
     "iopub.status.idle": "2022-07-23T07:13:23.268434Z",
     "shell.execute_reply": "2022-07-23T07:13:23.267286Z",
     "shell.execute_reply.started": "2022-07-23T07:13:23.261739Z"
    }
   },
   "outputs": [],
   "source": [
    "y_ = np.array(train['IsUnderRisk']).reshape(-1,1)\n",
    "\n",
    "encoder = OneHotEncoder(sparse=False)\n",
    "y = encoder.fit_transform(y_)"
   ]
  },
  {
   "cell_type": "code",
   "execution_count": 28,
   "metadata": {
    "execution": {
     "iopub.execute_input": "2022-07-23T07:13:23.736293Z",
     "iopub.status.busy": "2022-07-23T07:13:23.735590Z",
     "iopub.status.idle": "2022-07-23T07:13:23.741780Z",
     "shell.execute_reply": "2022-07-23T07:13:23.740983Z",
     "shell.execute_reply.started": "2022-07-23T07:13:23.736253Z"
    }
   },
   "outputs": [],
   "source": [
    "x_train, x_test, y_train, y_test =  train_test_split(X, y, test_size=0.20)"
   ]
  },
  {
   "cell_type": "markdown",
   "metadata": {},
   "source": [
    "## DNN Model (2)"
   ]
  },
  {
   "cell_type": "code",
   "execution_count": 29,
   "metadata": {
    "execution": {
     "iopub.execute_input": "2022-07-23T07:14:18.022400Z",
     "iopub.status.busy": "2022-07-23T07:14:18.021796Z",
     "iopub.status.idle": "2022-07-23T07:14:18.063292Z",
     "shell.execute_reply": "2022-07-23T07:14:18.062423Z",
     "shell.execute_reply.started": "2022-07-23T07:14:18.022366Z"
    }
   },
   "outputs": [],
   "source": [
    "model = tf.keras.Sequential()\n",
    "model.add(Dense(128, input_shape=(7,),activation='relu'))\n",
    "model.add(Dense(64, activation='relu'))\n",
    "model.add(Dense(16, activation='relu'))\n",
    "model.add(Dense(2, activation='softmax'))"
   ]
  },
  {
   "cell_type": "code",
   "execution_count": 30,
   "metadata": {
    "execution": {
     "iopub.execute_input": "2022-07-23T07:14:18.610984Z",
     "iopub.status.busy": "2022-07-23T07:14:18.610439Z",
     "iopub.status.idle": "2022-07-23T07:14:18.619863Z",
     "shell.execute_reply": "2022-07-23T07:14:18.619030Z",
     "shell.execute_reply.started": "2022-07-23T07:14:18.610953Z"
    }
   },
   "outputs": [],
   "source": [
    "model.compile(optimizer ='sgd', loss = 'binary_crossentropy', metrics = ['accuracy'])"
   ]
  },
  {
   "cell_type": "code",
   "execution_count": 31,
   "metadata": {
    "execution": {
     "iopub.execute_input": "2022-07-23T07:14:19.386392Z",
     "iopub.status.busy": "2022-07-23T07:14:19.385821Z",
     "iopub.status.idle": "2022-07-23T07:14:22.527465Z",
     "shell.execute_reply": "2022-07-23T07:14:22.526589Z",
     "shell.execute_reply.started": "2022-07-23T07:14:19.386360Z"
    },
    "scrolled": false
   },
   "outputs": [
    {
     "name": "stdout",
     "output_type": "stream",
     "text": [
      "Epoch 1/100\n",
      "14/14 [==============================] - 0s 1ms/step - loss: 0.6863 - accuracy: 0.5783\n",
      "Epoch 2/100\n",
      "14/14 [==============================] - 0s 1ms/step - loss: 0.6657 - accuracy: 0.7028\n",
      "Epoch 3/100\n",
      "14/14 [==============================] - 0s 1ms/step - loss: 0.6504 - accuracy: 0.6889\n",
      "Epoch 4/100\n",
      "14/14 [==============================] - 0s 1ms/step - loss: 0.6378 - accuracy: 0.6889\n",
      "Epoch 5/100\n",
      "14/14 [==============================] - 0s 1ms/step - loss: 0.6259 - accuracy: 0.6797\n",
      "Epoch 6/100\n",
      "14/14 [==============================] - 0s 1ms/step - loss: 0.6152 - accuracy: 0.6959\n",
      "Epoch 7/100\n",
      "14/14 [==============================] - 0s 2ms/step - loss: 0.6048 - accuracy: 0.7074\n",
      "Epoch 8/100\n",
      "14/14 [==============================] - 0s 1ms/step - loss: 0.5944 - accuracy: 0.7212\n",
      "Epoch 9/100\n",
      "14/14 [==============================] - 0s 1ms/step - loss: 0.5841 - accuracy: 0.7304\n",
      "Epoch 10/100\n",
      "14/14 [==============================] - 0s 1ms/step - loss: 0.5741 - accuracy: 0.7373\n",
      "Epoch 11/100\n",
      "14/14 [==============================] - 0s 1ms/step - loss: 0.5636 - accuracy: 0.7465\n",
      "Epoch 12/100\n",
      "14/14 [==============================] - 0s 1ms/step - loss: 0.5529 - accuracy: 0.7627\n",
      "Epoch 13/100\n",
      "14/14 [==============================] - 0s 2ms/step - loss: 0.5425 - accuracy: 0.7650\n",
      "Epoch 14/100\n",
      "14/14 [==============================] - 0s 2ms/step - loss: 0.5325 - accuracy: 0.7650\n",
      "Epoch 15/100\n",
      "14/14 [==============================] - 0s 2ms/step - loss: 0.5222 - accuracy: 0.7788\n",
      "Epoch 16/100\n",
      "14/14 [==============================] - 0s 1ms/step - loss: 0.5122 - accuracy: 0.7788\n",
      "Epoch 17/100\n",
      "14/14 [==============================] - 0s 1ms/step - loss: 0.5023 - accuracy: 0.7834\n",
      "Epoch 18/100\n",
      "14/14 [==============================] - 0s 1ms/step - loss: 0.4935 - accuracy: 0.7834\n",
      "Epoch 19/100\n",
      "14/14 [==============================] - 0s 1ms/step - loss: 0.4842 - accuracy: 0.7811\n",
      "Epoch 20/100\n",
      "14/14 [==============================] - 0s 2ms/step - loss: 0.4755 - accuracy: 0.7811\n",
      "Epoch 21/100\n",
      "14/14 [==============================] - 0s 1ms/step - loss: 0.4670 - accuracy: 0.7834\n",
      "Epoch 22/100\n",
      "14/14 [==============================] - 0s 1ms/step - loss: 0.4590 - accuracy: 0.7834\n",
      "Epoch 23/100\n",
      "14/14 [==============================] - 0s 1ms/step - loss: 0.4518 - accuracy: 0.7857\n",
      "Epoch 24/100\n",
      "14/14 [==============================] - 0s 1ms/step - loss: 0.4441 - accuracy: 0.7949\n",
      "Epoch 25/100\n",
      "14/14 [==============================] - 0s 2ms/step - loss: 0.4389 - accuracy: 0.7880\n",
      "Epoch 26/100\n",
      "14/14 [==============================] - 0s 1ms/step - loss: 0.4313 - accuracy: 0.7972\n",
      "Epoch 27/100\n",
      "14/14 [==============================] - 0s 2ms/step - loss: 0.4258 - accuracy: 0.8041\n",
      "Epoch 28/100\n",
      "14/14 [==============================] - 0s 1ms/step - loss: 0.4208 - accuracy: 0.8065\n",
      "Epoch 29/100\n",
      "14/14 [==============================] - 0s 1ms/step - loss: 0.4159 - accuracy: 0.8065\n",
      "Epoch 30/100\n",
      "14/14 [==============================] - 0s 1ms/step - loss: 0.4119 - accuracy: 0.8111\n",
      "Epoch 31/100\n",
      "14/14 [==============================] - 0s 1ms/step - loss: 0.4071 - accuracy: 0.8134\n",
      "Epoch 32/100\n",
      "14/14 [==============================] - 0s 1ms/step - loss: 0.4045 - accuracy: 0.8088\n",
      "Epoch 33/100\n",
      "14/14 [==============================] - 0s 1ms/step - loss: 0.3997 - accuracy: 0.8134\n",
      "Epoch 34/100\n",
      "14/14 [==============================] - 0s 1ms/step - loss: 0.3967 - accuracy: 0.8111\n",
      "Epoch 35/100\n",
      "14/14 [==============================] - 0s 1ms/step - loss: 0.3926 - accuracy: 0.8272\n",
      "Epoch 36/100\n",
      "14/14 [==============================] - 0s 1ms/step - loss: 0.3899 - accuracy: 0.8111\n",
      "Epoch 37/100\n",
      "14/14 [==============================] - 0s 2ms/step - loss: 0.3873 - accuracy: 0.8203\n",
      "Epoch 38/100\n",
      "14/14 [==============================] - 0s 1ms/step - loss: 0.3860 - accuracy: 0.8341\n",
      "Epoch 39/100\n",
      "14/14 [==============================] - 0s 1ms/step - loss: 0.3825 - accuracy: 0.8295\n",
      "Epoch 40/100\n",
      "14/14 [==============================] - 0s 1ms/step - loss: 0.3809 - accuracy: 0.8180\n",
      "Epoch 41/100\n",
      "14/14 [==============================] - 0s 1ms/step - loss: 0.3795 - accuracy: 0.8364\n",
      "Epoch 42/100\n",
      "14/14 [==============================] - 0s 1ms/step - loss: 0.3766 - accuracy: 0.8272\n",
      "Epoch 43/100\n",
      "14/14 [==============================] - 0s 1ms/step - loss: 0.3753 - accuracy: 0.8272\n",
      "Epoch 44/100\n",
      "14/14 [==============================] - 0s 1ms/step - loss: 0.3736 - accuracy: 0.8318\n",
      "Epoch 45/100\n",
      "14/14 [==============================] - 0s 1ms/step - loss: 0.3717 - accuracy: 0.8272\n",
      "Epoch 46/100\n",
      "14/14 [==============================] - 0s 2ms/step - loss: 0.3697 - accuracy: 0.8364\n",
      "Epoch 47/100\n",
      "14/14 [==============================] - 0s 1ms/step - loss: 0.3688 - accuracy: 0.8272\n",
      "Epoch 48/100\n",
      "14/14 [==============================] - 0s 1ms/step - loss: 0.3679 - accuracy: 0.8295\n",
      "Epoch 49/100\n",
      "14/14 [==============================] - 0s 1ms/step - loss: 0.3657 - accuracy: 0.8341\n",
      "Epoch 50/100\n",
      "14/14 [==============================] - 0s 1ms/step - loss: 0.3651 - accuracy: 0.8364\n",
      "Epoch 51/100\n",
      "14/14 [==============================] - 0s 2ms/step - loss: 0.3633 - accuracy: 0.8272\n",
      "Epoch 52/100\n",
      "14/14 [==============================] - 0s 1ms/step - loss: 0.3618 - accuracy: 0.8295\n",
      "Epoch 53/100\n",
      "14/14 [==============================] - 0s 1ms/step - loss: 0.3608 - accuracy: 0.8318\n",
      "Epoch 54/100\n",
      "14/14 [==============================] - 0s 1ms/step - loss: 0.3599 - accuracy: 0.8318\n",
      "Epoch 55/100\n",
      "14/14 [==============================] - 0s 1ms/step - loss: 0.3591 - accuracy: 0.8295\n",
      "Epoch 56/100\n",
      "14/14 [==============================] - 0s 1ms/step - loss: 0.3587 - accuracy: 0.8341\n",
      "Epoch 57/100\n",
      "14/14 [==============================] - 0s 1ms/step - loss: 0.3572 - accuracy: 0.8272\n",
      "Epoch 58/100\n",
      "14/14 [==============================] - 0s 1ms/step - loss: 0.3570 - accuracy: 0.8318\n",
      "Epoch 59/100\n",
      "14/14 [==============================] - 0s 1ms/step - loss: 0.3551 - accuracy: 0.8341\n",
      "Epoch 60/100\n",
      "14/14 [==============================] - 0s 1ms/step - loss: 0.3556 - accuracy: 0.8295\n",
      "Epoch 61/100\n",
      "14/14 [==============================] - 0s 1ms/step - loss: 0.3540 - accuracy: 0.8318\n",
      "Epoch 62/100\n",
      "14/14 [==============================] - 0s 1ms/step - loss: 0.3532 - accuracy: 0.8364\n",
      "Epoch 63/100\n",
      "14/14 [==============================] - 0s 1ms/step - loss: 0.3520 - accuracy: 0.8295\n",
      "Epoch 64/100\n",
      "14/14 [==============================] - 0s 2ms/step - loss: 0.3514 - accuracy: 0.8387\n",
      "Epoch 65/100\n",
      "14/14 [==============================] - 0s 2ms/step - loss: 0.3511 - accuracy: 0.8364\n",
      "Epoch 66/100\n",
      "14/14 [==============================] - 0s 1ms/step - loss: 0.3504 - accuracy: 0.8295\n",
      "Epoch 67/100\n",
      "14/14 [==============================] - 0s 2ms/step - loss: 0.3497 - accuracy: 0.8364\n",
      "Epoch 68/100\n",
      "14/14 [==============================] - 0s 2ms/step - loss: 0.3484 - accuracy: 0.8341\n",
      "Epoch 69/100\n",
      "14/14 [==============================] - 0s 1ms/step - loss: 0.3481 - accuracy: 0.8341\n",
      "Epoch 70/100\n",
      "14/14 [==============================] - 0s 1ms/step - loss: 0.3478 - accuracy: 0.8341\n",
      "Epoch 71/100\n",
      "14/14 [==============================] - 0s 1ms/step - loss: 0.3467 - accuracy: 0.8318\n",
      "Epoch 72/100\n",
      "14/14 [==============================] - 0s 1ms/step - loss: 0.3464 - accuracy: 0.8364\n",
      "Epoch 73/100\n",
      "14/14 [==============================] - 0s 1ms/step - loss: 0.3457 - accuracy: 0.8341\n",
      "Epoch 74/100\n",
      "14/14 [==============================] - 0s 1ms/step - loss: 0.3452 - accuracy: 0.8318\n",
      "Epoch 75/100\n",
      "14/14 [==============================] - 0s 1ms/step - loss: 0.3456 - accuracy: 0.8341\n",
      "Epoch 76/100\n",
      "14/14 [==============================] - 0s 1ms/step - loss: 0.3442 - accuracy: 0.8341\n",
      "Epoch 77/100\n",
      "14/14 [==============================] - 0s 1ms/step - loss: 0.3452 - accuracy: 0.8295\n",
      "Epoch 78/100\n",
      "14/14 [==============================] - 0s 1ms/step - loss: 0.3453 - accuracy: 0.8272\n",
      "Epoch 79/100\n",
      "14/14 [==============================] - 0s 1ms/step - loss: 0.3438 - accuracy: 0.8272\n",
      "Epoch 80/100\n",
      "14/14 [==============================] - 0s 1ms/step - loss: 0.3424 - accuracy: 0.8341\n",
      "Epoch 81/100\n",
      "14/14 [==============================] - 0s 2ms/step - loss: 0.3415 - accuracy: 0.8272\n",
      "Epoch 82/100\n",
      "14/14 [==============================] - 0s 1ms/step - loss: 0.3410 - accuracy: 0.8318\n",
      "Epoch 83/100\n"
     ]
    },
    {
     "name": "stdout",
     "output_type": "stream",
     "text": [
      "14/14 [==============================] - 0s 997us/step - loss: 0.3408 - accuracy: 0.8341\n",
      "Epoch 84/100\n",
      "14/14 [==============================] - 0s 2ms/step - loss: 0.3409 - accuracy: 0.8249\n",
      "Epoch 85/100\n",
      "14/14 [==============================] - 0s 2ms/step - loss: 0.3396 - accuracy: 0.8295\n",
      "Epoch 86/100\n",
      "14/14 [==============================] - 0s 2ms/step - loss: 0.3407 - accuracy: 0.8341\n",
      "Epoch 87/100\n",
      "14/14 [==============================] - 0s 2ms/step - loss: 0.3401 - accuracy: 0.8295\n",
      "Epoch 88/100\n",
      "14/14 [==============================] - 0s 1ms/step - loss: 0.3383 - accuracy: 0.8318\n",
      "Epoch 89/100\n",
      "14/14 [==============================] - 0s 1ms/step - loss: 0.3385 - accuracy: 0.8272\n",
      "Epoch 90/100\n",
      "14/14 [==============================] - 0s 1ms/step - loss: 0.3386 - accuracy: 0.8249\n",
      "Epoch 91/100\n",
      "14/14 [==============================] - 0s 997us/step - loss: 0.3376 - accuracy: 0.8318\n",
      "Epoch 92/100\n",
      "14/14 [==============================] - 0s 1ms/step - loss: 0.3375 - accuracy: 0.8318\n",
      "Epoch 93/100\n",
      "14/14 [==============================] - 0s 1ms/step - loss: 0.3392 - accuracy: 0.8318\n",
      "Epoch 94/100\n",
      "14/14 [==============================] - 0s 1ms/step - loss: 0.3364 - accuracy: 0.8295\n",
      "Epoch 95/100\n",
      "14/14 [==============================] - 0s 1ms/step - loss: 0.3373 - accuracy: 0.8295\n",
      "Epoch 96/100\n",
      "14/14 [==============================] - 0s 2ms/step - loss: 0.3373 - accuracy: 0.8226\n",
      "Epoch 97/100\n",
      "14/14 [==============================] - 0s 2ms/step - loss: 0.3371 - accuracy: 0.8295\n",
      "Epoch 98/100\n",
      "14/14 [==============================] - 0s 926us/step - loss: 0.3369 - accuracy: 0.8318\n",
      "Epoch 99/100\n",
      "14/14 [==============================] - 0s 997us/step - loss: 0.3345 - accuracy: 0.8318\n",
      "Epoch 100/100\n",
      "14/14 [==============================] - 0s 997us/step - loss: 0.3344 - accuracy: 0.8318\n"
     ]
    }
   ],
   "source": [
    "history2 = model.fit(x=x_train, y=y_train, epochs=100)"
   ]
  },
  {
   "cell_type": "code",
   "execution_count": 32,
   "metadata": {
    "execution": {
     "iopub.execute_input": "2022-07-23T07:14:22.529972Z",
     "iopub.status.busy": "2022-07-23T07:14:22.529685Z",
     "iopub.status.idle": "2022-07-23T07:14:22.718973Z",
     "shell.execute_reply": "2022-07-23T07:14:22.717866Z",
     "shell.execute_reply.started": "2022-07-23T07:14:22.529945Z"
    }
   },
   "outputs": [
    {
     "data": {
      "image/png": "[encoded data removed]",
      "text/plain": [
       "<Figure size 432x288 with 1 Axes>"
      ]
     },
     "metadata": {
      "needs_background": "light"
     },
     "output_type": "display_data"
    }
   ],
   "source": [
    "plt.plot(range(100), history2.history['loss'], label=\"LOSS\")\n",
    "plt.plot(range(100), history2.history['accuracy'], label=\"ACCURACY\")\n",
    "plt.legend(loc='best')\n",
    "plt.show()"
   ]
  },
  {
   "cell_type": "markdown",
   "metadata": {},
   "source": [
    "### Predicting on test set"
   ]
  },
  {
   "cell_type": "code",
   "execution_count": 33,
   "metadata": {
    "execution": {
     "iopub.execute_input": "2022-07-23T07:14:22.720452Z",
     "iopub.status.busy": "2022-07-23T07:14:22.720154Z",
     "iopub.status.idle": "2022-07-23T07:14:22.818550Z",
     "shell.execute_reply": "2022-07-23T07:14:22.817731Z",
     "shell.execute_reply.started": "2022-07-23T07:14:22.720426Z"
    }
   },
   "outputs": [],
   "source": [
    "y_pred_prob = model.predict(x_test)\n",
    "y_pred = np.argmax(y_pred_prob, axis=1)"
   ]
  },
  {
   "cell_type": "markdown",
   "metadata": {},
   "source": [
    "### Log-loss Error for Model 2"
   ]
  },
  {
   "cell_type": "code",
   "execution_count": 34,
   "metadata": {
    "execution": {
     "iopub.execute_input": "2022-07-23T07:14:22.821361Z",
     "iopub.status.busy": "2022-07-23T07:14:22.820072Z",
     "iopub.status.idle": "2022-07-23T07:14:22.829756Z",
     "shell.execute_reply": "2022-07-23T07:14:22.828575Z",
     "shell.execute_reply.started": "2022-07-23T07:14:22.821316Z"
    }
   },
   "outputs": [
    {
     "name": "stdout",
     "output_type": "stream",
     "text": [
      "Log-Loss Error for the DNN model-2 is 0.38\n"
     ]
    }
   ],
   "source": [
    "ll = log_loss(y_test, y_pred_prob)\n",
    "print(\"Log-Loss Error for the DNN model-2 is\", np.round(ll,2))"
   ]
  },
  {
   "cell_type": "code",
   "execution_count": null,
   "metadata": {},
   "outputs": [],
   "source": []
  }
 ],
 "metadata": {
  "kernelspec": {
   "display_name": "Python 3",
   "language": "python",
   "name": "python3"
  },
  "language_info": {
   "codemirror_mode": {
    "name": "ipython",
    "version": 3
   },
   "file_extension": ".py",
   "mimetype": "text/x-python",
   "name": "python",
   "nbconvert_exporter": "python",
   "pygments_lexer": "ipython3",
   "version": "3.7.9"
  }
 },
 "nbformat": 4,
 "nbformat_minor": 4
}
