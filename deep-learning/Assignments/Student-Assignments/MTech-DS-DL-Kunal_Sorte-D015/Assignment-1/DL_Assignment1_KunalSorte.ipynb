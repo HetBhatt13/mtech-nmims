{
  "nbformat": 4,
  "nbformat_minor": 0,
  "metadata": {
    "colab": {
      "name": "DL-Assignment1.ipynb",
      "provenance": [],
      "collapsed_sections": []
    },
    "kernelspec": {
      "name": "python3",
      "display_name": "Python 3"
    },
    "language_info": {
      "name": "python"
    }
  },
  "cells": [
    {
      "cell_type": "markdown",
      "source": [
        "Importing Libraries"
      ],
      "metadata": {
        "id": "9TwBEDxSY7y2"
      }
    },
    {
      "cell_type": "code",
      "execution_count": null,
      "metadata": {
        "id": "UVpKmT83QO5-"
      },
      "outputs": [],
      "source": [
        "import tensorflow as tf\n",
        "import numpy as np\n",
        "import pandas as pd\n",
        "import matplotlib.pyplot as plt\n",
        "%matplotlib inline\n",
        "import seaborn as sns"
      ]
    },
    {
      "cell_type": "markdown",
      "source": [
        "Importing Data files"
      ],
      "metadata": {
        "id": "nstaTWCqZBrk"
      }
    },
    {
      "cell_type": "code",
      "source": [
        "train = pd.read_csv('Train.csv')\n",
        "test = pd.read_csv('Test.csv')\n",
        "sub = pd.read_csv('Sample_Submission.csv')"
      ],
      "metadata": {
        "id": "YNLVpgKEQV9C"
      },
      "execution_count": null,
      "outputs": []
    },
    {
      "cell_type": "markdown",
      "source": [
        "Task 1"
      ],
      "metadata": {
        "id": "xJa18hdsqxLE"
      }
    },
    {
      "cell_type": "code",
      "source": [
        "train.head()"
      ],
      "metadata": {
        "colab": {
          "base_uri": "https://localhost:8080/",
          "height": 206
        },
        "id": "Dvhhoh1VRnM8",
        "outputId": "6c099be1-4efa-45ae-e512-e200db464055"
      },
      "execution_count": null,
      "outputs": [
        {
          "output_type": "execute_result",
          "data": {
            "text/plain": [
              "   City  Location_Score  Internal_Audit_Score  External_Audit_Score  \\\n",
              "0     2           8.032                    14                     8   \n",
              "1    31          77.730                     8                     3   \n",
              "2    40          59.203                     3                    12   \n",
              "3    12          73.080                     4                     5   \n",
              "4     4          15.666                    13                    15   \n",
              "\n",
              "   Fin_Score  Loss_score  Past_Results  IsUnderRisk  \n",
              "0          3           6             0            1  \n",
              "1          3           8             1            0  \n",
              "2         11           3             0            1  \n",
              "3          7           6             0            0  \n",
              "4          6           7             2            1  "
            ],
            "text/html": [
              "\n",
              "  <div id=\"df-6a2ffc0d-b8a9-4159-8737-762645088e28\">\n",
              "    <div class=\"colab-df-container\">\n",
              "      <div>\n",
              "<style scoped>\n",
              "    .dataframe tbody tr th:only-of-type {\n",
              "        vertical-align: middle;\n",
              "    }\n",
              "\n",
              "    .dataframe tbody tr th {\n",
              "        vertical-align: top;\n",
              "    }\n",
              "\n",
              "    .dataframe thead th {\n",
              "        text-align: right;\n",
              "    }\n",
              "</style>\n",
              "<table border=\"1\" class=\"dataframe\">\n",
              "  <thead>\n",
              "    <tr style=\"text-align: right;\">\n",
              "      <th></th>\n",
              "      <th>City</th>\n",
              "      <th>Location_Score</th>\n",
              "      <th>Internal_Audit_Score</th>\n",
              "      <th>External_Audit_Score</th>\n",
              "      <th>Fin_Score</th>\n",
              "      <th>Loss_score</th>\n",
              "      <th>Past_Results</th>\n",
              "      <th>IsUnderRisk</th>\n",
              "    </tr>\n",
              "  </thead>\n",
              "  <tbody>\n",
              "    <tr>\n",
              "      <th>0</th>\n",
              "      <td>2</td>\n",
              "      <td>8.032</td>\n",
              "      <td>14</td>\n",
              "      <td>8</td>\n",
              "      <td>3</td>\n",
              "      <td>6</td>\n",
              "      <td>0</td>\n",
              "      <td>1</td>\n",
              "    </tr>\n",
              "    <tr>\n",
              "      <th>1</th>\n",
              "      <td>31</td>\n",
              "      <td>77.730</td>\n",
              "      <td>8</td>\n",
              "      <td>3</td>\n",
              "      <td>3</td>\n",
              "      <td>8</td>\n",
              "      <td>1</td>\n",
              "      <td>0</td>\n",
              "    </tr>\n",
              "    <tr>\n",
              "      <th>2</th>\n",
              "      <td>40</td>\n",
              "      <td>59.203</td>\n",
              "      <td>3</td>\n",
              "      <td>12</td>\n",
              "      <td>11</td>\n",
              "      <td>3</td>\n",
              "      <td>0</td>\n",
              "      <td>1</td>\n",
              "    </tr>\n",
              "    <tr>\n",
              "      <th>3</th>\n",
              "      <td>12</td>\n",
              "      <td>73.080</td>\n",
              "      <td>4</td>\n",
              "      <td>5</td>\n",
              "      <td>7</td>\n",
              "      <td>6</td>\n",
              "      <td>0</td>\n",
              "      <td>0</td>\n",
              "    </tr>\n",
              "    <tr>\n",
              "      <th>4</th>\n",
              "      <td>4</td>\n",
              "      <td>15.666</td>\n",
              "      <td>13</td>\n",
              "      <td>15</td>\n",
              "      <td>6</td>\n",
              "      <td>7</td>\n",
              "      <td>2</td>\n",
              "      <td>1</td>\n",
              "    </tr>\n",
              "  </tbody>\n",
              "</table>\n",
              "</div>\n",
              "      <button class=\"colab-df-convert\" onclick=\"convertToInteractive('df-6a2ffc0d-b8a9-4159-8737-762645088e28')\"\n",
              "              title=\"Convert this dataframe to an interactive table.\"\n",
              "              style=\"display:none;\">\n",
              "        \n",
              "  <svg xmlns=\"http://www.w3.org/2000/svg\" height=\"24px\"viewBox=\"0 0 24 24\"\n",
              "       width=\"24px\">\n",
              "    <path d=\"M0 0h24v24H0V0z\" fill=\"none\"/>\n",
              "    <path d=\"M18.56 5.44l.94 2.06.94-2.06 2.06-.94-2.06-.94-.94-2.06-.94 2.06-2.06.94zm-11 1L8.5 8.5l.94-2.06 2.06-.94-2.06-.94L8.5 2.5l-.94 2.06-2.06.94zm10 10l.94 2.06.94-2.06 2.06-.94-2.06-.94-.94-2.06-.94 2.06-2.06.94z\"/><path d=\"M17.41 7.96l-1.37-1.37c-.4-.4-.92-.59-1.43-.59-.52 0-1.04.2-1.43.59L10.3 9.45l-7.72 7.72c-.78.78-.78 2.05 0 2.83L4 21.41c.39.39.9.59 1.41.59.51 0 1.02-.2 1.41-.59l7.78-7.78 2.81-2.81c.8-.78.8-2.07 0-2.86zM5.41 20L4 18.59l7.72-7.72 1.47 1.35L5.41 20z\"/>\n",
              "  </svg>\n",
              "      </button>\n",
              "      \n",
              "  <style>\n",
              "    .colab-df-container {\n",
              "      display:flex;\n",
              "      flex-wrap:wrap;\n",
              "      gap: 12px;\n",
              "    }\n",
              "\n",
              "    .colab-df-convert {\n",
              "      background-color: #E8F0FE;\n",
              "      border: none;\n",
              "      border-radius: 50%;\n",
              "      cursor: pointer;\n",
              "      display: none;\n",
              "      fill: #1967D2;\n",
              "      height: 32px;\n",
              "      padding: 0 0 0 0;\n",
              "      width: 32px;\n",
              "    }\n",
              "\n",
              "    .colab-df-convert:hover {\n",
              "      background-color: #E2EBFA;\n",
              "      box-shadow: 0px 1px 2px rgba(60, 64, 67, 0.3), 0px 1px 3px 1px rgba(60, 64, 67, 0.15);\n",
              "      fill: #174EA6;\n",
              "    }\n",
              "\n",
              "    [theme=dark] .colab-df-convert {\n",
              "      background-color: #3B4455;\n",
              "      fill: #D2E3FC;\n",
              "    }\n",
              "\n",
              "    [theme=dark] .colab-df-convert:hover {\n",
              "      background-color: #434B5C;\n",
              "      box-shadow: 0px 1px 3px 1px rgba(0, 0, 0, 0.15);\n",
              "      filter: drop-shadow(0px 1px 2px rgba(0, 0, 0, 0.3));\n",
              "      fill: #FFFFFF;\n",
              "    }\n",
              "  </style>\n",
              "\n",
              "      <script>\n",
              "        const buttonEl =\n",
              "          document.querySelector('#df-6a2ffc0d-b8a9-4159-8737-762645088e28 button.colab-df-convert');\n",
              "        buttonEl.style.display =\n",
              "          google.colab.kernel.accessAllowed ? 'block' : 'none';\n",
              "\n",
              "        async function convertToInteractive(key) {\n",
              "          const element = document.querySelector('#df-6a2ffc0d-b8a9-4159-8737-762645088e28');\n",
              "          const dataTable =\n",
              "            await google.colab.kernel.invokeFunction('convertToInteractive',\n",
              "                                                     [key], {});\n",
              "          if (!dataTable) return;\n",
              "\n",
              "          const docLinkHtml = 'Like what you see? Visit the ' +\n",
              "            '<a target=\"_blank\" href=https://colab.research.google.com/notebooks/data_table.ipynb>data table notebook</a>'\n",
              "            + ' to learn more about interactive tables.';\n",
              "          element.innerHTML = '';\n",
              "          dataTable['output_type'] = 'display_data';\n",
              "          await google.colab.output.renderOutput(dataTable, element);\n",
              "          const docLink = document.createElement('div');\n",
              "          docLink.innerHTML = docLinkHtml;\n",
              "          element.appendChild(docLink);\n",
              "        }\n",
              "      </script>\n",
              "    </div>\n",
              "  </div>\n",
              "  "
            ]
          },
          "metadata": {},
          "execution_count": 4
        }
      ]
    },
    {
      "cell_type": "code",
      "source": [
        "test.head()"
      ],
      "metadata": {
        "colab": {
          "base_uri": "https://localhost:8080/",
          "height": 206
        },
        "id": "yUafOrvqRy85",
        "outputId": "cc7803d4-baf7-4596-dd4f-edc3f6edc2e3"
      },
      "execution_count": null,
      "outputs": [
        {
          "output_type": "execute_result",
          "data": {
            "text/plain": [
              "   City  Location_Score  Internal_Audit_Score  External_Audit_Score  \\\n",
              "0    41          18.272                    13                    12   \n",
              "1    17          64.799                     6                    10   \n",
              "2    31          68.890                     3                     3   \n",
              "3     3          16.492                    15                    10   \n",
              "4     9          17.178                     7                     3   \n",
              "\n",
              "   Fin_Score  Loss_score  Past_Results  \n",
              "0          9           7             0  \n",
              "1          7           4             1  \n",
              "2          7           8             0  \n",
              "3          7           4             1  \n",
              "4          8           3             1  "
            ],
            "text/html": [
              "\n",
              "  <div id=\"df-906ce2eb-1566-4900-8978-1016cace4d65\">\n",
              "    <div class=\"colab-df-container\">\n",
              "      <div>\n",
              "<style scoped>\n",
              "    .dataframe tbody tr th:only-of-type {\n",
              "        vertical-align: middle;\n",
              "    }\n",
              "\n",
              "    .dataframe tbody tr th {\n",
              "        vertical-align: top;\n",
              "    }\n",
              "\n",
              "    .dataframe thead th {\n",
              "        text-align: right;\n",
              "    }\n",
              "</style>\n",
              "<table border=\"1\" class=\"dataframe\">\n",
              "  <thead>\n",
              "    <tr style=\"text-align: right;\">\n",
              "      <th></th>\n",
              "      <th>City</th>\n",
              "      <th>Location_Score</th>\n",
              "      <th>Internal_Audit_Score</th>\n",
              "      <th>External_Audit_Score</th>\n",
              "      <th>Fin_Score</th>\n",
              "      <th>Loss_score</th>\n",
              "      <th>Past_Results</th>\n",
              "    </tr>\n",
              "  </thead>\n",
              "  <tbody>\n",
              "    <tr>\n",
              "      <th>0</th>\n",
              "      <td>41</td>\n",
              "      <td>18.272</td>\n",
              "      <td>13</td>\n",
              "      <td>12</td>\n",
              "      <td>9</td>\n",
              "      <td>7</td>\n",
              "      <td>0</td>\n",
              "    </tr>\n",
              "    <tr>\n",
              "      <th>1</th>\n",
              "      <td>17</td>\n",
              "      <td>64.799</td>\n",
              "      <td>6</td>\n",
              "      <td>10</td>\n",
              "      <td>7</td>\n",
              "      <td>4</td>\n",
              "      <td>1</td>\n",
              "    </tr>\n",
              "    <tr>\n",
              "      <th>2</th>\n",
              "      <td>31</td>\n",
              "      <td>68.890</td>\n",
              "      <td>3</td>\n",
              "      <td>3</td>\n",
              "      <td>7</td>\n",
              "      <td>8</td>\n",
              "      <td>0</td>\n",
              "    </tr>\n",
              "    <tr>\n",
              "      <th>3</th>\n",
              "      <td>3</td>\n",
              "      <td>16.492</td>\n",
              "      <td>15</td>\n",
              "      <td>10</td>\n",
              "      <td>7</td>\n",
              "      <td>4</td>\n",
              "      <td>1</td>\n",
              "    </tr>\n",
              "    <tr>\n",
              "      <th>4</th>\n",
              "      <td>9</td>\n",
              "      <td>17.178</td>\n",
              "      <td>7</td>\n",
              "      <td>3</td>\n",
              "      <td>8</td>\n",
              "      <td>3</td>\n",
              "      <td>1</td>\n",
              "    </tr>\n",
              "  </tbody>\n",
              "</table>\n",
              "</div>\n",
              "      <button class=\"colab-df-convert\" onclick=\"convertToInteractive('df-906ce2eb-1566-4900-8978-1016cace4d65')\"\n",
              "              title=\"Convert this dataframe to an interactive table.\"\n",
              "              style=\"display:none;\">\n",
              "        \n",
              "  <svg xmlns=\"http://www.w3.org/2000/svg\" height=\"24px\"viewBox=\"0 0 24 24\"\n",
              "       width=\"24px\">\n",
              "    <path d=\"M0 0h24v24H0V0z\" fill=\"none\"/>\n",
              "    <path d=\"M18.56 5.44l.94 2.06.94-2.06 2.06-.94-2.06-.94-.94-2.06-.94 2.06-2.06.94zm-11 1L8.5 8.5l.94-2.06 2.06-.94-2.06-.94L8.5 2.5l-.94 2.06-2.06.94zm10 10l.94 2.06.94-2.06 2.06-.94-2.06-.94-.94-2.06-.94 2.06-2.06.94z\"/><path d=\"M17.41 7.96l-1.37-1.37c-.4-.4-.92-.59-1.43-.59-.52 0-1.04.2-1.43.59L10.3 9.45l-7.72 7.72c-.78.78-.78 2.05 0 2.83L4 21.41c.39.39.9.59 1.41.59.51 0 1.02-.2 1.41-.59l7.78-7.78 2.81-2.81c.8-.78.8-2.07 0-2.86zM5.41 20L4 18.59l7.72-7.72 1.47 1.35L5.41 20z\"/>\n",
              "  </svg>\n",
              "      </button>\n",
              "      \n",
              "  <style>\n",
              "    .colab-df-container {\n",
              "      display:flex;\n",
              "      flex-wrap:wrap;\n",
              "      gap: 12px;\n",
              "    }\n",
              "\n",
              "    .colab-df-convert {\n",
              "      background-color: #E8F0FE;\n",
              "      border: none;\n",
              "      border-radius: 50%;\n",
              "      cursor: pointer;\n",
              "      display: none;\n",
              "      fill: #1967D2;\n",
              "      height: 32px;\n",
              "      padding: 0 0 0 0;\n",
              "      width: 32px;\n",
              "    }\n",
              "\n",
              "    .colab-df-convert:hover {\n",
              "      background-color: #E2EBFA;\n",
              "      box-shadow: 0px 1px 2px rgba(60, 64, 67, 0.3), 0px 1px 3px 1px rgba(60, 64, 67, 0.15);\n",
              "      fill: #174EA6;\n",
              "    }\n",
              "\n",
              "    [theme=dark] .colab-df-convert {\n",
              "      background-color: #3B4455;\n",
              "      fill: #D2E3FC;\n",
              "    }\n",
              "\n",
              "    [theme=dark] .colab-df-convert:hover {\n",
              "      background-color: #434B5C;\n",
              "      box-shadow: 0px 1px 3px 1px rgba(0, 0, 0, 0.15);\n",
              "      filter: drop-shadow(0px 1px 2px rgba(0, 0, 0, 0.3));\n",
              "      fill: #FFFFFF;\n",
              "    }\n",
              "  </style>\n",
              "\n",
              "      <script>\n",
              "        const buttonEl =\n",
              "          document.querySelector('#df-906ce2eb-1566-4900-8978-1016cace4d65 button.colab-df-convert');\n",
              "        buttonEl.style.display =\n",
              "          google.colab.kernel.accessAllowed ? 'block' : 'none';\n",
              "\n",
              "        async function convertToInteractive(key) {\n",
              "          const element = document.querySelector('#df-906ce2eb-1566-4900-8978-1016cace4d65');\n",
              "          const dataTable =\n",
              "            await google.colab.kernel.invokeFunction('convertToInteractive',\n",
              "                                                     [key], {});\n",
              "          if (!dataTable) return;\n",
              "\n",
              "          const docLinkHtml = 'Like what you see? Visit the ' +\n",
              "            '<a target=\"_blank\" href=https://colab.research.google.com/notebooks/data_table.ipynb>data table notebook</a>'\n",
              "            + ' to learn more about interactive tables.';\n",
              "          element.innerHTML = '';\n",
              "          dataTable['output_type'] = 'display_data';\n",
              "          await google.colab.output.renderOutput(dataTable, element);\n",
              "          const docLink = document.createElement('div');\n",
              "          docLink.innerHTML = docLinkHtml;\n",
              "          element.appendChild(docLink);\n",
              "        }\n",
              "      </script>\n",
              "    </div>\n",
              "  </div>\n",
              "  "
            ]
          },
          "metadata": {},
          "execution_count": 5
        }
      ]
    },
    {
      "cell_type": "code",
      "source": [
        "sub.head()"
      ],
      "metadata": {
        "colab": {
          "base_uri": "https://localhost:8080/",
          "height": 206
        },
        "id": "4PCr-7CESExG",
        "outputId": "0c31b1ed-de0a-4517-fca7-127da70bddc3"
      },
      "execution_count": null,
      "outputs": [
        {
          "output_type": "execute_result",
          "data": {
            "text/plain": [
              "          0         1\n",
              "0  0.005016  0.994984\n",
              "1  0.612204  0.387796\n",
              "2  0.844945  0.155055\n",
              "3  0.004671  0.995329\n",
              "4  0.175931  0.824069"
            ],
            "text/html": [
              "\n",
              "  <div id=\"df-fe519124-15d3-423e-bac0-cda6e19ae125\">\n",
              "    <div class=\"colab-df-container\">\n",
              "      <div>\n",
              "<style scoped>\n",
              "    .dataframe tbody tr th:only-of-type {\n",
              "        vertical-align: middle;\n",
              "    }\n",
              "\n",
              "    .dataframe tbody tr th {\n",
              "        vertical-align: top;\n",
              "    }\n",
              "\n",
              "    .dataframe thead th {\n",
              "        text-align: right;\n",
              "    }\n",
              "</style>\n",
              "<table border=\"1\" class=\"dataframe\">\n",
              "  <thead>\n",
              "    <tr style=\"text-align: right;\">\n",
              "      <th></th>\n",
              "      <th>0</th>\n",
              "      <th>1</th>\n",
              "    </tr>\n",
              "  </thead>\n",
              "  <tbody>\n",
              "    <tr>\n",
              "      <th>0</th>\n",
              "      <td>0.005016</td>\n",
              "      <td>0.994984</td>\n",
              "    </tr>\n",
              "    <tr>\n",
              "      <th>1</th>\n",
              "      <td>0.612204</td>\n",
              "      <td>0.387796</td>\n",
              "    </tr>\n",
              "    <tr>\n",
              "      <th>2</th>\n",
              "      <td>0.844945</td>\n",
              "      <td>0.155055</td>\n",
              "    </tr>\n",
              "    <tr>\n",
              "      <th>3</th>\n",
              "      <td>0.004671</td>\n",
              "      <td>0.995329</td>\n",
              "    </tr>\n",
              "    <tr>\n",
              "      <th>4</th>\n",
              "      <td>0.175931</td>\n",
              "      <td>0.824069</td>\n",
              "    </tr>\n",
              "  </tbody>\n",
              "</table>\n",
              "</div>\n",
              "      <button class=\"colab-df-convert\" onclick=\"convertToInteractive('df-fe519124-15d3-423e-bac0-cda6e19ae125')\"\n",
              "              title=\"Convert this dataframe to an interactive table.\"\n",
              "              style=\"display:none;\">\n",
              "        \n",
              "  <svg xmlns=\"http://www.w3.org/2000/svg\" height=\"24px\"viewBox=\"0 0 24 24\"\n",
              "       width=\"24px\">\n",
              "    <path d=\"M0 0h24v24H0V0z\" fill=\"none\"/>\n",
              "    <path d=\"M18.56 5.44l.94 2.06.94-2.06 2.06-.94-2.06-.94-.94-2.06-.94 2.06-2.06.94zm-11 1L8.5 8.5l.94-2.06 2.06-.94-2.06-.94L8.5 2.5l-.94 2.06-2.06.94zm10 10l.94 2.06.94-2.06 2.06-.94-2.06-.94-.94-2.06-.94 2.06-2.06.94z\"/><path d=\"M17.41 7.96l-1.37-1.37c-.4-.4-.92-.59-1.43-.59-.52 0-1.04.2-1.43.59L10.3 9.45l-7.72 7.72c-.78.78-.78 2.05 0 2.83L4 21.41c.39.39.9.59 1.41.59.51 0 1.02-.2 1.41-.59l7.78-7.78 2.81-2.81c.8-.78.8-2.07 0-2.86zM5.41 20L4 18.59l7.72-7.72 1.47 1.35L5.41 20z\"/>\n",
              "  </svg>\n",
              "      </button>\n",
              "      \n",
              "  <style>\n",
              "    .colab-df-container {\n",
              "      display:flex;\n",
              "      flex-wrap:wrap;\n",
              "      gap: 12px;\n",
              "    }\n",
              "\n",
              "    .colab-df-convert {\n",
              "      background-color: #E8F0FE;\n",
              "      border: none;\n",
              "      border-radius: 50%;\n",
              "      cursor: pointer;\n",
              "      display: none;\n",
              "      fill: #1967D2;\n",
              "      height: 32px;\n",
              "      padding: 0 0 0 0;\n",
              "      width: 32px;\n",
              "    }\n",
              "\n",
              "    .colab-df-convert:hover {\n",
              "      background-color: #E2EBFA;\n",
              "      box-shadow: 0px 1px 2px rgba(60, 64, 67, 0.3), 0px 1px 3px 1px rgba(60, 64, 67, 0.15);\n",
              "      fill: #174EA6;\n",
              "    }\n",
              "\n",
              "    [theme=dark] .colab-df-convert {\n",
              "      background-color: #3B4455;\n",
              "      fill: #D2E3FC;\n",
              "    }\n",
              "\n",
              "    [theme=dark] .colab-df-convert:hover {\n",
              "      background-color: #434B5C;\n",
              "      box-shadow: 0px 1px 3px 1px rgba(0, 0, 0, 0.15);\n",
              "      filter: drop-shadow(0px 1px 2px rgba(0, 0, 0, 0.3));\n",
              "      fill: #FFFFFF;\n",
              "    }\n",
              "  </style>\n",
              "\n",
              "      <script>\n",
              "        const buttonEl =\n",
              "          document.querySelector('#df-fe519124-15d3-423e-bac0-cda6e19ae125 button.colab-df-convert');\n",
              "        buttonEl.style.display =\n",
              "          google.colab.kernel.accessAllowed ? 'block' : 'none';\n",
              "\n",
              "        async function convertToInteractive(key) {\n",
              "          const element = document.querySelector('#df-fe519124-15d3-423e-bac0-cda6e19ae125');\n",
              "          const dataTable =\n",
              "            await google.colab.kernel.invokeFunction('convertToInteractive',\n",
              "                                                     [key], {});\n",
              "          if (!dataTable) return;\n",
              "\n",
              "          const docLinkHtml = 'Like what you see? Visit the ' +\n",
              "            '<a target=\"_blank\" href=https://colab.research.google.com/notebooks/data_table.ipynb>data table notebook</a>'\n",
              "            + ' to learn more about interactive tables.';\n",
              "          element.innerHTML = '';\n",
              "          dataTable['output_type'] = 'display_data';\n",
              "          await google.colab.output.renderOutput(dataTable, element);\n",
              "          const docLink = document.createElement('div');\n",
              "          docLink.innerHTML = docLinkHtml;\n",
              "          element.appendChild(docLink);\n",
              "        }\n",
              "      </script>\n",
              "    </div>\n",
              "  </div>\n",
              "  "
            ]
          },
          "metadata": {},
          "execution_count": 6
        }
      ]
    },
    {
      "cell_type": "markdown",
      "source": [
        "Checking for null values and descriptive statistics"
      ],
      "metadata": {
        "id": "a6F4Y-PdZH_D"
      }
    },
    {
      "cell_type": "code",
      "source": [
        "train.isnull().sum()"
      ],
      "metadata": {
        "colab": {
          "base_uri": "https://localhost:8080/"
        },
        "id": "YB7MgJcQSNrw",
        "outputId": "c6b85e30-ba2e-408b-e5bf-2a0e9942e32a"
      },
      "execution_count": null,
      "outputs": [
        {
          "output_type": "execute_result",
          "data": {
            "text/plain": [
              "City                    0\n",
              "Location_Score          0\n",
              "Internal_Audit_Score    0\n",
              "External_Audit_Score    0\n",
              "Fin_Score               0\n",
              "Loss_score              0\n",
              "Past_Results            0\n",
              "IsUnderRisk             0\n",
              "dtype: int64"
            ]
          },
          "metadata": {},
          "execution_count": 7
        }
      ]
    },
    {
      "cell_type": "code",
      "source": [
        "train.describe()"
      ],
      "metadata": {
        "colab": {
          "base_uri": "https://localhost:8080/",
          "height": 300
        },
        "id": "ZX8uBv9dYkb5",
        "outputId": "4db47bbb-b2e5-4d02-dca1-ddca06d3a6bf"
      },
      "execution_count": null,
      "outputs": [
        {
          "output_type": "execute_result",
          "data": {
            "text/plain": [
              "             City  Location_Score  Internal_Audit_Score  External_Audit_Score  \\\n",
              "count  543.000000      543.000000            543.000000            543.000000   \n",
              "mean    19.576427       32.259346              8.189687              7.327808   \n",
              "std     14.722687       24.887291              3.312022              3.450667   \n",
              "min      0.000000        5.185000              3.000000              3.000000   \n",
              "25%      6.000000       13.565000              6.000000              5.000000   \n",
              "50%     14.000000       19.803000              8.000000              7.000000   \n",
              "75%     37.000000       62.594000             11.000000             10.000000   \n",
              "max     44.000000       80.809000             15.000000             15.000000   \n",
              "\n",
              "        Fin_Score  Loss_score  Past_Results  IsUnderRisk  \n",
              "count  543.000000  543.000000    543.000000   543.000000  \n",
              "mean     7.046041    5.530387      0.613260     0.626151  \n",
              "std      3.156978    1.839124      0.764509     0.484270  \n",
              "min      3.000000    3.000000      0.000000     0.000000  \n",
              "25%      5.000000    4.000000      0.000000     0.000000  \n",
              "50%      7.000000    6.000000      1.000000     1.000000  \n",
              "75%      8.000000    7.000000      1.000000     1.000000  \n",
              "max     15.000000   13.000000     10.000000     1.000000  "
            ],
            "text/html": [
              "\n",
              "  <div id=\"df-71184ee9-7f40-4837-8c08-dee902223a14\">\n",
              "    <div class=\"colab-df-container\">\n",
              "      <div>\n",
              "<style scoped>\n",
              "    .dataframe tbody tr th:only-of-type {\n",
              "        vertical-align: middle;\n",
              "    }\n",
              "\n",
              "    .dataframe tbody tr th {\n",
              "        vertical-align: top;\n",
              "    }\n",
              "\n",
              "    .dataframe thead th {\n",
              "        text-align: right;\n",
              "    }\n",
              "</style>\n",
              "<table border=\"1\" class=\"dataframe\">\n",
              "  <thead>\n",
              "    <tr style=\"text-align: right;\">\n",
              "      <th></th>\n",
              "      <th>City</th>\n",
              "      <th>Location_Score</th>\n",
              "      <th>Internal_Audit_Score</th>\n",
              "      <th>External_Audit_Score</th>\n",
              "      <th>Fin_Score</th>\n",
              "      <th>Loss_score</th>\n",
              "      <th>Past_Results</th>\n",
              "      <th>IsUnderRisk</th>\n",
              "    </tr>\n",
              "  </thead>\n",
              "  <tbody>\n",
              "    <tr>\n",
              "      <th>count</th>\n",
              "      <td>543.000000</td>\n",
              "      <td>543.000000</td>\n",
              "      <td>543.000000</td>\n",
              "      <td>543.000000</td>\n",
              "      <td>543.000000</td>\n",
              "      <td>543.000000</td>\n",
              "      <td>543.000000</td>\n",
              "      <td>543.000000</td>\n",
              "    </tr>\n",
              "    <tr>\n",
              "      <th>mean</th>\n",
              "      <td>19.576427</td>\n",
              "      <td>32.259346</td>\n",
              "      <td>8.189687</td>\n",
              "      <td>7.327808</td>\n",
              "      <td>7.046041</td>\n",
              "      <td>5.530387</td>\n",
              "      <td>0.613260</td>\n",
              "      <td>0.626151</td>\n",
              "    </tr>\n",
              "    <tr>\n",
              "      <th>std</th>\n",
              "      <td>14.722687</td>\n",
              "      <td>24.887291</td>\n",
              "      <td>3.312022</td>\n",
              "      <td>3.450667</td>\n",
              "      <td>3.156978</td>\n",
              "      <td>1.839124</td>\n",
              "      <td>0.764509</td>\n",
              "      <td>0.484270</td>\n",
              "    </tr>\n",
              "    <tr>\n",
              "      <th>min</th>\n",
              "      <td>0.000000</td>\n",
              "      <td>5.185000</td>\n",
              "      <td>3.000000</td>\n",
              "      <td>3.000000</td>\n",
              "      <td>3.000000</td>\n",
              "      <td>3.000000</td>\n",
              "      <td>0.000000</td>\n",
              "      <td>0.000000</td>\n",
              "    </tr>\n",
              "    <tr>\n",
              "      <th>25%</th>\n",
              "      <td>6.000000</td>\n",
              "      <td>13.565000</td>\n",
              "      <td>6.000000</td>\n",
              "      <td>5.000000</td>\n",
              "      <td>5.000000</td>\n",
              "      <td>4.000000</td>\n",
              "      <td>0.000000</td>\n",
              "      <td>0.000000</td>\n",
              "    </tr>\n",
              "    <tr>\n",
              "      <th>50%</th>\n",
              "      <td>14.000000</td>\n",
              "      <td>19.803000</td>\n",
              "      <td>8.000000</td>\n",
              "      <td>7.000000</td>\n",
              "      <td>7.000000</td>\n",
              "      <td>6.000000</td>\n",
              "      <td>1.000000</td>\n",
              "      <td>1.000000</td>\n",
              "    </tr>\n",
              "    <tr>\n",
              "      <th>75%</th>\n",
              "      <td>37.000000</td>\n",
              "      <td>62.594000</td>\n",
              "      <td>11.000000</td>\n",
              "      <td>10.000000</td>\n",
              "      <td>8.000000</td>\n",
              "      <td>7.000000</td>\n",
              "      <td>1.000000</td>\n",
              "      <td>1.000000</td>\n",
              "    </tr>\n",
              "    <tr>\n",
              "      <th>max</th>\n",
              "      <td>44.000000</td>\n",
              "      <td>80.809000</td>\n",
              "      <td>15.000000</td>\n",
              "      <td>15.000000</td>\n",
              "      <td>15.000000</td>\n",
              "      <td>13.000000</td>\n",
              "      <td>10.000000</td>\n",
              "      <td>1.000000</td>\n",
              "    </tr>\n",
              "  </tbody>\n",
              "</table>\n",
              "</div>\n",
              "      <button class=\"colab-df-convert\" onclick=\"convertToInteractive('df-71184ee9-7f40-4837-8c08-dee902223a14')\"\n",
              "              title=\"Convert this dataframe to an interactive table.\"\n",
              "              style=\"display:none;\">\n",
              "        \n",
              "  <svg xmlns=\"http://www.w3.org/2000/svg\" height=\"24px\"viewBox=\"0 0 24 24\"\n",
              "       width=\"24px\">\n",
              "    <path d=\"M0 0h24v24H0V0z\" fill=\"none\"/>\n",
              "    <path d=\"M18.56 5.44l.94 2.06.94-2.06 2.06-.94-2.06-.94-.94-2.06-.94 2.06-2.06.94zm-11 1L8.5 8.5l.94-2.06 2.06-.94-2.06-.94L8.5 2.5l-.94 2.06-2.06.94zm10 10l.94 2.06.94-2.06 2.06-.94-2.06-.94-.94-2.06-.94 2.06-2.06.94z\"/><path d=\"M17.41 7.96l-1.37-1.37c-.4-.4-.92-.59-1.43-.59-.52 0-1.04.2-1.43.59L10.3 9.45l-7.72 7.72c-.78.78-.78 2.05 0 2.83L4 21.41c.39.39.9.59 1.41.59.51 0 1.02-.2 1.41-.59l7.78-7.78 2.81-2.81c.8-.78.8-2.07 0-2.86zM5.41 20L4 18.59l7.72-7.72 1.47 1.35L5.41 20z\"/>\n",
              "  </svg>\n",
              "      </button>\n",
              "      \n",
              "  <style>\n",
              "    .colab-df-container {\n",
              "      display:flex;\n",
              "      flex-wrap:wrap;\n",
              "      gap: 12px;\n",
              "    }\n",
              "\n",
              "    .colab-df-convert {\n",
              "      background-color: #E8F0FE;\n",
              "      border: none;\n",
              "      border-radius: 50%;\n",
              "      cursor: pointer;\n",
              "      display: none;\n",
              "      fill: #1967D2;\n",
              "      height: 32px;\n",
              "      padding: 0 0 0 0;\n",
              "      width: 32px;\n",
              "    }\n",
              "\n",
              "    .colab-df-convert:hover {\n",
              "      background-color: #E2EBFA;\n",
              "      box-shadow: 0px 1px 2px rgba(60, 64, 67, 0.3), 0px 1px 3px 1px rgba(60, 64, 67, 0.15);\n",
              "      fill: #174EA6;\n",
              "    }\n",
              "\n",
              "    [theme=dark] .colab-df-convert {\n",
              "      background-color: #3B4455;\n",
              "      fill: #D2E3FC;\n",
              "    }\n",
              "\n",
              "    [theme=dark] .colab-df-convert:hover {\n",
              "      background-color: #434B5C;\n",
              "      box-shadow: 0px 1px 3px 1px rgba(0, 0, 0, 0.15);\n",
              "      filter: drop-shadow(0px 1px 2px rgba(0, 0, 0, 0.3));\n",
              "      fill: #FFFFFF;\n",
              "    }\n",
              "  </style>\n",
              "\n",
              "      <script>\n",
              "        const buttonEl =\n",
              "          document.querySelector('#df-71184ee9-7f40-4837-8c08-dee902223a14 button.colab-df-convert');\n",
              "        buttonEl.style.display =\n",
              "          google.colab.kernel.accessAllowed ? 'block' : 'none';\n",
              "\n",
              "        async function convertToInteractive(key) {\n",
              "          const element = document.querySelector('#df-71184ee9-7f40-4837-8c08-dee902223a14');\n",
              "          const dataTable =\n",
              "            await google.colab.kernel.invokeFunction('convertToInteractive',\n",
              "                                                     [key], {});\n",
              "          if (!dataTable) return;\n",
              "\n",
              "          const docLinkHtml = 'Like what you see? Visit the ' +\n",
              "            '<a target=\"_blank\" href=https://colab.research.google.com/notebooks/data_table.ipynb>data table notebook</a>'\n",
              "            + ' to learn more about interactive tables.';\n",
              "          element.innerHTML = '';\n",
              "          dataTable['output_type'] = 'display_data';\n",
              "          await google.colab.output.renderOutput(dataTable, element);\n",
              "          const docLink = document.createElement('div');\n",
              "          docLink.innerHTML = docLinkHtml;\n",
              "          element.appendChild(docLink);\n",
              "        }\n",
              "      </script>\n",
              "    </div>\n",
              "  </div>\n",
              "  "
            ]
          },
          "metadata": {},
          "execution_count": 8
        }
      ]
    },
    {
      "cell_type": "code",
      "source": [
        "test.isnull().sum()"
      ],
      "metadata": {
        "colab": {
          "base_uri": "https://localhost:8080/"
        },
        "id": "6yYgpLaVSSdT",
        "outputId": "c15bdf0a-997f-42cc-f6fe-922449417568"
      },
      "execution_count": null,
      "outputs": [
        {
          "output_type": "execute_result",
          "data": {
            "text/plain": [
              "City                    0\n",
              "Location_Score          0\n",
              "Internal_Audit_Score    0\n",
              "External_Audit_Score    0\n",
              "Fin_Score               0\n",
              "Loss_score              0\n",
              "Past_Results            0\n",
              "dtype: int64"
            ]
          },
          "metadata": {},
          "execution_count": 9
        }
      ]
    },
    {
      "cell_type": "code",
      "source": [
        "sub.isnull().sum()"
      ],
      "metadata": {
        "colab": {
          "base_uri": "https://localhost:8080/"
        },
        "id": "OqMXYhnHSeoW",
        "outputId": "28123348-dafa-4bdd-d3b5-956254a43617"
      },
      "execution_count": null,
      "outputs": [
        {
          "output_type": "execute_result",
          "data": {
            "text/plain": [
              "0    0\n",
              "1    0\n",
              "dtype: int64"
            ]
          },
          "metadata": {},
          "execution_count": 10
        }
      ]
    },
    {
      "cell_type": "markdown",
      "source": [
        "Checking the IsUnderRisk column for how many are under risk and how many are not"
      ],
      "metadata": {
        "id": "PAgrit7xXRfW"
      }
    },
    {
      "cell_type": "code",
      "source": [
        "sns.countplot(train['IsUnderRisk'])\n",
        "plt.show()"
      ],
      "metadata": {
        "colab": {
          "base_uri": "https://localhost:8080/",
          "height": 334
        },
        "id": "shAGPDbvSivs",
        "outputId": "a45e3fa4-aeb8-41eb-cb26-935005619331"
      },
      "execution_count": null,
      "outputs": [
        {
          "output_type": "stream",
          "name": "stderr",
          "text": [
            "/usr/local/lib/python3.7/dist-packages/seaborn/_decorators.py:43: FutureWarning: Pass the following variable as a keyword arg: x. From version 0.12, the only valid positional argument will be `data`, and passing other arguments without an explicit keyword will result in an error or misinterpretation.\n",
            "  FutureWarning\n"
          ]
        },
        {
          "output_type": "display_data",
          "data": {
            "text/plain": [
              "<Figure size 432x288 with 1 Axes>"
            ],
            "image/png": "[encoded data removed]"
          },
          "metadata": {
            "needs_background": "light"
          }
        }
      ]
    },
    {
      "cell_type": "markdown",
      "source": [
        "Correlation of columns with target columns"
      ],
      "metadata": {
        "id": "AtmkjVYndZag"
      }
    },
    {
      "cell_type": "code",
      "source": [
        "plt.figure(figsize = (12,8))\n",
        "datacor = train.drop(['IsUnderRisk'], axis = 1)\n",
        "sns.barplot(datacor.columns,datacor.corrwith(train['IsUnderRisk']))"
      ],
      "metadata": {
        "colab": {
          "base_uri": "https://localhost:8080/",
          "height": 556
        },
        "id": "6J3Vuj4wbeov",
        "outputId": "3a3dddaf-7fec-4aba-b1d5-600d807bb4be"
      },
      "execution_count": null,
      "outputs": [
        {
          "output_type": "stream",
          "name": "stderr",
          "text": [
            "/usr/local/lib/python3.7/dist-packages/seaborn/_decorators.py:43: FutureWarning: Pass the following variables as keyword args: x, y. From version 0.12, the only valid positional argument will be `data`, and passing other arguments without an explicit keyword will result in an error or misinterpretation.\n",
            "  FutureWarning\n"
          ]
        },
        {
          "output_type": "execute_result",
          "data": {
            "text/plain": [
              "<matplotlib.axes._subplots.AxesSubplot at 0x7f2f91c34890>"
            ]
          },
          "metadata": {},
          "execution_count": 17
        },
        {
          "output_type": "display_data",
          "data": {
            "text/plain": [
              "<Figure size 864x576 with 1 Axes>"
            ],
            "image/png": "[encoded data removed]"
          },
          "metadata": {
            "needs_background": "light"
          }
        }
      ]
    },
    {
      "cell_type": "markdown",
      "source": [
        "Box Plot of CONTINUOUS variables"
      ],
      "metadata": {
        "id": "MyGa9QxIc982"
      }
    },
    {
      "cell_type": "code",
      "source": [
        "plt.figure(figsize=(16,6))\n",
        "train.boxplot(column=['Location_Score', 'Internal_Audit_Score','External_Audit_Score', 'Fin_Score', 'Loss_score'])"
      ],
      "metadata": {
        "colab": {
          "base_uri": "https://localhost:8080/",
          "height": 392
        },
        "id": "z5ZQVWwQcLcm",
        "outputId": "6fb014fd-4a80-4688-e483-f68ecc17df41"
      },
      "execution_count": null,
      "outputs": [
        {
          "output_type": "execute_result",
          "data": {
            "text/plain": [
              "<matplotlib.axes._subplots.AxesSubplot at 0x7f2f91d5f650>"
            ]
          },
          "metadata": {},
          "execution_count": 16
        },
        {
          "output_type": "display_data",
          "data": {
            "text/plain": [
              "<Figure size 1152x432 with 1 Axes>"
            ],
            "image/png": "[encoded data removed]"
          },
          "metadata": {
            "needs_background": "light"
          }
        }
      ]
    },
    {
      "cell_type": "markdown",
      "source": [
        " Density Plots Of Continuous Variable"
      ],
      "metadata": {
        "id": "P-1FKvSdeYv2"
      }
    },
    {
      "cell_type": "code",
      "source": [
        "columns = ['Location_Score', 'Internal_Audit_Score', 'External_Audit_Score', 'Fin_Score', 'Loss_score']\n",
        "plt.figure(figsize=(14,8))\n",
        "train[columns].plot(kind='density', subplots=True,layout=(2,3), sharex=False,sharey=False, figsize=(14,6))\n",
        "plt.show()"
      ],
      "metadata": {
        "colab": {
          "base_uri": "https://localhost:8080/",
          "height": 391
        },
        "id": "75SYVp4Bc24s",
        "outputId": "1ac3d709-64f8-4f3a-99f4-d833f6515316"
      },
      "execution_count": null,
      "outputs": [
        {
          "output_type": "display_data",
          "data": {
            "text/plain": [
              "<Figure size 1008x576 with 0 Axes>"
            ]
          },
          "metadata": {}
        },
        {
          "output_type": "display_data",
          "data": {
            "text/plain": [
              "<Figure size 1008x432 with 6 Axes>"
            ],
            "image/png": "[encoded data removed]"
          },
          "metadata": {
            "needs_background": "light"
          }
        }
      ]
    },
    {
      "cell_type": "markdown",
      "source": [
        "Correlation Matrix Plot"
      ],
      "metadata": {
        "id": "ku0qZtl6ec0e"
      }
    },
    {
      "cell_type": "code",
      "source": [
        "plt.figure(figsize=(20,8))\n",
        "corr = train.corr()\n",
        "ax = sns.heatmap(\n",
        "    corr, \n",
        "    vmin=-1, vmax=1, center=0,\n",
        "    cmap=sns.diverging_palette(20, 220, n=200),\n",
        "    square=True\n",
        ")\n",
        "ax.set_xticklabels(\n",
        "    ax.get_xticklabels(),\n",
        "    rotation=45,\n",
        "    horizontalalignment='right'\n",
        ")"
      ],
      "metadata": {
        "colab": {
          "base_uri": "https://localhost:8080/",
          "height": 698
        },
        "id": "i3AWtl9RdtFJ",
        "outputId": "a0c67be0-fd85-4b57-e7ec-6ef5b30ffcfb"
      },
      "execution_count": null,
      "outputs": [
        {
          "output_type": "execute_result",
          "data": {
            "text/plain": [
              "[Text(0.5, 0, 'City'),\n",
              " Text(1.5, 0, 'Location_Score'),\n",
              " Text(2.5, 0, 'Internal_Audit_Score'),\n",
              " Text(3.5, 0, 'External_Audit_Score'),\n",
              " Text(4.5, 0, 'Fin_Score'),\n",
              " Text(5.5, 0, 'Loss_score'),\n",
              " Text(6.5, 0, 'Past_Results'),\n",
              " Text(7.5, 0, 'IsUnderRisk')]"
            ]
          },
          "metadata": {},
          "execution_count": 20
        },
        {
          "output_type": "display_data",
          "data": {
            "text/plain": [
              "<Figure size 1440x576 with 2 Axes>"
            ],
            "image/png": "[encoded data removed]"
          },
          "metadata": {
            "needs_background": "light"
          }
        }
      ]
    },
    {
      "cell_type": "markdown",
      "source": [
        "Splitting the data into dependent and independent variables"
      ],
      "metadata": {
        "id": "sNJnxGT9Zau0"
      }
    },
    {
      "cell_type": "code",
      "source": [
        "X=train.drop('IsUnderRisk',axis='columns')\n",
        "y=train['IsUnderRisk']"
      ],
      "metadata": {
        "id": "DJBT6k4Rati1"
      },
      "execution_count": null,
      "outputs": []
    },
    {
      "cell_type": "code",
      "source": [
        "X.head()"
      ],
      "metadata": {
        "colab": {
          "base_uri": "https://localhost:8080/",
          "height": 206
        },
        "id": "Xp3fBiiJbm7d",
        "outputId": "93bf9ff1-02c9-4b3f-c78f-59ac8ace9a4e"
      },
      "execution_count": null,
      "outputs": [
        {
          "output_type": "execute_result",
          "data": {
            "text/plain": [
              "   City  Location_Score  Internal_Audit_Score  External_Audit_Score  \\\n",
              "0     2           8.032                    14                     8   \n",
              "1    31          77.730                     8                     3   \n",
              "2    40          59.203                     3                    12   \n",
              "3    12          73.080                     4                     5   \n",
              "4     4          15.666                    13                    15   \n",
              "\n",
              "   Fin_Score  Loss_score  Past_Results  \n",
              "0          3           6             0  \n",
              "1          3           8             1  \n",
              "2         11           3             0  \n",
              "3          7           6             0  \n",
              "4          6           7             2  "
            ],
            "text/html": [
              "\n",
              "  <div id=\"df-12ca6df5-0b48-4e0c-9b05-93f5b5af444d\">\n",
              "    <div class=\"colab-df-container\">\n",
              "      <div>\n",
              "<style scoped>\n",
              "    .dataframe tbody tr th:only-of-type {\n",
              "        vertical-align: middle;\n",
              "    }\n",
              "\n",
              "    .dataframe tbody tr th {\n",
              "        vertical-align: top;\n",
              "    }\n",
              "\n",
              "    .dataframe thead th {\n",
              "        text-align: right;\n",
              "    }\n",
              "</style>\n",
              "<table border=\"1\" class=\"dataframe\">\n",
              "  <thead>\n",
              "    <tr style=\"text-align: right;\">\n",
              "      <th></th>\n",
              "      <th>City</th>\n",
              "      <th>Location_Score</th>\n",
              "      <th>Internal_Audit_Score</th>\n",
              "      <th>External_Audit_Score</th>\n",
              "      <th>Fin_Score</th>\n",
              "      <th>Loss_score</th>\n",
              "      <th>Past_Results</th>\n",
              "    </tr>\n",
              "  </thead>\n",
              "  <tbody>\n",
              "    <tr>\n",
              "      <th>0</th>\n",
              "      <td>2</td>\n",
              "      <td>8.032</td>\n",
              "      <td>14</td>\n",
              "      <td>8</td>\n",
              "      <td>3</td>\n",
              "      <td>6</td>\n",
              "      <td>0</td>\n",
              "    </tr>\n",
              "    <tr>\n",
              "      <th>1</th>\n",
              "      <td>31</td>\n",
              "      <td>77.730</td>\n",
              "      <td>8</td>\n",
              "      <td>3</td>\n",
              "      <td>3</td>\n",
              "      <td>8</td>\n",
              "      <td>1</td>\n",
              "    </tr>\n",
              "    <tr>\n",
              "      <th>2</th>\n",
              "      <td>40</td>\n",
              "      <td>59.203</td>\n",
              "      <td>3</td>\n",
              "      <td>12</td>\n",
              "      <td>11</td>\n",
              "      <td>3</td>\n",
              "      <td>0</td>\n",
              "    </tr>\n",
              "    <tr>\n",
              "      <th>3</th>\n",
              "      <td>12</td>\n",
              "      <td>73.080</td>\n",
              "      <td>4</td>\n",
              "      <td>5</td>\n",
              "      <td>7</td>\n",
              "      <td>6</td>\n",
              "      <td>0</td>\n",
              "    </tr>\n",
              "    <tr>\n",
              "      <th>4</th>\n",
              "      <td>4</td>\n",
              "      <td>15.666</td>\n",
              "      <td>13</td>\n",
              "      <td>15</td>\n",
              "      <td>6</td>\n",
              "      <td>7</td>\n",
              "      <td>2</td>\n",
              "    </tr>\n",
              "  </tbody>\n",
              "</table>\n",
              "</div>\n",
              "      <button class=\"colab-df-convert\" onclick=\"convertToInteractive('df-12ca6df5-0b48-4e0c-9b05-93f5b5af444d')\"\n",
              "              title=\"Convert this dataframe to an interactive table.\"\n",
              "              style=\"display:none;\">\n",
              "        \n",
              "  <svg xmlns=\"http://www.w3.org/2000/svg\" height=\"24px\"viewBox=\"0 0 24 24\"\n",
              "       width=\"24px\">\n",
              "    <path d=\"M0 0h24v24H0V0z\" fill=\"none\"/>\n",
              "    <path d=\"M18.56 5.44l.94 2.06.94-2.06 2.06-.94-2.06-.94-.94-2.06-.94 2.06-2.06.94zm-11 1L8.5 8.5l.94-2.06 2.06-.94-2.06-.94L8.5 2.5l-.94 2.06-2.06.94zm10 10l.94 2.06.94-2.06 2.06-.94-2.06-.94-.94-2.06-.94 2.06-2.06.94z\"/><path d=\"M17.41 7.96l-1.37-1.37c-.4-.4-.92-.59-1.43-.59-.52 0-1.04.2-1.43.59L10.3 9.45l-7.72 7.72c-.78.78-.78 2.05 0 2.83L4 21.41c.39.39.9.59 1.41.59.51 0 1.02-.2 1.41-.59l7.78-7.78 2.81-2.81c.8-.78.8-2.07 0-2.86zM5.41 20L4 18.59l7.72-7.72 1.47 1.35L5.41 20z\"/>\n",
              "  </svg>\n",
              "      </button>\n",
              "      \n",
              "  <style>\n",
              "    .colab-df-container {\n",
              "      display:flex;\n",
              "      flex-wrap:wrap;\n",
              "      gap: 12px;\n",
              "    }\n",
              "\n",
              "    .colab-df-convert {\n",
              "      background-color: #E8F0FE;\n",
              "      border: none;\n",
              "      border-radius: 50%;\n",
              "      cursor: pointer;\n",
              "      display: none;\n",
              "      fill: #1967D2;\n",
              "      height: 32px;\n",
              "      padding: 0 0 0 0;\n",
              "      width: 32px;\n",
              "    }\n",
              "\n",
              "    .colab-df-convert:hover {\n",
              "      background-color: #E2EBFA;\n",
              "      box-shadow: 0px 1px 2px rgba(60, 64, 67, 0.3), 0px 1px 3px 1px rgba(60, 64, 67, 0.15);\n",
              "      fill: #174EA6;\n",
              "    }\n",
              "\n",
              "    [theme=dark] .colab-df-convert {\n",
              "      background-color: #3B4455;\n",
              "      fill: #D2E3FC;\n",
              "    }\n",
              "\n",
              "    [theme=dark] .colab-df-convert:hover {\n",
              "      background-color: #434B5C;\n",
              "      box-shadow: 0px 1px 3px 1px rgba(0, 0, 0, 0.15);\n",
              "      filter: drop-shadow(0px 1px 2px rgba(0, 0, 0, 0.3));\n",
              "      fill: #FFFFFF;\n",
              "    }\n",
              "  </style>\n",
              "\n",
              "      <script>\n",
              "        const buttonEl =\n",
              "          document.querySelector('#df-12ca6df5-0b48-4e0c-9b05-93f5b5af444d button.colab-df-convert');\n",
              "        buttonEl.style.display =\n",
              "          google.colab.kernel.accessAllowed ? 'block' : 'none';\n",
              "\n",
              "        async function convertToInteractive(key) {\n",
              "          const element = document.querySelector('#df-12ca6df5-0b48-4e0c-9b05-93f5b5af444d');\n",
              "          const dataTable =\n",
              "            await google.colab.kernel.invokeFunction('convertToInteractive',\n",
              "                                                     [key], {});\n",
              "          if (!dataTable) return;\n",
              "\n",
              "          const docLinkHtml = 'Like what you see? Visit the ' +\n",
              "            '<a target=\"_blank\" href=https://colab.research.google.com/notebooks/data_table.ipynb>data table notebook</a>'\n",
              "            + ' to learn more about interactive tables.';\n",
              "          element.innerHTML = '';\n",
              "          dataTable['output_type'] = 'display_data';\n",
              "          await google.colab.output.renderOutput(dataTable, element);\n",
              "          const docLink = document.createElement('div');\n",
              "          docLink.innerHTML = docLinkHtml;\n",
              "          element.appendChild(docLink);\n",
              "        }\n",
              "      </script>\n",
              "    </div>\n",
              "  </div>\n",
              "  "
            ]
          },
          "metadata": {},
          "execution_count": 12
        }
      ]
    },
    {
      "cell_type": "code",
      "source": [
        "from sklearn.model_selection import train_test_split"
      ],
      "metadata": {
        "id": "2PJpDzN3bttd"
      },
      "execution_count": null,
      "outputs": []
    },
    {
      "cell_type": "code",
      "source": [
        "X_train, X_test, y_train, y_test = train_test_split(X,y, test_size=.20, random_state=0)"
      ],
      "metadata": {
        "id": "5jRSJlvIbylk"
      },
      "execution_count": null,
      "outputs": []
    },
    {
      "cell_type": "code",
      "source": [
        "from sklearn.linear_model import LogisticRegression\n",
        "clf=LogisticRegression()"
      ],
      "metadata": {
        "id": "RcUoArk6bz6y"
      },
      "execution_count": null,
      "outputs": []
    },
    {
      "cell_type": "code",
      "source": [
        "clf.fit(X_train,y_train)"
      ],
      "metadata": {
        "colab": {
          "base_uri": "https://localhost:8080/"
        },
        "id": "Jf5Y88H5bzZl",
        "outputId": "d43c9217-ccca-47ba-8dd9-73e1f11d2a64"
      },
      "execution_count": null,
      "outputs": [
        {
          "output_type": "execute_result",
          "data": {
            "text/plain": [
              "LogisticRegression()"
            ]
          },
          "metadata": {},
          "execution_count": 16
        }
      ]
    },
    {
      "cell_type": "code",
      "source": [
        "clf.predict(X_test)"
      ],
      "metadata": {
        "colab": {
          "base_uri": "https://localhost:8080/"
        },
        "id": "0AnB9tf1cRYx",
        "outputId": "47ec27c5-2968-411c-d5cb-32ad2726bc41"
      },
      "execution_count": null,
      "outputs": [
        {
          "output_type": "execute_result",
          "data": {
            "text/plain": [
              "array([0, 0, 1, 0, 1, 1, 0, 1, 0, 0, 1, 1, 0, 1, 1, 1, 0, 1, 0, 1, 1, 0,\n",
              "       1, 1, 1, 1, 0, 1, 0, 1, 0, 1, 1, 0, 1, 1, 1, 0, 1, 1, 0, 1, 0, 1,\n",
              "       0, 1, 1, 1, 0, 0, 1, 0, 1, 1, 1, 0, 0, 0, 1, 0, 1, 0, 1, 0, 1, 0,\n",
              "       1, 1, 1, 0, 0, 1, 1, 1, 1, 1, 1, 1, 1, 0, 1, 0, 0, 0, 0, 1, 0, 0,\n",
              "       1, 1, 1, 0, 0, 0, 0, 0, 1, 0, 1, 1, 1, 0, 0, 1, 1, 1, 0, 0, 1])"
            ]
          },
          "metadata": {},
          "execution_count": 17
        }
      ]
    },
    {
      "cell_type": "code",
      "source": [
        "clf.score(X_test,y_test)"
      ],
      "metadata": {
        "colab": {
          "base_uri": "https://localhost:8080/"
        },
        "id": "Si_8nZ73cRVg",
        "outputId": "5abb7add-4644-4c87-ec3a-a796c92448a3"
      },
      "execution_count": null,
      "outputs": [
        {
          "output_type": "execute_result",
          "data": {
            "text/plain": [
              "0.7981651376146789"
            ]
          },
          "metadata": {},
          "execution_count": 18
        }
      ]
    },
    {
      "cell_type": "markdown",
      "source": [
        "Task 2 and 3"
      ],
      "metadata": {
        "id": "u0Yl5Cmoq2Ea"
      }
    },
    {
      "cell_type": "code",
      "source": [
        "model = tf.keras.Sequential([\n",
        "                             tf.keras.layers.InputLayer(input_shape=(7, )),\n",
        "                             tf.keras.layers.Dense(3),\n",
        "                             tf.keras.layers.Dropout(0.05),\n",
        "                             tf.keras.layers.Dense(1, activation='sigmoid')\n",
        "])\n",
        "\n",
        "model.compile(optimizer=tf.keras.optimizers.SGD(learning_rate=0.006),\n",
        "              loss='binary_crossentropy')\n",
        "\n",
        "model.summary()"
      ],
      "metadata": {
        "colab": {
          "base_uri": "https://localhost:8080/"
        },
        "id": "aLf0PmAKSnu0",
        "outputId": "f379366a-c673-4daf-f709-ffb6643002ae"
      },
      "execution_count": null,
      "outputs": [
        {
          "output_type": "stream",
          "name": "stdout",
          "text": [
            "Model: \"sequential\"\n",
            "_________________________________________________________________\n",
            " Layer (type)                Output Shape              Param #   \n",
            "=================================================================\n",
            " dense (Dense)               (None, 3)                 24        \n",
            "                                                                 \n",
            " dropout (Dropout)           (None, 3)                 0         \n",
            "                                                                 \n",
            " dense_1 (Dense)             (None, 1)                 4         \n",
            "                                                                 \n",
            "=================================================================\n",
            "Total params: 28\n",
            "Trainable params: 28\n",
            "Non-trainable params: 0\n",
            "_________________________________________________________________\n"
          ]
        }
      ]
    },
    {
      "cell_type": "code",
      "source": [
        "model.fit(X_train,y_train,epochs=50)"
      ],
      "metadata": {
        "colab": {
          "base_uri": "https://localhost:8080/"
        },
        "id": "lZkPts5v8AeX",
        "outputId": "1c2cc5ab-dc6f-4aa3-fb95-435ead858110"
      },
      "execution_count": null,
      "outputs": [
        {
          "output_type": "stream",
          "name": "stdout",
          "text": [
            "Epoch 1/50\n",
            "14/14 [==============================] - 1s 2ms/step - loss: 4.9892\n",
            "Epoch 2/50\n",
            "14/14 [==============================] - 0s 2ms/step - loss: 1.7391\n",
            "Epoch 3/50\n",
            "14/14 [==============================] - 0s 2ms/step - loss: 0.7780\n",
            "Epoch 4/50\n",
            "14/14 [==============================] - 0s 2ms/step - loss: 0.6889\n",
            "Epoch 5/50\n",
            "14/14 [==============================] - 0s 2ms/step - loss: 0.6775\n",
            "Epoch 6/50\n",
            "14/14 [==============================] - 0s 1ms/step - loss: 0.6208\n",
            "Epoch 7/50\n",
            "14/14 [==============================] - 0s 1ms/step - loss: 0.5984\n",
            "Epoch 8/50\n",
            "14/14 [==============================] - 0s 1ms/step - loss: 0.5935\n",
            "Epoch 9/50\n",
            "14/14 [==============================] - 0s 2ms/step - loss: 0.5724\n",
            "Epoch 10/50\n",
            "14/14 [==============================] - 0s 2ms/step - loss: 0.5358\n",
            "Epoch 11/50\n",
            "14/14 [==============================] - 0s 2ms/step - loss: 0.5457\n",
            "Epoch 12/50\n",
            "14/14 [==============================] - 0s 2ms/step - loss: 0.5285\n",
            "Epoch 13/50\n",
            "14/14 [==============================] - 0s 2ms/step - loss: 0.5313\n",
            "Epoch 14/50\n",
            "14/14 [==============================] - 0s 2ms/step - loss: 0.5179\n",
            "Epoch 15/50\n",
            "14/14 [==============================] - 0s 2ms/step - loss: 0.5063\n",
            "Epoch 16/50\n",
            "14/14 [==============================] - 0s 2ms/step - loss: 0.5121\n",
            "Epoch 17/50\n",
            "14/14 [==============================] - 0s 2ms/step - loss: 0.5063\n",
            "Epoch 18/50\n",
            "14/14 [==============================] - 0s 2ms/step - loss: 0.5028\n",
            "Epoch 19/50\n",
            "14/14 [==============================] - 0s 2ms/step - loss: 0.5046\n",
            "Epoch 20/50\n",
            "14/14 [==============================] - 0s 1ms/step - loss: 0.5009\n",
            "Epoch 21/50\n",
            "14/14 [==============================] - 0s 1ms/step - loss: 0.4750\n",
            "Epoch 22/50\n",
            "14/14 [==============================] - 0s 2ms/step - loss: 0.4998\n",
            "Epoch 23/50\n",
            "14/14 [==============================] - 0s 2ms/step - loss: 0.5008\n",
            "Epoch 24/50\n",
            "14/14 [==============================] - 0s 2ms/step - loss: 0.4971\n",
            "Epoch 25/50\n",
            "14/14 [==============================] - 0s 1ms/step - loss: 0.4978\n",
            "Epoch 26/50\n",
            "14/14 [==============================] - 0s 1ms/step - loss: 0.4880\n",
            "Epoch 27/50\n",
            "14/14 [==============================] - 0s 2ms/step - loss: 0.4878\n",
            "Epoch 28/50\n",
            "14/14 [==============================] - 0s 2ms/step - loss: 0.4737\n",
            "Epoch 29/50\n",
            "14/14 [==============================] - 0s 1ms/step - loss: 0.4902\n",
            "Epoch 30/50\n",
            "14/14 [==============================] - 0s 2ms/step - loss: 0.4882\n",
            "Epoch 31/50\n",
            "14/14 [==============================] - 0s 2ms/step - loss: 0.4812\n",
            "Epoch 32/50\n",
            "14/14 [==============================] - 0s 2ms/step - loss: 0.4921\n",
            "Epoch 33/50\n",
            "14/14 [==============================] - 0s 1ms/step - loss: 0.4670\n",
            "Epoch 34/50\n",
            "14/14 [==============================] - 0s 2ms/step - loss: 0.4817\n",
            "Epoch 35/50\n",
            "14/14 [==============================] - 0s 1ms/step - loss: 0.4904\n",
            "Epoch 36/50\n",
            "14/14 [==============================] - 0s 1ms/step - loss: 0.4888\n",
            "Epoch 37/50\n",
            "14/14 [==============================] - 0s 2ms/step - loss: 0.4840\n",
            "Epoch 38/50\n",
            "14/14 [==============================] - 0s 2ms/step - loss: 0.4855\n",
            "Epoch 39/50\n",
            "14/14 [==============================] - 0s 2ms/step - loss: 0.4812\n",
            "Epoch 40/50\n",
            "14/14 [==============================] - 0s 2ms/step - loss: 0.4787\n",
            "Epoch 41/50\n",
            "14/14 [==============================] - 0s 2ms/step - loss: 0.4730\n",
            "Epoch 42/50\n",
            "14/14 [==============================] - 0s 1ms/step - loss: 0.4824\n",
            "Epoch 43/50\n",
            "14/14 [==============================] - 0s 2ms/step - loss: 0.4744\n",
            "Epoch 44/50\n",
            "14/14 [==============================] - 0s 2ms/step - loss: 0.4683\n",
            "Epoch 45/50\n",
            "14/14 [==============================] - 0s 2ms/step - loss: 0.4675\n",
            "Epoch 46/50\n",
            "14/14 [==============================] - 0s 2ms/step - loss: 0.4800\n",
            "Epoch 47/50\n",
            "14/14 [==============================] - 0s 2ms/step - loss: 0.4841\n",
            "Epoch 48/50\n",
            "14/14 [==============================] - 0s 2ms/step - loss: 0.4664\n",
            "Epoch 49/50\n",
            "14/14 [==============================] - 0s 2ms/step - loss: 0.4622\n",
            "Epoch 50/50\n",
            "14/14 [==============================] - 0s 1ms/step - loss: 0.4591\n"
          ]
        },
        {
          "output_type": "execute_result",
          "data": {
            "text/plain": [
              "<keras.callbacks.History at 0x7f54c27d81d0>"
            ]
          },
          "metadata": {},
          "execution_count": 20
        }
      ]
    },
    {
      "cell_type": "code",
      "source": [
        "model.evaluate(X_test,y_test)"
      ],
      "metadata": {
        "id": "tA5U_nWz8Amn",
        "colab": {
          "base_uri": "https://localhost:8080/"
        },
        "outputId": "3296a5ef-3be5-45d1-9077-1cd2460754cb"
      },
      "execution_count": null,
      "outputs": [
        {
          "output_type": "stream",
          "name": "stdout",
          "text": [
            "4/4 [==============================] - 0s 3ms/step - loss: 0.4153\n"
          ]
        },
        {
          "output_type": "execute_result",
          "data": {
            "text/plain": [
              "0.4152904152870178"
            ]
          },
          "metadata": {},
          "execution_count": 21
        }
      ]
    },
    {
      "cell_type": "code",
      "source": [
        "model.predict(X_test)"
      ],
      "metadata": {
        "colab": {
          "base_uri": "https://localhost:8080/"
        },
        "id": "oUAvnZdLa1VL",
        "outputId": "8b2b0534-d882-46e0-df86-2c2687003754"
      },
      "execution_count": null,
      "outputs": [
        {
          "output_type": "execute_result",
          "data": {
            "text/plain": [
              "array([[0.40342322],\n",
              "       [0.24728963],\n",
              "       [0.83063436],\n",
              "       [0.36414796],\n",
              "       [0.9243779 ],\n",
              "       [0.6276187 ],\n",
              "       [0.09477067],\n",
              "       [0.8240706 ],\n",
              "       [0.29348674],\n",
              "       [0.64176077],\n",
              "       [0.769766  ],\n",
              "       [0.95098543],\n",
              "       [0.4332226 ],\n",
              "       [0.76566875],\n",
              "       [0.81153905],\n",
              "       [0.5142697 ],\n",
              "       [0.40706426],\n",
              "       [0.7098104 ],\n",
              "       [0.78358334],\n",
              "       [0.91391265],\n",
              "       [0.80764115],\n",
              "       [0.5711024 ],\n",
              "       [0.79899514],\n",
              "       [0.59838974],\n",
              "       [0.9140306 ],\n",
              "       [0.2914728 ],\n",
              "       [0.14604542],\n",
              "       [0.75406235],\n",
              "       [0.60030794],\n",
              "       [0.8123493 ],\n",
              "       [0.38620877],\n",
              "       [0.9101294 ],\n",
              "       [0.93698674],\n",
              "       [0.4980679 ],\n",
              "       [0.92523295],\n",
              "       [0.69147545],\n",
              "       [0.93396485],\n",
              "       [0.18756571],\n",
              "       [0.9537744 ],\n",
              "       [0.92695355],\n",
              "       [0.28695086],\n",
              "       [0.96978915],\n",
              "       [0.32219505],\n",
              "       [0.9188458 ],\n",
              "       [0.5136988 ],\n",
              "       [0.92942667],\n",
              "       [0.35588485],\n",
              "       [0.7987105 ],\n",
              "       [0.48868012],\n",
              "       [0.25333142],\n",
              "       [0.91894144],\n",
              "       [0.13786963],\n",
              "       [0.774181  ],\n",
              "       [0.9395443 ],\n",
              "       [0.6269763 ],\n",
              "       [0.76411647],\n",
              "       [0.24325937],\n",
              "       [0.21277449],\n",
              "       [0.94346064],\n",
              "       [0.1666705 ],\n",
              "       [0.83698726],\n",
              "       [0.4545993 ],\n",
              "       [0.91871506],\n",
              "       [0.25697   ],\n",
              "       [0.55290127],\n",
              "       [0.6248327 ],\n",
              "       [0.9159875 ],\n",
              "       [0.944664  ],\n",
              "       [0.9314492 ],\n",
              "       [0.20458052],\n",
              "       [0.2879259 ],\n",
              "       [0.9383435 ],\n",
              "       [0.7415187 ],\n",
              "       [0.5761981 ],\n",
              "       [0.7928091 ],\n",
              "       [0.70519924],\n",
              "       [0.816806  ],\n",
              "       [0.6334963 ],\n",
              "       [0.86621517],\n",
              "       [0.6575477 ],\n",
              "       [0.31165484],\n",
              "       [0.367275  ],\n",
              "       [0.12289938],\n",
              "       [0.11708233],\n",
              "       [0.61161375],\n",
              "       [0.9673753 ],\n",
              "       [0.282327  ],\n",
              "       [0.81020474],\n",
              "       [0.5706798 ],\n",
              "       [0.88167167],\n",
              "       [0.89496255],\n",
              "       [0.30265966],\n",
              "       [0.12747431],\n",
              "       [0.24930468],\n",
              "       [0.5151405 ],\n",
              "       [0.49629793],\n",
              "       [0.5647553 ],\n",
              "       [0.5203389 ],\n",
              "       [0.8205248 ],\n",
              "       [0.542754  ],\n",
              "       [0.94666386],\n",
              "       [0.2375299 ],\n",
              "       [0.5760729 ],\n",
              "       [0.6592448 ],\n",
              "       [0.44603768],\n",
              "       [0.9227034 ],\n",
              "       [0.27549535],\n",
              "       [0.31227726],\n",
              "       [0.7375796 ]], dtype=float32)"
            ]
          },
          "metadata": {},
          "execution_count": 22
        }
      ]
    },
    {
      "cell_type": "markdown",
      "source": [
        "Task 4"
      ],
      "metadata": {
        "id": "rgrVGFuHrAe8"
      }
    },
    {
      "cell_type": "code",
      "source": [
        "from sklearn.metrics import roc_auc_score"
      ],
      "metadata": {
        "id": "PzvnMmu7fQ-v"
      },
      "execution_count": null,
      "outputs": []
    },
    {
      "cell_type": "markdown",
      "source": [
        "AUC-ROC Score"
      ],
      "metadata": {
        "id": "xIusNhVlhTq3"
      }
    },
    {
      "cell_type": "code",
      "source": [
        "roc_auc_score(y_test, clf.predict_proba(X_test)[:, 1])"
      ],
      "metadata": {
        "colab": {
          "base_uri": "https://localhost:8080/"
        },
        "id": "ZAbUC4c7fpSG",
        "outputId": "8933e8ca-425c-4e9d-d5cf-ae14fcbbd719"
      },
      "execution_count": null,
      "outputs": [
        {
          "output_type": "execute_result",
          "data": {
            "text/plain": [
              "0.9114583333333334"
            ]
          },
          "metadata": {},
          "execution_count": 25
        }
      ]
    },
    {
      "cell_type": "code",
      "source": [
        "y_=np.array(y)\n",
        "y_=y_.reshape(-1,1)\n",
        "y_"
      ],
      "metadata": {
        "colab": {
          "base_uri": "https://localhost:8080/"
        },
        "id": "5aykz_uMvWJ6",
        "outputId": "976afa1c-c10e-4bfa-ea7d-5cdec60cbe77"
      },
      "execution_count": null,
      "outputs": [
        {
          "output_type": "execute_result",
          "data": {
            "text/plain": [
              "array([[1],\n",
              "       [0],\n",
              "       [1],\n",
              "       [0],\n",
              "       [1],\n",
              "       [1],\n",
              "       [0],\n",
              "       [1],\n",
              "       [0],\n",
              "       [0],\n",
              "       [1],\n",
              "       [1],\n",
              "       [0],\n",
              "       [1],\n",
              "       [1],\n",
              "       [1],\n",
              "       [0],\n",
              "       [1],\n",
              "       [0],\n",
              "       [1],\n",
              "       [0],\n",
              "       [0],\n",
              "       [1],\n",
              "       [1],\n",
              "       [1],\n",
              "       [1],\n",
              "       [1],\n",
              "       [0],\n",
              "       [0],\n",
              "       [1],\n",
              "       [0],\n",
              "       [1],\n",
              "       [1],\n",
              "       [1],\n",
              "       [1],\n",
              "       [0],\n",
              "       [0],\n",
              "       [1],\n",
              "       [0],\n",
              "       [1],\n",
              "       [0],\n",
              "       [1],\n",
              "       [0],\n",
              "       [1],\n",
              "       [1],\n",
              "       [0],\n",
              "       [0],\n",
              "       [1],\n",
              "       [1],\n",
              "       [1],\n",
              "       [1],\n",
              "       [0],\n",
              "       [0],\n",
              "       [1],\n",
              "       [0],\n",
              "       [1],\n",
              "       [1],\n",
              "       [1],\n",
              "       [0],\n",
              "       [0],\n",
              "       [1],\n",
              "       [0],\n",
              "       [1],\n",
              "       [0],\n",
              "       [1],\n",
              "       [0],\n",
              "       [1],\n",
              "       [0],\n",
              "       [1],\n",
              "       [0],\n",
              "       [1],\n",
              "       [0],\n",
              "       [1],\n",
              "       [1],\n",
              "       [1],\n",
              "       [1],\n",
              "       [1],\n",
              "       [1],\n",
              "       [0],\n",
              "       [1],\n",
              "       [0],\n",
              "       [1],\n",
              "       [0],\n",
              "       [1],\n",
              "       [0],\n",
              "       [1],\n",
              "       [1],\n",
              "       [1],\n",
              "       [0],\n",
              "       [1],\n",
              "       [1],\n",
              "       [0],\n",
              "       [0],\n",
              "       [1],\n",
              "       [1],\n",
              "       [1],\n",
              "       [1],\n",
              "       [1],\n",
              "       [1],\n",
              "       [0],\n",
              "       [1],\n",
              "       [1],\n",
              "       [0],\n",
              "       [0],\n",
              "       [1],\n",
              "       [1],\n",
              "       [1],\n",
              "       [0],\n",
              "       [0],\n",
              "       [0],\n",
              "       [1],\n",
              "       [1],\n",
              "       [0],\n",
              "       [1],\n",
              "       [1],\n",
              "       [1],\n",
              "       [1],\n",
              "       [1],\n",
              "       [0],\n",
              "       [1],\n",
              "       [1],\n",
              "       [1],\n",
              "       [1],\n",
              "       [1],\n",
              "       [1],\n",
              "       [1],\n",
              "       [1],\n",
              "       [0],\n",
              "       [0],\n",
              "       [1],\n",
              "       [1],\n",
              "       [1],\n",
              "       [1],\n",
              "       [1],\n",
              "       [0],\n",
              "       [0],\n",
              "       [0],\n",
              "       [0],\n",
              "       [0],\n",
              "       [1],\n",
              "       [1],\n",
              "       [1],\n",
              "       [1],\n",
              "       [0],\n",
              "       [1],\n",
              "       [1],\n",
              "       [1],\n",
              "       [1],\n",
              "       [1],\n",
              "       [0],\n",
              "       [1],\n",
              "       [1],\n",
              "       [0],\n",
              "       [0],\n",
              "       [1],\n",
              "       [1],\n",
              "       [0],\n",
              "       [0],\n",
              "       [1],\n",
              "       [1],\n",
              "       [1],\n",
              "       [0],\n",
              "       [1],\n",
              "       [1],\n",
              "       [0],\n",
              "       [0],\n",
              "       [1],\n",
              "       [1],\n",
              "       [1],\n",
              "       [1],\n",
              "       [0],\n",
              "       [1],\n",
              "       [1],\n",
              "       [1],\n",
              "       [0],\n",
              "       [1],\n",
              "       [1],\n",
              "       [1],\n",
              "       [1],\n",
              "       [0],\n",
              "       [0],\n",
              "       [0],\n",
              "       [1],\n",
              "       [0],\n",
              "       [1],\n",
              "       [0],\n",
              "       [0],\n",
              "       [1],\n",
              "       [0],\n",
              "       [1],\n",
              "       [1],\n",
              "       [1],\n",
              "       [1],\n",
              "       [1],\n",
              "       [0],\n",
              "       [1],\n",
              "       [0],\n",
              "       [1],\n",
              "       [0],\n",
              "       [0],\n",
              "       [1],\n",
              "       [0],\n",
              "       [1],\n",
              "       [1],\n",
              "       [0],\n",
              "       [0],\n",
              "       [0],\n",
              "       [1],\n",
              "       [0],\n",
              "       [1],\n",
              "       [1],\n",
              "       [1],\n",
              "       [1],\n",
              "       [0],\n",
              "       [0],\n",
              "       [1],\n",
              "       [0],\n",
              "       [0],\n",
              "       [0],\n",
              "       [1],\n",
              "       [1],\n",
              "       [1],\n",
              "       [0],\n",
              "       [0],\n",
              "       [0],\n",
              "       [0],\n",
              "       [0],\n",
              "       [1],\n",
              "       [1],\n",
              "       [0],\n",
              "       [0],\n",
              "       [1],\n",
              "       [0],\n",
              "       [1],\n",
              "       [0],\n",
              "       [1],\n",
              "       [1],\n",
              "       [0],\n",
              "       [1],\n",
              "       [0],\n",
              "       [1],\n",
              "       [0],\n",
              "       [1],\n",
              "       [1],\n",
              "       [1],\n",
              "       [0],\n",
              "       [1],\n",
              "       [1],\n",
              "       [0],\n",
              "       [1],\n",
              "       [1],\n",
              "       [1],\n",
              "       [0],\n",
              "       [0],\n",
              "       [0],\n",
              "       [1],\n",
              "       [1],\n",
              "       [1],\n",
              "       [1],\n",
              "       [1],\n",
              "       [1],\n",
              "       [0],\n",
              "       [1],\n",
              "       [1],\n",
              "       [0],\n",
              "       [1],\n",
              "       [1],\n",
              "       [0],\n",
              "       [0],\n",
              "       [1],\n",
              "       [0],\n",
              "       [1],\n",
              "       [0],\n",
              "       [1],\n",
              "       [1],\n",
              "       [1],\n",
              "       [1],\n",
              "       [0],\n",
              "       [1],\n",
              "       [1],\n",
              "       [0],\n",
              "       [1],\n",
              "       [1],\n",
              "       [1],\n",
              "       [1],\n",
              "       [1],\n",
              "       [1],\n",
              "       [0],\n",
              "       [1],\n",
              "       [1],\n",
              "       [1],\n",
              "       [0],\n",
              "       [1],\n",
              "       [0],\n",
              "       [0],\n",
              "       [1],\n",
              "       [1],\n",
              "       [1],\n",
              "       [1],\n",
              "       [1],\n",
              "       [1],\n",
              "       [1],\n",
              "       [1],\n",
              "       [1],\n",
              "       [1],\n",
              "       [0],\n",
              "       [1],\n",
              "       [0],\n",
              "       [0],\n",
              "       [1],\n",
              "       [1],\n",
              "       [1],\n",
              "       [1],\n",
              "       [0],\n",
              "       [1],\n",
              "       [0],\n",
              "       [0],\n",
              "       [0],\n",
              "       [1],\n",
              "       [1],\n",
              "       [1],\n",
              "       [1],\n",
              "       [1],\n",
              "       [1],\n",
              "       [0],\n",
              "       [1],\n",
              "       [1],\n",
              "       [0],\n",
              "       [1],\n",
              "       [1],\n",
              "       [0],\n",
              "       [1],\n",
              "       [1],\n",
              "       [1],\n",
              "       [1],\n",
              "       [0],\n",
              "       [0],\n",
              "       [1],\n",
              "       [1],\n",
              "       [0],\n",
              "       [0],\n",
              "       [1],\n",
              "       [1],\n",
              "       [0],\n",
              "       [0],\n",
              "       [1],\n",
              "       [0],\n",
              "       [0],\n",
              "       [1],\n",
              "       [1],\n",
              "       [1],\n",
              "       [0],\n",
              "       [0],\n",
              "       [0],\n",
              "       [0],\n",
              "       [0],\n",
              "       [1],\n",
              "       [0],\n",
              "       [0],\n",
              "       [0],\n",
              "       [1],\n",
              "       [1],\n",
              "       [1],\n",
              "       [1],\n",
              "       [0],\n",
              "       [1],\n",
              "       [1],\n",
              "       [1],\n",
              "       [0],\n",
              "       [0],\n",
              "       [0],\n",
              "       [0],\n",
              "       [1],\n",
              "       [0],\n",
              "       [0],\n",
              "       [1],\n",
              "       [1],\n",
              "       [1],\n",
              "       [1],\n",
              "       [0],\n",
              "       [1],\n",
              "       [0],\n",
              "       [0],\n",
              "       [0],\n",
              "       [1],\n",
              "       [1],\n",
              "       [1],\n",
              "       [1],\n",
              "       [1],\n",
              "       [0],\n",
              "       [1],\n",
              "       [0],\n",
              "       [1],\n",
              "       [0],\n",
              "       [1],\n",
              "       [0],\n",
              "       [0],\n",
              "       [0],\n",
              "       [0],\n",
              "       [1],\n",
              "       [1],\n",
              "       [1],\n",
              "       [1],\n",
              "       [0],\n",
              "       [0],\n",
              "       [1],\n",
              "       [1],\n",
              "       [1],\n",
              "       [1],\n",
              "       [0],\n",
              "       [0],\n",
              "       [0],\n",
              "       [1],\n",
              "       [0],\n",
              "       [1],\n",
              "       [1],\n",
              "       [1],\n",
              "       [1],\n",
              "       [0],\n",
              "       [1],\n",
              "       [1],\n",
              "       [1],\n",
              "       [1],\n",
              "       [1],\n",
              "       [0],\n",
              "       [1],\n",
              "       [0],\n",
              "       [1],\n",
              "       [0],\n",
              "       [1],\n",
              "       [1],\n",
              "       [1],\n",
              "       [1],\n",
              "       [1],\n",
              "       [1],\n",
              "       [1],\n",
              "       [1],\n",
              "       [0],\n",
              "       [1],\n",
              "       [1],\n",
              "       [1],\n",
              "       [1],\n",
              "       [1],\n",
              "       [1],\n",
              "       [1],\n",
              "       [1],\n",
              "       [0],\n",
              "       [0],\n",
              "       [0],\n",
              "       [1],\n",
              "       [1],\n",
              "       [0],\n",
              "       [1],\n",
              "       [1],\n",
              "       [1],\n",
              "       [1],\n",
              "       [1],\n",
              "       [1],\n",
              "       [0],\n",
              "       [1],\n",
              "       [1],\n",
              "       [1],\n",
              "       [0],\n",
              "       [1],\n",
              "       [1],\n",
              "       [1],\n",
              "       [1],\n",
              "       [0],\n",
              "       [0],\n",
              "       [1],\n",
              "       [1],\n",
              "       [1],\n",
              "       [1],\n",
              "       [1],\n",
              "       [0],\n",
              "       [1],\n",
              "       [1],\n",
              "       [1],\n",
              "       [1],\n",
              "       [1],\n",
              "       [1],\n",
              "       [1],\n",
              "       [1],\n",
              "       [0],\n",
              "       [1],\n",
              "       [0],\n",
              "       [1],\n",
              "       [1],\n",
              "       [1],\n",
              "       [1],\n",
              "       [1],\n",
              "       [1],\n",
              "       [0],\n",
              "       [0],\n",
              "       [1],\n",
              "       [1],\n",
              "       [1],\n",
              "       [1],\n",
              "       [0],\n",
              "       [1],\n",
              "       [0],\n",
              "       [1],\n",
              "       [0],\n",
              "       [1],\n",
              "       [1],\n",
              "       [1],\n",
              "       [1],\n",
              "       [1],\n",
              "       [1],\n",
              "       [1],\n",
              "       [1],\n",
              "       [0],\n",
              "       [1],\n",
              "       [1],\n",
              "       [0],\n",
              "       [0],\n",
              "       [0],\n",
              "       [0],\n",
              "       [1],\n",
              "       [0],\n",
              "       [1],\n",
              "       [0],\n",
              "       [1],\n",
              "       [1],\n",
              "       [1],\n",
              "       [0],\n",
              "       [0],\n",
              "       [0],\n",
              "       [0],\n",
              "       [1],\n",
              "       [1],\n",
              "       [1],\n",
              "       [0],\n",
              "       [1],\n",
              "       [1],\n",
              "       [0],\n",
              "       [0],\n",
              "       [0],\n",
              "       [0],\n",
              "       [0],\n",
              "       [0],\n",
              "       [1],\n",
              "       [1]])"
            ]
          },
          "metadata": {},
          "execution_count": 81
        }
      ]
    },
    {
      "cell_type": "code",
      "source": [
        "encoder=OneHotEncoder(sparse=False)\n",
        "y2=encoder.fit_transform(y_)\n",
        "y2"
      ],
      "metadata": {
        "colab": {
          "base_uri": "https://localhost:8080/"
        },
        "id": "ABDQcrFvvV2C",
        "outputId": "82cb3390-17b6-4eae-8738-4576eb80faca"
      },
      "execution_count": null,
      "outputs": [
        {
          "output_type": "execute_result",
          "data": {
            "text/plain": [
              "array([[0., 1.],\n",
              "       [1., 0.],\n",
              "       [0., 1.],\n",
              "       ...,\n",
              "       [1., 0.],\n",
              "       [0., 1.],\n",
              "       [0., 1.]])"
            ]
          },
          "metadata": {},
          "execution_count": 82
        }
      ]
    },
    {
      "cell_type": "code",
      "source": [
        "x_train, x_test, y_train, y_test = train_test_split(X,y2,test_size=0.2)"
      ],
      "metadata": {
        "id": "pg3d8W1PvVrP"
      },
      "execution_count": null,
      "outputs": []
    },
    {
      "cell_type": "markdown",
      "source": [
        "Task 5"
      ],
      "metadata": {
        "id": "ofUIV8qtrG-S"
      }
    },
    {
      "cell_type": "code",
      "source": [
        "model2 = tf.keras.Sequential([\n",
        "                              tf.keras.layers.InputLayer(input_shape=(7, )),\n",
        "                              tf.keras.layers.Dense(3),\n",
        "                              tf.keras.layers.Dense(2, activation='softmax')\n",
        "])\n",
        "\n",
        "model2.compile(optimizer=tf.keras.optimizers.SGD(learning_rate=0.006), loss='categorical_crossentropy')\n",
        "model2.summary()"
      ],
      "metadata": {
        "colab": {
          "base_uri": "https://localhost:8080/"
        },
        "id": "iu_HmU-nUftg",
        "outputId": "acf6cf39-ca63-44e9-9510-f232e4ec2b8b"
      },
      "execution_count": null,
      "outputs": [
        {
          "output_type": "stream",
          "name": "stdout",
          "text": [
            "Model: \"sequential_12\"\n",
            "_________________________________________________________________\n",
            " Layer (type)                Output Shape              Param #   \n",
            "=================================================================\n",
            " dense_18 (Dense)            (None, 3)                 24        \n",
            "                                                                 \n",
            " dense_19 (Dense)            (None, 2)                 8         \n",
            "                                                                 \n",
            "=================================================================\n",
            "Total params: 32\n",
            "Trainable params: 32\n",
            "Non-trainable params: 0\n",
            "_________________________________________________________________\n"
          ]
        }
      ]
    },
    {
      "cell_type": "code",
      "source": [
        "model2.fit(X_train,y_train,epochs=50)"
      ],
      "metadata": {
        "id": "fYMDBLKQdVHO",
        "colab": {
          "base_uri": "https://localhost:8080/"
        },
        "outputId": "e4a7e058-2b3d-487b-809e-eec113aac5a8"
      },
      "execution_count": null,
      "outputs": [
        {
          "output_type": "stream",
          "name": "stdout",
          "text": [
            "Epoch 1/50\n",
            "14/14 [==============================] - 0s 2ms/step - loss: 2.0685\n",
            "Epoch 2/50\n",
            "14/14 [==============================] - 0s 2ms/step - loss: 0.8012\n",
            "Epoch 3/50\n",
            "14/14 [==============================] - 0s 2ms/step - loss: 0.7537\n",
            "Epoch 4/50\n",
            "14/14 [==============================] - 0s 2ms/step - loss: 0.7110\n",
            "Epoch 5/50\n",
            "14/14 [==============================] - 0s 2ms/step - loss: 0.7255\n",
            "Epoch 6/50\n",
            "14/14 [==============================] - 0s 2ms/step - loss: 0.7077\n",
            "Epoch 7/50\n",
            "14/14 [==============================] - 0s 2ms/step - loss: 0.6974\n",
            "Epoch 8/50\n",
            "14/14 [==============================] - 0s 2ms/step - loss: 0.7085\n",
            "Epoch 9/50\n",
            "14/14 [==============================] - 0s 2ms/step - loss: 0.6968\n",
            "Epoch 10/50\n",
            "14/14 [==============================] - 0s 2ms/step - loss: 0.7253\n",
            "Epoch 11/50\n",
            "14/14 [==============================] - 0s 2ms/step - loss: 0.6852\n",
            "Epoch 12/50\n",
            "14/14 [==============================] - 0s 2ms/step - loss: 0.7512\n",
            "Epoch 13/50\n",
            "14/14 [==============================] - 0s 2ms/step - loss: 0.6848\n",
            "Epoch 14/50\n",
            "14/14 [==============================] - 0s 2ms/step - loss: 0.6869\n",
            "Epoch 15/50\n",
            "14/14 [==============================] - 0s 2ms/step - loss: 0.6828\n",
            "Epoch 16/50\n",
            "14/14 [==============================] - 0s 2ms/step - loss: 0.6923\n",
            "Epoch 17/50\n",
            "14/14 [==============================] - 0s 2ms/step - loss: 0.6937\n",
            "Epoch 18/50\n",
            "14/14 [==============================] - 0s 2ms/step - loss: 0.7216\n",
            "Epoch 19/50\n",
            "14/14 [==============================] - 0s 2ms/step - loss: 0.6883\n",
            "Epoch 20/50\n",
            "14/14 [==============================] - 0s 2ms/step - loss: 0.6866\n",
            "Epoch 21/50\n",
            "14/14 [==============================] - 0s 2ms/step - loss: 0.6909\n",
            "Epoch 22/50\n",
            "14/14 [==============================] - 0s 2ms/step - loss: 0.7023\n",
            "Epoch 23/50\n",
            "14/14 [==============================] - 0s 2ms/step - loss: 0.6748\n",
            "Epoch 24/50\n",
            "14/14 [==============================] - 0s 3ms/step - loss: 0.6984\n",
            "Epoch 25/50\n",
            "14/14 [==============================] - 0s 2ms/step - loss: 0.6742\n",
            "Epoch 26/50\n",
            "14/14 [==============================] - 0s 2ms/step - loss: 0.6743\n",
            "Epoch 27/50\n",
            "14/14 [==============================] - 0s 2ms/step - loss: 0.6910\n",
            "Epoch 28/50\n",
            "14/14 [==============================] - 0s 2ms/step - loss: 0.6700\n",
            "Epoch 29/50\n",
            "14/14 [==============================] - 0s 2ms/step - loss: 0.6881\n",
            "Epoch 30/50\n",
            "14/14 [==============================] - 0s 2ms/step - loss: 0.6710\n",
            "Epoch 31/50\n",
            "14/14 [==============================] - 0s 2ms/step - loss: 0.6901\n",
            "Epoch 32/50\n",
            "14/14 [==============================] - 0s 2ms/step - loss: 0.6799\n",
            "Epoch 33/50\n",
            "14/14 [==============================] - 0s 2ms/step - loss: 0.6736\n",
            "Epoch 34/50\n",
            "14/14 [==============================] - 0s 2ms/step - loss: 0.6792\n",
            "Epoch 35/50\n",
            "14/14 [==============================] - 0s 2ms/step - loss: 0.6783\n",
            "Epoch 36/50\n",
            "14/14 [==============================] - 0s 2ms/step - loss: 0.6724\n",
            "Epoch 37/50\n",
            "14/14 [==============================] - 0s 2ms/step - loss: 0.6737\n",
            "Epoch 38/50\n",
            "14/14 [==============================] - 0s 2ms/step - loss: 0.6777\n",
            "Epoch 39/50\n",
            "14/14 [==============================] - 0s 2ms/step - loss: 0.6703\n",
            "Epoch 40/50\n",
            "14/14 [==============================] - 0s 2ms/step - loss: 0.6697\n",
            "Epoch 41/50\n",
            "14/14 [==============================] - 0s 2ms/step - loss: 0.6751\n",
            "Epoch 42/50\n",
            "14/14 [==============================] - 0s 2ms/step - loss: 0.6695\n",
            "Epoch 43/50\n",
            "14/14 [==============================] - 0s 3ms/step - loss: 0.6718\n",
            "Epoch 44/50\n",
            "14/14 [==============================] - 0s 2ms/step - loss: 0.6719\n",
            "Epoch 45/50\n",
            "14/14 [==============================] - 0s 2ms/step - loss: 0.6753\n",
            "Epoch 46/50\n",
            "14/14 [==============================] - 0s 2ms/step - loss: 0.6839\n",
            "Epoch 47/50\n",
            "14/14 [==============================] - 0s 2ms/step - loss: 0.6820\n",
            "Epoch 48/50\n",
            "14/14 [==============================] - 0s 2ms/step - loss: 0.6736\n",
            "Epoch 49/50\n",
            "14/14 [==============================] - 0s 2ms/step - loss: 0.6765\n",
            "Epoch 50/50\n",
            "14/14 [==============================] - 0s 2ms/step - loss: 0.6838\n"
          ]
        },
        {
          "output_type": "execute_result",
          "data": {
            "text/plain": [
              "<keras.callbacks.History at 0x7f2030590550>"
            ]
          },
          "metadata": {},
          "execution_count": 101
        }
      ]
    },
    {
      "cell_type": "code",
      "source": [
        "y_pred=model2.predict(X_test)"
      ],
      "metadata": {
        "id": "vZo-Fwmvn7m2"
      },
      "execution_count": null,
      "outputs": []
    },
    {
      "cell_type": "code",
      "source": [
        "y_pred"
      ],
      "metadata": {
        "colab": {
          "base_uri": "https://localhost:8080/"
        },
        "id": "d8DqbELuwD9R",
        "outputId": "a08dae62-afdd-4aea-c1ab-d8ad428e2f94"
      },
      "execution_count": null,
      "outputs": [
        {
          "output_type": "execute_result",
          "data": {
            "text/plain": [
              "array([[0.3979903 , 0.6020097 ],\n",
              "       [0.37579963, 0.62420034],\n",
              "       [0.42252067, 0.5774793 ],\n",
              "       [0.40512043, 0.5948796 ],\n",
              "       [0.42911658, 0.57088333],\n",
              "       [0.35434416, 0.6456559 ],\n",
              "       [0.34422147, 0.6557786 ],\n",
              "       [0.35212675, 0.64787334],\n",
              "       [0.38007337, 0.61992663],\n",
              "       [0.42066708, 0.5793329 ],\n",
              "       [0.3991246 , 0.6008754 ],\n",
              "       [0.37920788, 0.62079215],\n",
              "       [0.3515417 , 0.6484583 ],\n",
              "       [0.41644794, 0.583552  ],\n",
              "       [0.34212235, 0.6578776 ],\n",
              "       [0.35202056, 0.64797944],\n",
              "       [0.38881466, 0.6111853 ],\n",
              "       [0.3673073 , 0.6326927 ],\n",
              "       [0.4018425 , 0.59815747],\n",
              "       [0.41467753, 0.58532244],\n",
              "       [0.35295305, 0.647047  ],\n",
              "       [0.3849354 , 0.6150646 ],\n",
              "       [0.39259285, 0.6074071 ],\n",
              "       [0.36569846, 0.6343016 ],\n",
              "       [0.39682573, 0.6031742 ],\n",
              "       [0.34138373, 0.6586163 ],\n",
              "       [0.33575952, 0.6642405 ],\n",
              "       [0.4095267 , 0.59047335],\n",
              "       [0.35770357, 0.6422964 ],\n",
              "       [0.44154063, 0.55845934],\n",
              "       [0.39460483, 0.6053952 ],\n",
              "       [0.38174647, 0.6182535 ],\n",
              "       [0.35565686, 0.64434314],\n",
              "       [0.39402395, 0.60597605],\n",
              "       [0.38925084, 0.6107492 ],\n",
              "       [0.37071872, 0.6292813 ],\n",
              "       [0.37767953, 0.6223205 ],\n",
              "       [0.3594711 , 0.640529  ],\n",
              "       [0.37228453, 0.62771547],\n",
              "       [0.40529907, 0.59470093],\n",
              "       [0.380221  , 0.619779  ],\n",
              "       [0.33776262, 0.6622374 ],\n",
              "       [0.34364152, 0.6563585 ],\n",
              "       [0.442892  , 0.557108  ],\n",
              "       [0.37148124, 0.6285187 ],\n",
              "       [0.4471041 , 0.55289584],\n",
              "       [0.32619113, 0.6738088 ],\n",
              "       [0.42736658, 0.5726334 ],\n",
              "       [0.38275117, 0.61724883],\n",
              "       [0.3649952 , 0.6350047 ],\n",
              "       [0.4426373 , 0.5573627 ],\n",
              "       [0.34670132, 0.6532986 ],\n",
              "       [0.41390082, 0.5860992 ],\n",
              "       [0.4445163 , 0.5554837 ],\n",
              "       [0.39582458, 0.60417545],\n",
              "       [0.3613269 , 0.63867307],\n",
              "       [0.4106768 , 0.5893232 ],\n",
              "       [0.34170797, 0.658292  ],\n",
              "       [0.39267018, 0.6073298 ],\n",
              "       [0.3602391 , 0.6397609 ],\n",
              "       [0.4039391 , 0.5960609 ],\n",
              "       [0.3724357 , 0.6275644 ],\n",
              "       [0.3946342 , 0.60536575],\n",
              "       [0.345215  , 0.65478504],\n",
              "       [0.38415942, 0.61584055],\n",
              "       [0.3706907 , 0.62930936],\n",
              "       [0.3916886 , 0.6083114 ],\n",
              "       [0.3719922 , 0.6280078 ],\n",
              "       [0.33279136, 0.6672087 ],\n",
              "       [0.35885733, 0.64114267],\n",
              "       [0.3652594 , 0.63474053],\n",
              "       [0.35214216, 0.6478578 ],\n",
              "       [0.374002  , 0.6259981 ],\n",
              "       [0.3334072 , 0.66659284],\n",
              "       [0.39759403, 0.60240597],\n",
              "       [0.37640083, 0.62359923],\n",
              "       [0.42620188, 0.5737981 ],\n",
              "       [0.3728654 , 0.6271346 ],\n",
              "       [0.4255256 , 0.5744744 ],\n",
              "       [0.41877225, 0.5812278 ],\n",
              "       [0.36481312, 0.63518685],\n",
              "       [0.38848928, 0.6115107 ],\n",
              "       [0.34421092, 0.6557891 ],\n",
              "       [0.33671987, 0.6632801 ],\n",
              "       [0.39428863, 0.60571134],\n",
              "       [0.39560184, 0.6043981 ],\n",
              "       [0.38572904, 0.6142709 ],\n",
              "       [0.43298703, 0.5670129 ],\n",
              "       [0.38688877, 0.61311126],\n",
              "       [0.35664535, 0.6433547 ],\n",
              "       [0.39818156, 0.60181844],\n",
              "       [0.37620488, 0.62379515],\n",
              "       [0.34321854, 0.6567815 ],\n",
              "       [0.3673711 , 0.63262886],\n",
              "       [0.35496655, 0.6450334 ],\n",
              "       [0.39091137, 0.6090886 ],\n",
              "       [0.3987837 , 0.6012163 ],\n",
              "       [0.37078568, 0.62921435],\n",
              "       [0.33517444, 0.66482556],\n",
              "       [0.3757378 , 0.6242622 ],\n",
              "       [0.38849136, 0.6115086 ],\n",
              "       [0.34644064, 0.6535593 ],\n",
              "       [0.37038907, 0.62961096],\n",
              "       [0.38693672, 0.6130633 ],\n",
              "       [0.36821875, 0.6317812 ],\n",
              "       [0.41042253, 0.58957744],\n",
              "       [0.37094676, 0.6290532 ],\n",
              "       [0.40287274, 0.5971273 ],\n",
              "       [0.35078397, 0.649216  ]], dtype=float32)"
            ]
          },
          "metadata": {},
          "execution_count": 103
        }
      ]
    },
    {
      "cell_type": "markdown",
      "source": [
        "Task 6"
      ],
      "metadata": {
        "id": "fGAkG0wCrJqA"
      }
    },
    {
      "cell_type": "code",
      "source": [
        "model2.evaluate(x_test,y_test)"
      ],
      "metadata": {
        "colab": {
          "base_uri": "https://localhost:8080/"
        },
        "id": "bYtTaZZjyOTq",
        "outputId": "acea9285-699b-4073-ad90-88a83f49ebae"
      },
      "execution_count": null,
      "outputs": [
        {
          "output_type": "stream",
          "name": "stdout",
          "text": [
            "4/4 [==============================] - 0s 4ms/step - loss: 0.6626\n"
          ]
        },
        {
          "output_type": "execute_result",
          "data": {
            "text/plain": [
              "0.6625624895095825"
            ]
          },
          "metadata": {},
          "execution_count": 104
        }
      ]
    },
    {
      "cell_type": "code",
      "source": [
        "from sklearn.metrics import log_loss"
      ],
      "metadata": {
        "id": "bEp--Y7VdZu4"
      },
      "execution_count": null,
      "outputs": []
    },
    {
      "cell_type": "code",
      "source": [
        "log_loss(y_test,y_pred)"
      ],
      "metadata": {
        "colab": {
          "base_uri": "https://localhost:8080/"
        },
        "id": "up__fiA5nzaK",
        "outputId": "a194a392-5f32-4650-bf54-7df4861aef6e"
      },
      "execution_count": null,
      "outputs": [
        {
          "output_type": "execute_result",
          "data": {
            "text/plain": [
              "0.6502506757548095"
            ]
          },
          "metadata": {},
          "execution_count": 106
        }
      ]
    },
    {
      "cell_type": "code",
      "source": [
        ""
      ],
      "metadata": {
        "id": "GoqGbrPNoj7j"
      },
      "execution_count": null,
      "outputs": []
    }
  ]
}