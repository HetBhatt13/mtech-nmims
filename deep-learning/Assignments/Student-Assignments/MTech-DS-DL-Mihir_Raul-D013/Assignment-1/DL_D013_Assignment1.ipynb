{
  "nbformat": 4,
  "nbformat_minor": 0,
  "metadata": {
    "colab": {
      "name": "D013_Mihir_Assignment1.ipynb",
      "provenance": []
    },
    "kernelspec": {
      "name": "python3",
      "display_name": "Python 3"
    },
    "language_info": {
      "name": "python"
    }
  },
  "cells": [
    {
      "cell_type": "markdown",
      "source": [
        "Importing Necessary Libraries"
      ],
      "metadata": {
        "id": "oHibX1mcV7YC"
      }
    },
    {
      "cell_type": "code",
      "execution_count": null,
      "metadata": {
        "id": "EyA6UauwTCrY"
      },
      "outputs": [],
      "source": [
        "import tensorflow as tf\n",
        "import numpy as np\n",
        "import pandas as pd\n",
        "import seaborn as sns\n",
        "import matplotlib.pyplot as plt\n",
        "%matplotlib inline"
      ]
    },
    {
      "cell_type": "markdown",
      "source": [
        "Importing Train and Test Data"
      ],
      "metadata": {
        "id": "XzbPLUcTWCBT"
      }
    },
    {
      "cell_type": "code",
      "source": [
        "train = pd.read_csv('Train.csv')\n",
        "test = pd.read_csv('Test.csv')"
      ],
      "metadata": {
        "id": "QOaK-FtrUERz"
      },
      "execution_count": null,
      "outputs": []
    },
    {
      "cell_type": "markdown",
      "source": [
        "Analysing the type of variables train set contains"
      ],
      "metadata": {
        "id": "e8kKsM4hWJRI"
      }
    },
    {
      "cell_type": "markdown",
      "source": [
        "Task 1 (EDA)"
      ],
      "metadata": {
        "id": "bwiLP5hA9-F2"
      }
    },
    {
      "cell_type": "code",
      "source": [
        "train.dtypes"
      ],
      "metadata": {
        "colab": {
          "base_uri": "https://localhost:8080/"
        },
        "id": "y8lEvFchWueQ",
        "outputId": "89d48146-9763-47ad-f5cb-279e1dc13dc3"
      },
      "execution_count": null,
      "outputs": [
        {
          "output_type": "execute_result",
          "data": {
            "text/plain": [
              "City                      int64\n",
              "Location_Score          float64\n",
              "Internal_Audit_Score      int64\n",
              "External_Audit_Score      int64\n",
              "Fin_Score                 int64\n",
              "Loss_score                int64\n",
              "Past_Results              int64\n",
              "IsUnderRisk               int64\n",
              "dtype: object"
            ]
          },
          "metadata": {},
          "execution_count": 3
        }
      ]
    },
    {
      "cell_type": "code",
      "source": [
        "train.head()"
      ],
      "metadata": {
        "colab": {
          "base_uri": "https://localhost:8080/",
          "height": 206
        },
        "id": "iggawMfPTUoZ",
        "outputId": "33792895-346f-4ad7-c604-90199fab2a50"
      },
      "execution_count": null,
      "outputs": [
        {
          "output_type": "execute_result",
          "data": {
            "text/plain": [
              "   City  Location_Score  Internal_Audit_Score  External_Audit_Score  \\\n",
              "0     2           8.032                    14                     8   \n",
              "1    31          77.730                     8                     3   \n",
              "2    40          59.203                     3                    12   \n",
              "3    12          73.080                     4                     5   \n",
              "4     4          15.666                    13                    15   \n",
              "\n",
              "   Fin_Score  Loss_score  Past_Results  IsUnderRisk  \n",
              "0          3           6             0            1  \n",
              "1          3           8             1            0  \n",
              "2         11           3             0            1  \n",
              "3          7           6             0            0  \n",
              "4          6           7             2            1  "
            ],
            "text/html": [
              "\n",
              "  <div id=\"df-09be9a52-4948-4fd3-9be7-afa25931943b\">\n",
              "    <div class=\"colab-df-container\">\n",
              "      <div>\n",
              "<style scoped>\n",
              "    .dataframe tbody tr th:only-of-type {\n",
              "        vertical-align: middle;\n",
              "    }\n",
              "\n",
              "    .dataframe tbody tr th {\n",
              "        vertical-align: top;\n",
              "    }\n",
              "\n",
              "    .dataframe thead th {\n",
              "        text-align: right;\n",
              "    }\n",
              "</style>\n",
              "<table border=\"1\" class=\"dataframe\">\n",
              "  <thead>\n",
              "    <tr style=\"text-align: right;\">\n",
              "      <th></th>\n",
              "      <th>City</th>\n",
              "      <th>Location_Score</th>\n",
              "      <th>Internal_Audit_Score</th>\n",
              "      <th>External_Audit_Score</th>\n",
              "      <th>Fin_Score</th>\n",
              "      <th>Loss_score</th>\n",
              "      <th>Past_Results</th>\n",
              "      <th>IsUnderRisk</th>\n",
              "    </tr>\n",
              "  </thead>\n",
              "  <tbody>\n",
              "    <tr>\n",
              "      <th>0</th>\n",
              "      <td>2</td>\n",
              "      <td>8.032</td>\n",
              "      <td>14</td>\n",
              "      <td>8</td>\n",
              "      <td>3</td>\n",
              "      <td>6</td>\n",
              "      <td>0</td>\n",
              "      <td>1</td>\n",
              "    </tr>\n",
              "    <tr>\n",
              "      <th>1</th>\n",
              "      <td>31</td>\n",
              "      <td>77.730</td>\n",
              "      <td>8</td>\n",
              "      <td>3</td>\n",
              "      <td>3</td>\n",
              "      <td>8</td>\n",
              "      <td>1</td>\n",
              "      <td>0</td>\n",
              "    </tr>\n",
              "    <tr>\n",
              "      <th>2</th>\n",
              "      <td>40</td>\n",
              "      <td>59.203</td>\n",
              "      <td>3</td>\n",
              "      <td>12</td>\n",
              "      <td>11</td>\n",
              "      <td>3</td>\n",
              "      <td>0</td>\n",
              "      <td>1</td>\n",
              "    </tr>\n",
              "    <tr>\n",
              "      <th>3</th>\n",
              "      <td>12</td>\n",
              "      <td>73.080</td>\n",
              "      <td>4</td>\n",
              "      <td>5</td>\n",
              "      <td>7</td>\n",
              "      <td>6</td>\n",
              "      <td>0</td>\n",
              "      <td>0</td>\n",
              "    </tr>\n",
              "    <tr>\n",
              "      <th>4</th>\n",
              "      <td>4</td>\n",
              "      <td>15.666</td>\n",
              "      <td>13</td>\n",
              "      <td>15</td>\n",
              "      <td>6</td>\n",
              "      <td>7</td>\n",
              "      <td>2</td>\n",
              "      <td>1</td>\n",
              "    </tr>\n",
              "  </tbody>\n",
              "</table>\n",
              "</div>\n",
              "      <button class=\"colab-df-convert\" onclick=\"convertToInteractive('df-09be9a52-4948-4fd3-9be7-afa25931943b')\"\n",
              "              title=\"Convert this dataframe to an interactive table.\"\n",
              "              style=\"display:none;\">\n",
              "        \n",
              "  <svg xmlns=\"http://www.w3.org/2000/svg\" height=\"24px\"viewBox=\"0 0 24 24\"\n",
              "       width=\"24px\">\n",
              "    <path d=\"M0 0h24v24H0V0z\" fill=\"none\"/>\n",
              "    <path d=\"M18.56 5.44l.94 2.06.94-2.06 2.06-.94-2.06-.94-.94-2.06-.94 2.06-2.06.94zm-11 1L8.5 8.5l.94-2.06 2.06-.94-2.06-.94L8.5 2.5l-.94 2.06-2.06.94zm10 10l.94 2.06.94-2.06 2.06-.94-2.06-.94-.94-2.06-.94 2.06-2.06.94z\"/><path d=\"M17.41 7.96l-1.37-1.37c-.4-.4-.92-.59-1.43-.59-.52 0-1.04.2-1.43.59L10.3 9.45l-7.72 7.72c-.78.78-.78 2.05 0 2.83L4 21.41c.39.39.9.59 1.41.59.51 0 1.02-.2 1.41-.59l7.78-7.78 2.81-2.81c.8-.78.8-2.07 0-2.86zM5.41 20L4 18.59l7.72-7.72 1.47 1.35L5.41 20z\"/>\n",
              "  </svg>\n",
              "      </button>\n",
              "      \n",
              "  <style>\n",
              "    .colab-df-container {\n",
              "      display:flex;\n",
              "      flex-wrap:wrap;\n",
              "      gap: 12px;\n",
              "    }\n",
              "\n",
              "    .colab-df-convert {\n",
              "      background-color: #E8F0FE;\n",
              "      border: none;\n",
              "      border-radius: 50%;\n",
              "      cursor: pointer;\n",
              "      display: none;\n",
              "      fill: #1967D2;\n",
              "      height: 32px;\n",
              "      padding: 0 0 0 0;\n",
              "      width: 32px;\n",
              "    }\n",
              "\n",
              "    .colab-df-convert:hover {\n",
              "      background-color: #E2EBFA;\n",
              "      box-shadow: 0px 1px 2px rgba(60, 64, 67, 0.3), 0px 1px 3px 1px rgba(60, 64, 67, 0.15);\n",
              "      fill: #174EA6;\n",
              "    }\n",
              "\n",
              "    [theme=dark] .colab-df-convert {\n",
              "      background-color: #3B4455;\n",
              "      fill: #D2E3FC;\n",
              "    }\n",
              "\n",
              "    [theme=dark] .colab-df-convert:hover {\n",
              "      background-color: #434B5C;\n",
              "      box-shadow: 0px 1px 3px 1px rgba(0, 0, 0, 0.15);\n",
              "      filter: drop-shadow(0px 1px 2px rgba(0, 0, 0, 0.3));\n",
              "      fill: #FFFFFF;\n",
              "    }\n",
              "  </style>\n",
              "\n",
              "      <script>\n",
              "        const buttonEl =\n",
              "          document.querySelector('#df-09be9a52-4948-4fd3-9be7-afa25931943b button.colab-df-convert');\n",
              "        buttonEl.style.display =\n",
              "          google.colab.kernel.accessAllowed ? 'block' : 'none';\n",
              "\n",
              "        async function convertToInteractive(key) {\n",
              "          const element = document.querySelector('#df-09be9a52-4948-4fd3-9be7-afa25931943b');\n",
              "          const dataTable =\n",
              "            await google.colab.kernel.invokeFunction('convertToInteractive',\n",
              "                                                     [key], {});\n",
              "          if (!dataTable) return;\n",
              "\n",
              "          const docLinkHtml = 'Like what you see? Visit the ' +\n",
              "            '<a target=\"_blank\" href=https://colab.research.google.com/notebooks/data_table.ipynb>data table notebook</a>'\n",
              "            + ' to learn more about interactive tables.';\n",
              "          element.innerHTML = '';\n",
              "          dataTable['output_type'] = 'display_data';\n",
              "          await google.colab.output.renderOutput(dataTable, element);\n",
              "          const docLink = document.createElement('div');\n",
              "          docLink.innerHTML = docLinkHtml;\n",
              "          element.appendChild(docLink);\n",
              "        }\n",
              "      </script>\n",
              "    </div>\n",
              "  </div>\n",
              "  "
            ]
          },
          "metadata": {},
          "execution_count": 4
        }
      ]
    },
    {
      "cell_type": "code",
      "source": [
        "train.describe()"
      ],
      "metadata": {
        "colab": {
          "base_uri": "https://localhost:8080/",
          "height": 300
        },
        "id": "2enUHpDRWI_G",
        "outputId": "2648d1cf-66ee-4594-8b48-abd4c966b332"
      },
      "execution_count": null,
      "outputs": [
        {
          "output_type": "execute_result",
          "data": {
            "text/plain": [
              "             City  Location_Score  Internal_Audit_Score  External_Audit_Score  \\\n",
              "count  543.000000      543.000000            543.000000            543.000000   \n",
              "mean    19.576427       32.259346              8.189687              7.327808   \n",
              "std     14.722687       24.887291              3.312022              3.450667   \n",
              "min      0.000000        5.185000              3.000000              3.000000   \n",
              "25%      6.000000       13.565000              6.000000              5.000000   \n",
              "50%     14.000000       19.803000              8.000000              7.000000   \n",
              "75%     37.000000       62.594000             11.000000             10.000000   \n",
              "max     44.000000       80.809000             15.000000             15.000000   \n",
              "\n",
              "        Fin_Score  Loss_score  Past_Results  IsUnderRisk  \n",
              "count  543.000000  543.000000    543.000000   543.000000  \n",
              "mean     7.046041    5.530387      0.613260     0.626151  \n",
              "std      3.156978    1.839124      0.764509     0.484270  \n",
              "min      3.000000    3.000000      0.000000     0.000000  \n",
              "25%      5.000000    4.000000      0.000000     0.000000  \n",
              "50%      7.000000    6.000000      1.000000     1.000000  \n",
              "75%      8.000000    7.000000      1.000000     1.000000  \n",
              "max     15.000000   13.000000     10.000000     1.000000  "
            ],
            "text/html": [
              "\n",
              "  <div id=\"df-90b8ec07-b069-482c-8398-d4434d36e3e8\">\n",
              "    <div class=\"colab-df-container\">\n",
              "      <div>\n",
              "<style scoped>\n",
              "    .dataframe tbody tr th:only-of-type {\n",
              "        vertical-align: middle;\n",
              "    }\n",
              "\n",
              "    .dataframe tbody tr th {\n",
              "        vertical-align: top;\n",
              "    }\n",
              "\n",
              "    .dataframe thead th {\n",
              "        text-align: right;\n",
              "    }\n",
              "</style>\n",
              "<table border=\"1\" class=\"dataframe\">\n",
              "  <thead>\n",
              "    <tr style=\"text-align: right;\">\n",
              "      <th></th>\n",
              "      <th>City</th>\n",
              "      <th>Location_Score</th>\n",
              "      <th>Internal_Audit_Score</th>\n",
              "      <th>External_Audit_Score</th>\n",
              "      <th>Fin_Score</th>\n",
              "      <th>Loss_score</th>\n",
              "      <th>Past_Results</th>\n",
              "      <th>IsUnderRisk</th>\n",
              "    </tr>\n",
              "  </thead>\n",
              "  <tbody>\n",
              "    <tr>\n",
              "      <th>count</th>\n",
              "      <td>543.000000</td>\n",
              "      <td>543.000000</td>\n",
              "      <td>543.000000</td>\n",
              "      <td>543.000000</td>\n",
              "      <td>543.000000</td>\n",
              "      <td>543.000000</td>\n",
              "      <td>543.000000</td>\n",
              "      <td>543.000000</td>\n",
              "    </tr>\n",
              "    <tr>\n",
              "      <th>mean</th>\n",
              "      <td>19.576427</td>\n",
              "      <td>32.259346</td>\n",
              "      <td>8.189687</td>\n",
              "      <td>7.327808</td>\n",
              "      <td>7.046041</td>\n",
              "      <td>5.530387</td>\n",
              "      <td>0.613260</td>\n",
              "      <td>0.626151</td>\n",
              "    </tr>\n",
              "    <tr>\n",
              "      <th>std</th>\n",
              "      <td>14.722687</td>\n",
              "      <td>24.887291</td>\n",
              "      <td>3.312022</td>\n",
              "      <td>3.450667</td>\n",
              "      <td>3.156978</td>\n",
              "      <td>1.839124</td>\n",
              "      <td>0.764509</td>\n",
              "      <td>0.484270</td>\n",
              "    </tr>\n",
              "    <tr>\n",
              "      <th>min</th>\n",
              "      <td>0.000000</td>\n",
              "      <td>5.185000</td>\n",
              "      <td>3.000000</td>\n",
              "      <td>3.000000</td>\n",
              "      <td>3.000000</td>\n",
              "      <td>3.000000</td>\n",
              "      <td>0.000000</td>\n",
              "      <td>0.000000</td>\n",
              "    </tr>\n",
              "    <tr>\n",
              "      <th>25%</th>\n",
              "      <td>6.000000</td>\n",
              "      <td>13.565000</td>\n",
              "      <td>6.000000</td>\n",
              "      <td>5.000000</td>\n",
              "      <td>5.000000</td>\n",
              "      <td>4.000000</td>\n",
              "      <td>0.000000</td>\n",
              "      <td>0.000000</td>\n",
              "    </tr>\n",
              "    <tr>\n",
              "      <th>50%</th>\n",
              "      <td>14.000000</td>\n",
              "      <td>19.803000</td>\n",
              "      <td>8.000000</td>\n",
              "      <td>7.000000</td>\n",
              "      <td>7.000000</td>\n",
              "      <td>6.000000</td>\n",
              "      <td>1.000000</td>\n",
              "      <td>1.000000</td>\n",
              "    </tr>\n",
              "    <tr>\n",
              "      <th>75%</th>\n",
              "      <td>37.000000</td>\n",
              "      <td>62.594000</td>\n",
              "      <td>11.000000</td>\n",
              "      <td>10.000000</td>\n",
              "      <td>8.000000</td>\n",
              "      <td>7.000000</td>\n",
              "      <td>1.000000</td>\n",
              "      <td>1.000000</td>\n",
              "    </tr>\n",
              "    <tr>\n",
              "      <th>max</th>\n",
              "      <td>44.000000</td>\n",
              "      <td>80.809000</td>\n",
              "      <td>15.000000</td>\n",
              "      <td>15.000000</td>\n",
              "      <td>15.000000</td>\n",
              "      <td>13.000000</td>\n",
              "      <td>10.000000</td>\n",
              "      <td>1.000000</td>\n",
              "    </tr>\n",
              "  </tbody>\n",
              "</table>\n",
              "</div>\n",
              "      <button class=\"colab-df-convert\" onclick=\"convertToInteractive('df-90b8ec07-b069-482c-8398-d4434d36e3e8')\"\n",
              "              title=\"Convert this dataframe to an interactive table.\"\n",
              "              style=\"display:none;\">\n",
              "        \n",
              "  <svg xmlns=\"http://www.w3.org/2000/svg\" height=\"24px\"viewBox=\"0 0 24 24\"\n",
              "       width=\"24px\">\n",
              "    <path d=\"M0 0h24v24H0V0z\" fill=\"none\"/>\n",
              "    <path d=\"M18.56 5.44l.94 2.06.94-2.06 2.06-.94-2.06-.94-.94-2.06-.94 2.06-2.06.94zm-11 1L8.5 8.5l.94-2.06 2.06-.94-2.06-.94L8.5 2.5l-.94 2.06-2.06.94zm10 10l.94 2.06.94-2.06 2.06-.94-2.06-.94-.94-2.06-.94 2.06-2.06.94z\"/><path d=\"M17.41 7.96l-1.37-1.37c-.4-.4-.92-.59-1.43-.59-.52 0-1.04.2-1.43.59L10.3 9.45l-7.72 7.72c-.78.78-.78 2.05 0 2.83L4 21.41c.39.39.9.59 1.41.59.51 0 1.02-.2 1.41-.59l7.78-7.78 2.81-2.81c.8-.78.8-2.07 0-2.86zM5.41 20L4 18.59l7.72-7.72 1.47 1.35L5.41 20z\"/>\n",
              "  </svg>\n",
              "      </button>\n",
              "      \n",
              "  <style>\n",
              "    .colab-df-container {\n",
              "      display:flex;\n",
              "      flex-wrap:wrap;\n",
              "      gap: 12px;\n",
              "    }\n",
              "\n",
              "    .colab-df-convert {\n",
              "      background-color: #E8F0FE;\n",
              "      border: none;\n",
              "      border-radius: 50%;\n",
              "      cursor: pointer;\n",
              "      display: none;\n",
              "      fill: #1967D2;\n",
              "      height: 32px;\n",
              "      padding: 0 0 0 0;\n",
              "      width: 32px;\n",
              "    }\n",
              "\n",
              "    .colab-df-convert:hover {\n",
              "      background-color: #E2EBFA;\n",
              "      box-shadow: 0px 1px 2px rgba(60, 64, 67, 0.3), 0px 1px 3px 1px rgba(60, 64, 67, 0.15);\n",
              "      fill: #174EA6;\n",
              "    }\n",
              "\n",
              "    [theme=dark] .colab-df-convert {\n",
              "      background-color: #3B4455;\n",
              "      fill: #D2E3FC;\n",
              "    }\n",
              "\n",
              "    [theme=dark] .colab-df-convert:hover {\n",
              "      background-color: #434B5C;\n",
              "      box-shadow: 0px 1px 3px 1px rgba(0, 0, 0, 0.15);\n",
              "      filter: drop-shadow(0px 1px 2px rgba(0, 0, 0, 0.3));\n",
              "      fill: #FFFFFF;\n",
              "    }\n",
              "  </style>\n",
              "\n",
              "      <script>\n",
              "        const buttonEl =\n",
              "          document.querySelector('#df-90b8ec07-b069-482c-8398-d4434d36e3e8 button.colab-df-convert');\n",
              "        buttonEl.style.display =\n",
              "          google.colab.kernel.accessAllowed ? 'block' : 'none';\n",
              "\n",
              "        async function convertToInteractive(key) {\n",
              "          const element = document.querySelector('#df-90b8ec07-b069-482c-8398-d4434d36e3e8');\n",
              "          const dataTable =\n",
              "            await google.colab.kernel.invokeFunction('convertToInteractive',\n",
              "                                                     [key], {});\n",
              "          if (!dataTable) return;\n",
              "\n",
              "          const docLinkHtml = 'Like what you see? Visit the ' +\n",
              "            '<a target=\"_blank\" href=https://colab.research.google.com/notebooks/data_table.ipynb>data table notebook</a>'\n",
              "            + ' to learn more about interactive tables.';\n",
              "          element.innerHTML = '';\n",
              "          dataTable['output_type'] = 'display_data';\n",
              "          await google.colab.output.renderOutput(dataTable, element);\n",
              "          const docLink = document.createElement('div');\n",
              "          docLink.innerHTML = docLinkHtml;\n",
              "          element.appendChild(docLink);\n",
              "        }\n",
              "      </script>\n",
              "    </div>\n",
              "  </div>\n",
              "  "
            ]
          },
          "metadata": {},
          "execution_count": 5
        }
      ]
    },
    {
      "cell_type": "markdown",
      "source": [
        "Analysing whether train set has null values or not"
      ],
      "metadata": {
        "id": "0Mqsj1WKWSQF"
      }
    },
    {
      "cell_type": "code",
      "source": [
        "train.isnull().sum()"
      ],
      "metadata": {
        "colab": {
          "base_uri": "https://localhost:8080/"
        },
        "id": "8vYuIDalWuPx",
        "outputId": "78667376-903b-4a86-8601-ee2832efdb70"
      },
      "execution_count": null,
      "outputs": [
        {
          "output_type": "execute_result",
          "data": {
            "text/plain": [
              "City                    0\n",
              "Location_Score          0\n",
              "Internal_Audit_Score    0\n",
              "External_Audit_Score    0\n",
              "Fin_Score               0\n",
              "Loss_score              0\n",
              "Past_Results            0\n",
              "IsUnderRisk             0\n",
              "dtype: int64"
            ]
          },
          "metadata": {},
          "execution_count": 6
        }
      ]
    },
    {
      "cell_type": "markdown",
      "source": [
        "Analysing the test dataset"
      ],
      "metadata": {
        "id": "FVTE2sHnWarA"
      }
    },
    {
      "cell_type": "code",
      "source": [
        "test.head()"
      ],
      "metadata": {
        "colab": {
          "base_uri": "https://localhost:8080/",
          "height": 206
        },
        "id": "AHAYK1y0V95G",
        "outputId": "6a005653-712f-440f-db40-80888dbc454e"
      },
      "execution_count": null,
      "outputs": [
        {
          "output_type": "execute_result",
          "data": {
            "text/plain": [
              "   City  Location_Score  Internal_Audit_Score  External_Audit_Score  \\\n",
              "0    41          18.272                    13                    12   \n",
              "1    17          64.799                     6                    10   \n",
              "2    31          68.890                     3                     3   \n",
              "3     3          16.492                    15                    10   \n",
              "4     9          17.178                     7                     3   \n",
              "\n",
              "   Fin_Score  Loss_score  Past_Results  \n",
              "0          9           7             0  \n",
              "1          7           4             1  \n",
              "2          7           8             0  \n",
              "3          7           4             1  \n",
              "4          8           3             1  "
            ],
            "text/html": [
              "\n",
              "  <div id=\"df-3afb5c9f-6160-4a95-87bc-9ba44b9124c0\">\n",
              "    <div class=\"colab-df-container\">\n",
              "      <div>\n",
              "<style scoped>\n",
              "    .dataframe tbody tr th:only-of-type {\n",
              "        vertical-align: middle;\n",
              "    }\n",
              "\n",
              "    .dataframe tbody tr th {\n",
              "        vertical-align: top;\n",
              "    }\n",
              "\n",
              "    .dataframe thead th {\n",
              "        text-align: right;\n",
              "    }\n",
              "</style>\n",
              "<table border=\"1\" class=\"dataframe\">\n",
              "  <thead>\n",
              "    <tr style=\"text-align: right;\">\n",
              "      <th></th>\n",
              "      <th>City</th>\n",
              "      <th>Location_Score</th>\n",
              "      <th>Internal_Audit_Score</th>\n",
              "      <th>External_Audit_Score</th>\n",
              "      <th>Fin_Score</th>\n",
              "      <th>Loss_score</th>\n",
              "      <th>Past_Results</th>\n",
              "    </tr>\n",
              "  </thead>\n",
              "  <tbody>\n",
              "    <tr>\n",
              "      <th>0</th>\n",
              "      <td>41</td>\n",
              "      <td>18.272</td>\n",
              "      <td>13</td>\n",
              "      <td>12</td>\n",
              "      <td>9</td>\n",
              "      <td>7</td>\n",
              "      <td>0</td>\n",
              "    </tr>\n",
              "    <tr>\n",
              "      <th>1</th>\n",
              "      <td>17</td>\n",
              "      <td>64.799</td>\n",
              "      <td>6</td>\n",
              "      <td>10</td>\n",
              "      <td>7</td>\n",
              "      <td>4</td>\n",
              "      <td>1</td>\n",
              "    </tr>\n",
              "    <tr>\n",
              "      <th>2</th>\n",
              "      <td>31</td>\n",
              "      <td>68.890</td>\n",
              "      <td>3</td>\n",
              "      <td>3</td>\n",
              "      <td>7</td>\n",
              "      <td>8</td>\n",
              "      <td>0</td>\n",
              "    </tr>\n",
              "    <tr>\n",
              "      <th>3</th>\n",
              "      <td>3</td>\n",
              "      <td>16.492</td>\n",
              "      <td>15</td>\n",
              "      <td>10</td>\n",
              "      <td>7</td>\n",
              "      <td>4</td>\n",
              "      <td>1</td>\n",
              "    </tr>\n",
              "    <tr>\n",
              "      <th>4</th>\n",
              "      <td>9</td>\n",
              "      <td>17.178</td>\n",
              "      <td>7</td>\n",
              "      <td>3</td>\n",
              "      <td>8</td>\n",
              "      <td>3</td>\n",
              "      <td>1</td>\n",
              "    </tr>\n",
              "  </tbody>\n",
              "</table>\n",
              "</div>\n",
              "      <button class=\"colab-df-convert\" onclick=\"convertToInteractive('df-3afb5c9f-6160-4a95-87bc-9ba44b9124c0')\"\n",
              "              title=\"Convert this dataframe to an interactive table.\"\n",
              "              style=\"display:none;\">\n",
              "        \n",
              "  <svg xmlns=\"http://www.w3.org/2000/svg\" height=\"24px\"viewBox=\"0 0 24 24\"\n",
              "       width=\"24px\">\n",
              "    <path d=\"M0 0h24v24H0V0z\" fill=\"none\"/>\n",
              "    <path d=\"M18.56 5.44l.94 2.06.94-2.06 2.06-.94-2.06-.94-.94-2.06-.94 2.06-2.06.94zm-11 1L8.5 8.5l.94-2.06 2.06-.94-2.06-.94L8.5 2.5l-.94 2.06-2.06.94zm10 10l.94 2.06.94-2.06 2.06-.94-2.06-.94-.94-2.06-.94 2.06-2.06.94z\"/><path d=\"M17.41 7.96l-1.37-1.37c-.4-.4-.92-.59-1.43-.59-.52 0-1.04.2-1.43.59L10.3 9.45l-7.72 7.72c-.78.78-.78 2.05 0 2.83L4 21.41c.39.39.9.59 1.41.59.51 0 1.02-.2 1.41-.59l7.78-7.78 2.81-2.81c.8-.78.8-2.07 0-2.86zM5.41 20L4 18.59l7.72-7.72 1.47 1.35L5.41 20z\"/>\n",
              "  </svg>\n",
              "      </button>\n",
              "      \n",
              "  <style>\n",
              "    .colab-df-container {\n",
              "      display:flex;\n",
              "      flex-wrap:wrap;\n",
              "      gap: 12px;\n",
              "    }\n",
              "\n",
              "    .colab-df-convert {\n",
              "      background-color: #E8F0FE;\n",
              "      border: none;\n",
              "      border-radius: 50%;\n",
              "      cursor: pointer;\n",
              "      display: none;\n",
              "      fill: #1967D2;\n",
              "      height: 32px;\n",
              "      padding: 0 0 0 0;\n",
              "      width: 32px;\n",
              "    }\n",
              "\n",
              "    .colab-df-convert:hover {\n",
              "      background-color: #E2EBFA;\n",
              "      box-shadow: 0px 1px 2px rgba(60, 64, 67, 0.3), 0px 1px 3px 1px rgba(60, 64, 67, 0.15);\n",
              "      fill: #174EA6;\n",
              "    }\n",
              "\n",
              "    [theme=dark] .colab-df-convert {\n",
              "      background-color: #3B4455;\n",
              "      fill: #D2E3FC;\n",
              "    }\n",
              "\n",
              "    [theme=dark] .colab-df-convert:hover {\n",
              "      background-color: #434B5C;\n",
              "      box-shadow: 0px 1px 3px 1px rgba(0, 0, 0, 0.15);\n",
              "      filter: drop-shadow(0px 1px 2px rgba(0, 0, 0, 0.3));\n",
              "      fill: #FFFFFF;\n",
              "    }\n",
              "  </style>\n",
              "\n",
              "      <script>\n",
              "        const buttonEl =\n",
              "          document.querySelector('#df-3afb5c9f-6160-4a95-87bc-9ba44b9124c0 button.colab-df-convert');\n",
              "        buttonEl.style.display =\n",
              "          google.colab.kernel.accessAllowed ? 'block' : 'none';\n",
              "\n",
              "        async function convertToInteractive(key) {\n",
              "          const element = document.querySelector('#df-3afb5c9f-6160-4a95-87bc-9ba44b9124c0');\n",
              "          const dataTable =\n",
              "            await google.colab.kernel.invokeFunction('convertToInteractive',\n",
              "                                                     [key], {});\n",
              "          if (!dataTable) return;\n",
              "\n",
              "          const docLinkHtml = 'Like what you see? Visit the ' +\n",
              "            '<a target=\"_blank\" href=https://colab.research.google.com/notebooks/data_table.ipynb>data table notebook</a>'\n",
              "            + ' to learn more about interactive tables.';\n",
              "          element.innerHTML = '';\n",
              "          dataTable['output_type'] = 'display_data';\n",
              "          await google.colab.output.renderOutput(dataTable, element);\n",
              "          const docLink = document.createElement('div');\n",
              "          docLink.innerHTML = docLinkHtml;\n",
              "          element.appendChild(docLink);\n",
              "        }\n",
              "      </script>\n",
              "    </div>\n",
              "  </div>\n",
              "  "
            ]
          },
          "metadata": {},
          "execution_count": 7
        }
      ]
    },
    {
      "cell_type": "markdown",
      "source": [
        "Looking for null values in test dataset"
      ],
      "metadata": {
        "id": "H3HdE-i3WmiE"
      }
    },
    {
      "cell_type": "code",
      "source": [
        "test.isnull().sum()"
      ],
      "metadata": {
        "colab": {
          "base_uri": "https://localhost:8080/"
        },
        "id": "Fk43mjp4WuYm",
        "outputId": "d60cbd8e-5789-4291-f400-0fa11501f07a"
      },
      "execution_count": null,
      "outputs": [
        {
          "output_type": "execute_result",
          "data": {
            "text/plain": [
              "City                    0\n",
              "Location_Score          0\n",
              "Internal_Audit_Score    0\n",
              "External_Audit_Score    0\n",
              "Fin_Score               0\n",
              "Loss_score              0\n",
              "Past_Results            0\n",
              "dtype: int64"
            ]
          },
          "metadata": {},
          "execution_count": 8
        }
      ]
    },
    {
      "cell_type": "markdown",
      "source": [
        "Checking the distribution of IsUnderRisk variable"
      ],
      "metadata": {
        "id": "CySKXkJUW4x1"
      }
    },
    {
      "cell_type": "code",
      "source": [
        "train.IsUnderRisk.value_counts().plot(kind='bar')"
      ],
      "metadata": {
        "colab": {
          "base_uri": "https://localhost:8080/",
          "height": 279
        },
        "id": "q1w94m2jW8nl",
        "outputId": "94fa0ede-8480-4d9d-9ce4-8a038c867300"
      },
      "execution_count": null,
      "outputs": [
        {
          "output_type": "execute_result",
          "data": {
            "text/plain": [
              "<matplotlib.axes._subplots.AxesSubplot at 0x7f6a28089ed0>"
            ]
          },
          "metadata": {},
          "execution_count": 9
        },
        {
          "output_type": "display_data",
          "data": {
            "text/plain": [
              "<Figure size 432x288 with 1 Axes>"
            ],
            "image/png": "[encoded data removed]"
          },
          "metadata": {
            "needs_background": "light"
          }
        }
      ]
    },
    {
      "cell_type": "markdown",
      "source": [
        "**Boxplot for continuouse variables**"
      ],
      "metadata": {
        "id": "vYcqkpUTXbB6"
      }
    },
    {
      "cell_type": "code",
      "source": [
        "plt.figure(figsize=(16,6))\n",
        "train.boxplot(column=['Location_Score', 'Internal_Audit_Score',\n",
        "       'External_Audit_Score', 'Fin_Score', 'Loss_score'])"
      ],
      "metadata": {
        "colab": {
          "base_uri": "https://localhost:8080/",
          "height": 392
        },
        "id": "_KrhI3SgVdET",
        "outputId": "052fb2e7-e556-41a7-f9c5-11cdba9c54c8"
      },
      "execution_count": null,
      "outputs": [
        {
          "output_type": "execute_result",
          "data": {
            "text/plain": [
              "<matplotlib.axes._subplots.AxesSubplot at 0x7f6a278f7b90>"
            ]
          },
          "metadata": {},
          "execution_count": 12
        },
        {
          "output_type": "display_data",
          "data": {
            "text/plain": [
              "<Figure size 1152x432 with 1 Axes>"
            ],
            "image/png": "[encoded data removed]"
          },
          "metadata": {
            "needs_background": "light"
          }
        }
      ]
    },
    {
      "cell_type": "markdown",
      "source": [
        "**Histogram on Continuose Variables**"
      ],
      "metadata": {
        "id": "4ht6gqO_XjNS"
      }
    },
    {
      "cell_type": "code",
      "source": [
        "plt.figure(figsize=(14,8))\n",
        "\n",
        "columns = ['Location_Score', 'Internal_Audit_Score', 'External_Audit_Score', 'Fin_Score', 'Loss_score']\n",
        "for i,j in zip(range(1,6),columns):\n",
        "    plt.subplot(2,3,i)\n",
        "    train[j].hist(label=j)\n",
        "    plt.legend()"
      ],
      "metadata": {
        "colab": {
          "base_uri": "https://localhost:8080/",
          "height": 483
        },
        "id": "qIYGYnGgVpB1",
        "outputId": "d4ae0cbb-df26-488d-ef07-593437a25631"
      },
      "execution_count": null,
      "outputs": [
        {
          "output_type": "display_data",
          "data": {
            "text/plain": [
              "<Figure size 1008x576 with 5 Axes>"
            ],
            "image/png": "[encoded data removed]"
          },
          "metadata": {
            "needs_background": "light"
          }
        }
      ]
    },
    {
      "cell_type": "markdown",
      "source": [
        "**Density Plot On Continuose Variables**"
      ],
      "metadata": {
        "id": "85KyqwrUXrK0"
      }
    },
    {
      "cell_type": "code",
      "source": [
        "plt.figure(figsize=(14,8))\n",
        "train[columns].plot(kind='density', subplots=True, layout=(2,3), sharex=False, sharey=False, figsize=(14,6))\n",
        "plt.show()"
      ],
      "metadata": {
        "colab": {
          "base_uri": "https://localhost:8080/",
          "height": 391
        },
        "id": "SrnU-62ZVsww",
        "outputId": "f69a59af-4868-4756-dc6f-cf44c4ac0028"
      },
      "execution_count": null,
      "outputs": [
        {
          "output_type": "display_data",
          "data": {
            "text/plain": [
              "<Figure size 1008x576 with 0 Axes>"
            ]
          },
          "metadata": {}
        },
        {
          "output_type": "display_data",
          "data": {
            "text/plain": [
              "<Figure size 1008x432 with 6 Axes>"
            ],
            "image/png": "[encoded data removed]"
          },
          "metadata": {
            "needs_background": "light"
          }
        }
      ]
    },
    {
      "cell_type": "code",
      "source": [
        "plt.figure(figsize = (12,8))\n",
        "datacor = train.drop(['IsUnderRisk'], axis = 1)\n",
        "sns.barplot(datacor.columns,datacor.corrwith(train['IsUnderRisk']))"
      ],
      "metadata": {
        "colab": {
          "base_uri": "https://localhost:8080/",
          "height": 556
        },
        "id": "_TJlMND9gzAT",
        "outputId": "b901aee8-04be-48a7-eaeb-4d5275b1908c"
      },
      "execution_count": null,
      "outputs": [
        {
          "output_type": "stream",
          "name": "stderr",
          "text": [
            "/usr/local/lib/python3.7/dist-packages/seaborn/_decorators.py:43: FutureWarning: Pass the following variables as keyword args: x, y. From version 0.12, the only valid positional argument will be `data`, and passing other arguments without an explicit keyword will result in an error or misinterpretation.\n",
            "  FutureWarning\n"
          ]
        },
        {
          "output_type": "execute_result",
          "data": {
            "text/plain": [
              "<matplotlib.axes._subplots.AxesSubplot at 0x7f6a27053050>"
            ]
          },
          "metadata": {},
          "execution_count": 20
        },
        {
          "output_type": "display_data",
          "data": {
            "text/plain": [
              "<Figure size 864x576 with 1 Axes>"
            ],
            "image/png": "[encoded data removed]"
          },
          "metadata": {
            "needs_background": "light"
          }
        }
      ]
    },
    {
      "cell_type": "markdown",
      "source": [
        "**Correlation Matrix Plot**"
      ],
      "metadata": {
        "id": "ThxsFRYLX0s4"
      }
    },
    {
      "cell_type": "code",
      "source": [
        "plt.figure(figsize=(20,8))\n",
        "corr = train.corr()\n",
        "ax = sns.heatmap(\n",
        "    corr, \n",
        "    vmin=-1, vmax=1, center=0,\n",
        "    cmap=sns.diverging_palette(20, 220, n=200),\n",
        "    square=True\n",
        ")"
      ],
      "metadata": {
        "colab": {
          "base_uri": "https://localhost:8080/",
          "height": 582
        },
        "id": "md5IZ7lFV8lZ",
        "outputId": "106fc385-95f0-497d-9ca2-e1546842e07e"
      },
      "execution_count": null,
      "outputs": [
        {
          "output_type": "display_data",
          "data": {
            "text/plain": [
              "<Figure size 1440x576 with 2 Axes>"
            ],
            "image/png": "[encoded data removed]"
          },
          "metadata": {
            "needs_background": "light"
          }
        }
      ]
    },
    {
      "cell_type": "markdown",
      "source": [
        "Modeling"
      ],
      "metadata": {
        "id": "zgb26URZX9ER"
      }
    },
    {
      "cell_type": "code",
      "source": [
        "X = train.iloc[:, train.columns != 'IsUnderRisk']  # Removing the Target variable from the x variable\n",
        "y = train.iloc[:, train.columns == 'IsUnderRisk']  # Taking only the target variable in y variable"
      ],
      "metadata": {
        "id": "nzVGSNMJYAN0"
      },
      "execution_count": null,
      "outputs": []
    },
    {
      "cell_type": "markdown",
      "source": [
        "Importing the necessary libraries"
      ],
      "metadata": {
        "id": "yyeqrHOiYTt1"
      }
    },
    {
      "cell_type": "code",
      "source": [
        "from sklearn.model_selection import train_test_split\n",
        "from sklearn.linear_model import LogisticRegression"
      ],
      "metadata": {
        "id": "5XDONtUETxfJ"
      },
      "execution_count": null,
      "outputs": []
    },
    {
      "cell_type": "markdown",
      "source": [
        "Train Test Split"
      ],
      "metadata": {
        "id": "Rbf2W8F1Yetc"
      }
    },
    {
      "cell_type": "code",
      "source": [
        "X_train, X_test, y_train, y_test = train_test_split(X,y, test_size=0.20)  # Spliting in 80 20 ratio"
      ],
      "metadata": {
        "id": "mBhYdyOIUMdh"
      },
      "execution_count": null,
      "outputs": []
    },
    {
      "cell_type": "markdown",
      "source": [
        "Logistic Regression\n"
      ],
      "metadata": {
        "id": "MRascChMYscj"
      }
    },
    {
      "cell_type": "markdown",
      "source": [
        "Since the IsUnitRisk is a binary variable we would be applying logistic regression as it works the best for binary classification problem"
      ],
      "metadata": {
        "id": "2rnZn7p3Y9yN"
      }
    },
    {
      "cell_type": "code",
      "source": [
        "reg = LogisticRegression()\n",
        "reg.fit(X_train,y_train)"
      ],
      "metadata": {
        "colab": {
          "base_uri": "https://localhost:8080/"
        },
        "id": "tUOwsJdkVIv3",
        "outputId": "11c699b7-1b9d-42fd-f93d-d95359982e7b"
      },
      "execution_count": null,
      "outputs": [
        {
          "output_type": "stream",
          "name": "stderr",
          "text": [
            "/usr/local/lib/python3.7/dist-packages/sklearn/utils/validation.py:993: DataConversionWarning: A column-vector y was passed when a 1d array was expected. Please change the shape of y to (n_samples, ), for example using ravel().\n",
            "  y = column_or_1d(y, warn=True)\n"
          ]
        },
        {
          "output_type": "execute_result",
          "data": {
            "text/plain": [
              "LogisticRegression()"
            ]
          },
          "metadata": {},
          "execution_count": 13
        }
      ]
    },
    {
      "cell_type": "markdown",
      "source": [
        "Predicting"
      ],
      "metadata": {
        "id": "QiIVSEbgbbB-"
      }
    },
    {
      "cell_type": "code",
      "source": [
        "reg.predict(X_test)"
      ],
      "metadata": {
        "colab": {
          "base_uri": "https://localhost:8080/"
        },
        "id": "-kd1LJsxbJ9Q",
        "outputId": "9cc81bf0-93f4-4ece-d5fc-9c859c751943"
      },
      "execution_count": null,
      "outputs": [
        {
          "output_type": "execute_result",
          "data": {
            "text/plain": [
              "array([1, 1, 1, 1, 0, 1, 1, 1, 1, 1, 1, 0, 1, 1, 1, 1, 1, 1, 0, 1, 1, 0,\n",
              "       0, 0, 0, 0, 1, 1, 1, 1, 0, 0, 1, 0, 0, 1, 1, 1, 1, 1, 0, 1, 1, 0,\n",
              "       0, 0, 0, 1, 1, 0, 0, 0, 0, 0, 1, 1, 0, 1, 1, 0, 0, 1, 1, 1, 0, 1,\n",
              "       1, 0, 0, 1, 1, 1, 1, 1, 0, 0, 1, 1, 1, 1, 1, 1, 0, 1, 1, 1, 0, 0,\n",
              "       0, 0, 1, 1, 0, 1, 1, 1, 0, 1, 1, 1, 0, 0, 1, 0, 0, 0, 0, 0, 1])"
            ]
          },
          "metadata": {},
          "execution_count": 14
        }
      ]
    },
    {
      "cell_type": "markdown",
      "source": [
        "Measuring the accuracy against the training dataset"
      ],
      "metadata": {
        "id": "ouupZNsUYufY"
      }
    },
    {
      "cell_type": "code",
      "source": [
        "reg.score(X_test,y_test)"
      ],
      "metadata": {
        "colab": {
          "base_uri": "https://localhost:8080/"
        },
        "id": "QIkL_7Z0VYUu",
        "outputId": "31bc4896-074d-420f-8780-6d36549aba1b"
      },
      "execution_count": null,
      "outputs": [
        {
          "output_type": "execute_result",
          "data": {
            "text/plain": [
              "0.7522935779816514"
            ]
          },
          "metadata": {},
          "execution_count": 15
        }
      ]
    },
    {
      "cell_type": "code",
      "source": [
        "import tensorflow as tf"
      ],
      "metadata": {
        "id": "Nm95sm25Vkf-"
      },
      "execution_count": null,
      "outputs": []
    },
    {
      "cell_type": "markdown",
      "source": [
        "Task 2 and 3"
      ],
      "metadata": {
        "id": "ZNvSU3zb-HUV"
      }
    },
    {
      "cell_type": "code",
      "source": [
        "model = tf.keras.Sequential([\n",
        "                             tf.keras.layers.InputLayer(input_shape=(7, )),\n",
        "                             tf.keras.layers.Dense(3, ),\n",
        "                             tf.keras.layers.Dropout(0.05), \n",
        "                             tf.keras.layers.Dense(1, activation='sigmoid') \n",
        "])\n",
        "model.compile(optimizer=tf.keras.optimizers.SGD(learning_rate=0.006), loss='binary_crossentropy')\n",
        "model.summary()"
      ],
      "metadata": {
        "colab": {
          "base_uri": "https://localhost:8080/"
        },
        "id": "yf5DIZ91aXUa",
        "outputId": "06db0f3b-cfaf-4ab2-e530-20002abd4269"
      },
      "execution_count": null,
      "outputs": [
        {
          "output_type": "stream",
          "name": "stdout",
          "text": [
            "Model: \"sequential\"\n",
            "_________________________________________________________________\n",
            " Layer (type)                Output Shape              Param #   \n",
            "=================================================================\n",
            " dense (Dense)               (None, 3)                 24        \n",
            "                                                                 \n",
            " dropout (Dropout)           (None, 3)                 0         \n",
            "                                                                 \n",
            " dense_1 (Dense)             (None, 1)                 4         \n",
            "                                                                 \n",
            "=================================================================\n",
            "Total params: 28\n",
            "Trainable params: 28\n",
            "Non-trainable params: 0\n",
            "_________________________________________________________________\n"
          ]
        }
      ]
    },
    {
      "cell_type": "code",
      "source": [
        "model.fit(X_train,y_train, epochs=50)"
      ],
      "metadata": {
        "colab": {
          "base_uri": "https://localhost:8080/"
        },
        "id": "n5VWPHr5c1gI",
        "outputId": "a6e81c27-0e8d-44fe-d413-79b2fd1461e1"
      },
      "execution_count": null,
      "outputs": [
        {
          "output_type": "stream",
          "name": "stdout",
          "text": [
            "Epoch 1/50\n",
            "14/14 [==============================] - 1s 2ms/step - loss: 7.4719\n",
            "Epoch 2/50\n",
            "14/14 [==============================] - 0s 2ms/step - loss: 0.8817\n",
            "Epoch 3/50\n",
            "14/14 [==============================] - 0s 2ms/step - loss: 0.7764\n",
            "Epoch 4/50\n",
            "14/14 [==============================] - 0s 2ms/step - loss: 0.6220\n",
            "Epoch 5/50\n",
            "14/14 [==============================] - 0s 2ms/step - loss: 0.5988\n",
            "Epoch 6/50\n",
            "14/14 [==============================] - 0s 2ms/step - loss: 0.5771\n",
            "Epoch 7/50\n",
            "14/14 [==============================] - 0s 2ms/step - loss: 0.5386\n",
            "Epoch 8/50\n",
            "14/14 [==============================] - 0s 2ms/step - loss: 0.5627\n",
            "Epoch 9/50\n",
            "14/14 [==============================] - 0s 2ms/step - loss: 0.5593\n",
            "Epoch 10/50\n",
            "14/14 [==============================] - 0s 2ms/step - loss: 0.5075\n",
            "Epoch 11/50\n",
            "14/14 [==============================] - 0s 2ms/step - loss: 0.4914\n",
            "Epoch 12/50\n",
            "14/14 [==============================] - 0s 2ms/step - loss: 0.5365\n",
            "Epoch 13/50\n",
            "14/14 [==============================] - 0s 2ms/step - loss: 0.5022\n",
            "Epoch 14/50\n",
            "14/14 [==============================] - 0s 2ms/step - loss: 0.4796\n",
            "Epoch 15/50\n",
            "14/14 [==============================] - 0s 2ms/step - loss: 0.5121\n",
            "Epoch 16/50\n",
            "14/14 [==============================] - 0s 2ms/step - loss: 0.4840\n",
            "Epoch 17/50\n",
            "14/14 [==============================] - 0s 2ms/step - loss: 0.4675\n",
            "Epoch 18/50\n",
            "14/14 [==============================] - 0s 2ms/step - loss: 0.4579\n",
            "Epoch 19/50\n",
            "14/14 [==============================] - 0s 2ms/step - loss: 0.4616\n",
            "Epoch 20/50\n",
            "14/14 [==============================] - 0s 2ms/step - loss: 0.4379\n",
            "Epoch 21/50\n",
            "14/14 [==============================] - 0s 2ms/step - loss: 0.4671\n",
            "Epoch 22/50\n",
            "14/14 [==============================] - 0s 2ms/step - loss: 0.4632\n",
            "Epoch 23/50\n",
            "14/14 [==============================] - 0s 2ms/step - loss: 0.4398\n",
            "Epoch 24/50\n",
            "14/14 [==============================] - 0s 2ms/step - loss: 0.4442\n",
            "Epoch 25/50\n",
            "14/14 [==============================] - 0s 2ms/step - loss: 0.4563\n",
            "Epoch 26/50\n",
            "14/14 [==============================] - 0s 2ms/step - loss: 0.4538\n",
            "Epoch 27/50\n",
            "14/14 [==============================] - 0s 2ms/step - loss: 0.4361\n",
            "Epoch 28/50\n",
            "14/14 [==============================] - 0s 2ms/step - loss: 0.4311\n",
            "Epoch 29/50\n",
            "14/14 [==============================] - 0s 2ms/step - loss: 0.4365\n",
            "Epoch 30/50\n",
            "14/14 [==============================] - 0s 2ms/step - loss: 0.4250\n",
            "Epoch 31/50\n",
            "14/14 [==============================] - 0s 2ms/step - loss: 0.4450\n",
            "Epoch 32/50\n",
            "14/14 [==============================] - 0s 2ms/step - loss: 0.4318\n",
            "Epoch 33/50\n",
            "14/14 [==============================] - 0s 2ms/step - loss: 0.4169\n",
            "Epoch 34/50\n",
            "14/14 [==============================] - 0s 2ms/step - loss: 0.4227\n",
            "Epoch 35/50\n",
            "14/14 [==============================] - 0s 2ms/step - loss: 0.4264\n",
            "Epoch 36/50\n",
            "14/14 [==============================] - 0s 2ms/step - loss: 0.4316\n",
            "Epoch 37/50\n",
            "14/14 [==============================] - 0s 2ms/step - loss: 0.4147\n",
            "Epoch 38/50\n",
            "14/14 [==============================] - 0s 2ms/step - loss: 0.4395\n",
            "Epoch 39/50\n",
            "14/14 [==============================] - 0s 2ms/step - loss: 0.4262\n",
            "Epoch 40/50\n",
            "14/14 [==============================] - 0s 2ms/step - loss: 0.4503\n",
            "Epoch 41/50\n",
            "14/14 [==============================] - 0s 2ms/step - loss: 0.4270\n",
            "Epoch 42/50\n",
            "14/14 [==============================] - 0s 2ms/step - loss: 0.4317\n",
            "Epoch 43/50\n",
            "14/14 [==============================] - 0s 2ms/step - loss: 0.4281\n",
            "Epoch 44/50\n",
            "14/14 [==============================] - 0s 2ms/step - loss: 0.4197\n",
            "Epoch 45/50\n",
            "14/14 [==============================] - 0s 2ms/step - loss: 0.4200\n",
            "Epoch 46/50\n",
            "14/14 [==============================] - 0s 2ms/step - loss: 0.4198\n",
            "Epoch 47/50\n",
            "14/14 [==============================] - 0s 2ms/step - loss: 0.4067\n",
            "Epoch 48/50\n",
            "14/14 [==============================] - 0s 2ms/step - loss: 0.4379\n",
            "Epoch 49/50\n",
            "14/14 [==============================] - 0s 2ms/step - loss: 0.4243\n",
            "Epoch 50/50\n",
            "14/14 [==============================] - 0s 2ms/step - loss: 0.4383\n"
          ]
        },
        {
          "output_type": "execute_result",
          "data": {
            "text/plain": [
              "<keras.callbacks.History at 0x7ff7e5d2ba10>"
            ]
          },
          "metadata": {},
          "execution_count": 18
        }
      ]
    },
    {
      "cell_type": "code",
      "source": [
        "model.evaluate(X_test,y_test)"
      ],
      "metadata": {
        "colab": {
          "base_uri": "https://localhost:8080/"
        },
        "id": "C3c0SYaBiN0g",
        "outputId": "c0aadbd4-1b29-4e07-bb78-a48a771c2491"
      },
      "execution_count": null,
      "outputs": [
        {
          "output_type": "stream",
          "name": "stdout",
          "text": [
            "4/4 [==============================] - 0s 4ms/step - loss: 0.4860\n"
          ]
        },
        {
          "output_type": "execute_result",
          "data": {
            "text/plain": [
              "0.48603078722953796"
            ]
          },
          "metadata": {},
          "execution_count": 19
        }
      ]
    },
    {
      "cell_type": "code",
      "source": [
        "model.predict(X_test)"
      ],
      "metadata": {
        "colab": {
          "base_uri": "https://localhost:8080/"
        },
        "id": "dCn6HXHxe9Tw",
        "outputId": "664a696d-1a9a-4cc1-a1ef-735118a603ac"
      },
      "execution_count": null,
      "outputs": [
        {
          "output_type": "execute_result",
          "data": {
            "text/plain": [
              "array([[0.9747244 ],\n",
              "       [0.83101475],\n",
              "       [0.8737514 ],\n",
              "       [0.3022874 ],\n",
              "       [0.26943207],\n",
              "       [0.975597  ],\n",
              "       [0.9642793 ],\n",
              "       [0.9889968 ],\n",
              "       [0.9838995 ],\n",
              "       [0.80126   ],\n",
              "       [0.96324515],\n",
              "       [0.35847598],\n",
              "       [0.86192036],\n",
              "       [0.6557438 ],\n",
              "       [0.9302242 ],\n",
              "       [0.5503023 ],\n",
              "       [0.3480034 ],\n",
              "       [0.94649935],\n",
              "       [0.16598806],\n",
              "       [0.97181296],\n",
              "       [0.6590353 ],\n",
              "       [0.4976173 ],\n",
              "       [0.27360266],\n",
              "       [0.7706535 ],\n",
              "       [0.05295691],\n",
              "       [0.10249409],\n",
              "       [0.71121705],\n",
              "       [0.75900483],\n",
              "       [0.8042045 ],\n",
              "       [0.90568465],\n",
              "       [0.22492468],\n",
              "       [0.12198043],\n",
              "       [0.87585604],\n",
              "       [0.32167125],\n",
              "       [0.42370027],\n",
              "       [0.96084315],\n",
              "       [0.7206323 ],\n",
              "       [0.7616928 ],\n",
              "       [0.9481057 ],\n",
              "       [0.91770005],\n",
              "       [0.03406584],\n",
              "       [0.9641007 ],\n",
              "       [0.68713236],\n",
              "       [0.14750469],\n",
              "       [0.16086292],\n",
              "       [0.13226715],\n",
              "       [0.08695257],\n",
              "       [0.91701365],\n",
              "       [0.8120208 ],\n",
              "       [0.26033777],\n",
              "       [0.20593947],\n",
              "       [0.36064428],\n",
              "       [0.16038266],\n",
              "       [0.16574347],\n",
              "       [0.7235215 ],\n",
              "       [0.9750932 ],\n",
              "       [0.4360284 ],\n",
              "       [0.7203717 ],\n",
              "       [0.9799508 ],\n",
              "       [0.42999208],\n",
              "       [0.7950356 ],\n",
              "       [0.92903984],\n",
              "       [0.94048893],\n",
              "       [0.9797399 ],\n",
              "       [0.4029372 ],\n",
              "       [0.98065716],\n",
              "       [0.9333917 ],\n",
              "       [0.08050123],\n",
              "       [0.05076981],\n",
              "       [0.5923964 ],\n",
              "       [0.94313896],\n",
              "       [0.7093798 ],\n",
              "       [0.69754696],\n",
              "       [0.7660964 ],\n",
              "       [0.14626473],\n",
              "       [0.1373131 ],\n",
              "       [0.98171306],\n",
              "       [0.9776037 ],\n",
              "       [0.6861174 ],\n",
              "       [0.987049  ],\n",
              "       [0.6097067 ],\n",
              "       [0.9751432 ],\n",
              "       [0.19965312],\n",
              "       [0.8710506 ],\n",
              "       [0.87322736],\n",
              "       [0.962032  ],\n",
              "       [0.17964998],\n",
              "       [0.24159035],\n",
              "       [0.10262823],\n",
              "       [0.7145375 ],\n",
              "       [0.94526064],\n",
              "       [0.73808306],\n",
              "       [0.34038436],\n",
              "       [0.27153075],\n",
              "       [0.97474897],\n",
              "       [0.9569665 ],\n",
              "       [0.5585445 ],\n",
              "       [0.66385776],\n",
              "       [0.69338256],\n",
              "       [0.59925413],\n",
              "       [0.1237424 ],\n",
              "       [0.12601668],\n",
              "       [0.61305445],\n",
              "       [0.3846876 ],\n",
              "       [0.31199542],\n",
              "       [0.10527638],\n",
              "       [0.02696532],\n",
              "       [0.7445352 ],\n",
              "       [0.97591305]], dtype=float32)"
            ]
          },
          "metadata": {},
          "execution_count": 20
        }
      ]
    },
    {
      "cell_type": "markdown",
      "source": [
        "Task 4"
      ],
      "metadata": {
        "id": "ts7IwTwV-b2O"
      }
    },
    {
      "cell_type": "markdown",
      "source": [
        "AUC-ROC Score "
      ],
      "metadata": {
        "id": "LjChG0id_8-n"
      }
    },
    {
      "cell_type": "code",
      "source": [
        "from sklearn.metrics import roc_auc_score\n",
        "\n",
        "roc_auc_score(y_test, reg.predict_proba(X_test)[:, 1])"
      ],
      "metadata": {
        "colab": {
          "base_uri": "https://localhost:8080/"
        },
        "id": "V46lvUg0gXVB",
        "outputId": "6ff4fabd-952f-4a12-da97-dd3de0cd1612"
      },
      "execution_count": null,
      "outputs": [
        {
          "output_type": "execute_result",
          "data": {
            "text/plain": [
              "0.8669296987087517"
            ]
          },
          "metadata": {},
          "execution_count": 21
        }
      ]
    },
    {
      "cell_type": "markdown",
      "source": [
        "One Hot Encoding"
      ],
      "metadata": {
        "id": "hpMmVZfXADJp"
      }
    },
    {
      "cell_type": "code",
      "source": [
        "from sklearn.preprocessing import OneHotEncoder"
      ],
      "metadata": {
        "id": "EETki8EutKs0"
      },
      "execution_count": null,
      "outputs": []
    },
    {
      "cell_type": "code",
      "source": [
        "Y = np.array(y)\n",
        "y_ = Y.reshape(-1,1)\n",
        "y_"
      ],
      "metadata": {
        "colab": {
          "base_uri": "https://localhost:8080/"
        },
        "id": "qFwMSANmtL8J",
        "outputId": "d24c8c82-39f6-4641-8843-94fbbbfa3a35"
      },
      "execution_count": null,
      "outputs": [
        {
          "output_type": "execute_result",
          "data": {
            "text/plain": [
              "array([[1],\n",
              "       [0],\n",
              "       [1],\n",
              "       [0],\n",
              "       [1],\n",
              "       [1],\n",
              "       [0],\n",
              "       [1],\n",
              "       [0],\n",
              "       [0],\n",
              "       [1],\n",
              "       [1],\n",
              "       [0],\n",
              "       [1],\n",
              "       [1],\n",
              "       [1],\n",
              "       [0],\n",
              "       [1],\n",
              "       [0],\n",
              "       [1],\n",
              "       [0],\n",
              "       [0],\n",
              "       [1],\n",
              "       [1],\n",
              "       [1],\n",
              "       [1],\n",
              "       [1],\n",
              "       [0],\n",
              "       [0],\n",
              "       [1],\n",
              "       [0],\n",
              "       [1],\n",
              "       [1],\n",
              "       [1],\n",
              "       [1],\n",
              "       [0],\n",
              "       [0],\n",
              "       [1],\n",
              "       [0],\n",
              "       [1],\n",
              "       [0],\n",
              "       [1],\n",
              "       [0],\n",
              "       [1],\n",
              "       [1],\n",
              "       [0],\n",
              "       [0],\n",
              "       [1],\n",
              "       [1],\n",
              "       [1],\n",
              "       [1],\n",
              "       [0],\n",
              "       [0],\n",
              "       [1],\n",
              "       [0],\n",
              "       [1],\n",
              "       [1],\n",
              "       [1],\n",
              "       [0],\n",
              "       [0],\n",
              "       [1],\n",
              "       [0],\n",
              "       [1],\n",
              "       [0],\n",
              "       [1],\n",
              "       [0],\n",
              "       [1],\n",
              "       [0],\n",
              "       [1],\n",
              "       [0],\n",
              "       [1],\n",
              "       [0],\n",
              "       [1],\n",
              "       [1],\n",
              "       [1],\n",
              "       [1],\n",
              "       [1],\n",
              "       [1],\n",
              "       [0],\n",
              "       [1],\n",
              "       [0],\n",
              "       [1],\n",
              "       [0],\n",
              "       [1],\n",
              "       [0],\n",
              "       [1],\n",
              "       [1],\n",
              "       [1],\n",
              "       [0],\n",
              "       [1],\n",
              "       [1],\n",
              "       [0],\n",
              "       [0],\n",
              "       [1],\n",
              "       [1],\n",
              "       [1],\n",
              "       [1],\n",
              "       [1],\n",
              "       [1],\n",
              "       [0],\n",
              "       [1],\n",
              "       [1],\n",
              "       [0],\n",
              "       [0],\n",
              "       [1],\n",
              "       [1],\n",
              "       [1],\n",
              "       [0],\n",
              "       [0],\n",
              "       [0],\n",
              "       [1],\n",
              "       [1],\n",
              "       [0],\n",
              "       [1],\n",
              "       [1],\n",
              "       [1],\n",
              "       [1],\n",
              "       [1],\n",
              "       [0],\n",
              "       [1],\n",
              "       [1],\n",
              "       [1],\n",
              "       [1],\n",
              "       [1],\n",
              "       [1],\n",
              "       [1],\n",
              "       [1],\n",
              "       [0],\n",
              "       [0],\n",
              "       [1],\n",
              "       [1],\n",
              "       [1],\n",
              "       [1],\n",
              "       [1],\n",
              "       [0],\n",
              "       [0],\n",
              "       [0],\n",
              "       [0],\n",
              "       [0],\n",
              "       [1],\n",
              "       [1],\n",
              "       [1],\n",
              "       [1],\n",
              "       [0],\n",
              "       [1],\n",
              "       [1],\n",
              "       [1],\n",
              "       [1],\n",
              "       [1],\n",
              "       [0],\n",
              "       [1],\n",
              "       [1],\n",
              "       [0],\n",
              "       [0],\n",
              "       [1],\n",
              "       [1],\n",
              "       [0],\n",
              "       [0],\n",
              "       [1],\n",
              "       [1],\n",
              "       [1],\n",
              "       [0],\n",
              "       [1],\n",
              "       [1],\n",
              "       [0],\n",
              "       [0],\n",
              "       [1],\n",
              "       [1],\n",
              "       [1],\n",
              "       [1],\n",
              "       [0],\n",
              "       [1],\n",
              "       [1],\n",
              "       [1],\n",
              "       [0],\n",
              "       [1],\n",
              "       [1],\n",
              "       [1],\n",
              "       [1],\n",
              "       [0],\n",
              "       [0],\n",
              "       [0],\n",
              "       [1],\n",
              "       [0],\n",
              "       [1],\n",
              "       [0],\n",
              "       [0],\n",
              "       [1],\n",
              "       [0],\n",
              "       [1],\n",
              "       [1],\n",
              "       [1],\n",
              "       [1],\n",
              "       [1],\n",
              "       [0],\n",
              "       [1],\n",
              "       [0],\n",
              "       [1],\n",
              "       [0],\n",
              "       [0],\n",
              "       [1],\n",
              "       [0],\n",
              "       [1],\n",
              "       [1],\n",
              "       [0],\n",
              "       [0],\n",
              "       [0],\n",
              "       [1],\n",
              "       [0],\n",
              "       [1],\n",
              "       [1],\n",
              "       [1],\n",
              "       [1],\n",
              "       [0],\n",
              "       [0],\n",
              "       [1],\n",
              "       [0],\n",
              "       [0],\n",
              "       [0],\n",
              "       [1],\n",
              "       [1],\n",
              "       [1],\n",
              "       [0],\n",
              "       [0],\n",
              "       [0],\n",
              "       [0],\n",
              "       [0],\n",
              "       [1],\n",
              "       [1],\n",
              "       [0],\n",
              "       [0],\n",
              "       [1],\n",
              "       [0],\n",
              "       [1],\n",
              "       [0],\n",
              "       [1],\n",
              "       [1],\n",
              "       [0],\n",
              "       [1],\n",
              "       [0],\n",
              "       [1],\n",
              "       [0],\n",
              "       [1],\n",
              "       [1],\n",
              "       [1],\n",
              "       [0],\n",
              "       [1],\n",
              "       [1],\n",
              "       [0],\n",
              "       [1],\n",
              "       [1],\n",
              "       [1],\n",
              "       [0],\n",
              "       [0],\n",
              "       [0],\n",
              "       [1],\n",
              "       [1],\n",
              "       [1],\n",
              "       [1],\n",
              "       [1],\n",
              "       [1],\n",
              "       [0],\n",
              "       [1],\n",
              "       [1],\n",
              "       [0],\n",
              "       [1],\n",
              "       [1],\n",
              "       [0],\n",
              "       [0],\n",
              "       [1],\n",
              "       [0],\n",
              "       [1],\n",
              "       [0],\n",
              "       [1],\n",
              "       [1],\n",
              "       [1],\n",
              "       [1],\n",
              "       [0],\n",
              "       [1],\n",
              "       [1],\n",
              "       [0],\n",
              "       [1],\n",
              "       [1],\n",
              "       [1],\n",
              "       [1],\n",
              "       [1],\n",
              "       [1],\n",
              "       [0],\n",
              "       [1],\n",
              "       [1],\n",
              "       [1],\n",
              "       [0],\n",
              "       [1],\n",
              "       [0],\n",
              "       [0],\n",
              "       [1],\n",
              "       [1],\n",
              "       [1],\n",
              "       [1],\n",
              "       [1],\n",
              "       [1],\n",
              "       [1],\n",
              "       [1],\n",
              "       [1],\n",
              "       [1],\n",
              "       [0],\n",
              "       [1],\n",
              "       [0],\n",
              "       [0],\n",
              "       [1],\n",
              "       [1],\n",
              "       [1],\n",
              "       [1],\n",
              "       [0],\n",
              "       [1],\n",
              "       [0],\n",
              "       [0],\n",
              "       [0],\n",
              "       [1],\n",
              "       [1],\n",
              "       [1],\n",
              "       [1],\n",
              "       [1],\n",
              "       [1],\n",
              "       [0],\n",
              "       [1],\n",
              "       [1],\n",
              "       [0],\n",
              "       [1],\n",
              "       [1],\n",
              "       [0],\n",
              "       [1],\n",
              "       [1],\n",
              "       [1],\n",
              "       [1],\n",
              "       [0],\n",
              "       [0],\n",
              "       [1],\n",
              "       [1],\n",
              "       [0],\n",
              "       [0],\n",
              "       [1],\n",
              "       [1],\n",
              "       [0],\n",
              "       [0],\n",
              "       [1],\n",
              "       [0],\n",
              "       [0],\n",
              "       [1],\n",
              "       [1],\n",
              "       [1],\n",
              "       [0],\n",
              "       [0],\n",
              "       [0],\n",
              "       [0],\n",
              "       [0],\n",
              "       [1],\n",
              "       [0],\n",
              "       [0],\n",
              "       [0],\n",
              "       [1],\n",
              "       [1],\n",
              "       [1],\n",
              "       [1],\n",
              "       [0],\n",
              "       [1],\n",
              "       [1],\n",
              "       [1],\n",
              "       [0],\n",
              "       [0],\n",
              "       [0],\n",
              "       [0],\n",
              "       [1],\n",
              "       [0],\n",
              "       [0],\n",
              "       [1],\n",
              "       [1],\n",
              "       [1],\n",
              "       [1],\n",
              "       [0],\n",
              "       [1],\n",
              "       [0],\n",
              "       [0],\n",
              "       [0],\n",
              "       [1],\n",
              "       [1],\n",
              "       [1],\n",
              "       [1],\n",
              "       [1],\n",
              "       [0],\n",
              "       [1],\n",
              "       [0],\n",
              "       [1],\n",
              "       [0],\n",
              "       [1],\n",
              "       [0],\n",
              "       [0],\n",
              "       [0],\n",
              "       [0],\n",
              "       [1],\n",
              "       [1],\n",
              "       [1],\n",
              "       [1],\n",
              "       [0],\n",
              "       [0],\n",
              "       [1],\n",
              "       [1],\n",
              "       [1],\n",
              "       [1],\n",
              "       [0],\n",
              "       [0],\n",
              "       [0],\n",
              "       [1],\n",
              "       [0],\n",
              "       [1],\n",
              "       [1],\n",
              "       [1],\n",
              "       [1],\n",
              "       [0],\n",
              "       [1],\n",
              "       [1],\n",
              "       [1],\n",
              "       [1],\n",
              "       [1],\n",
              "       [0],\n",
              "       [1],\n",
              "       [0],\n",
              "       [1],\n",
              "       [0],\n",
              "       [1],\n",
              "       [1],\n",
              "       [1],\n",
              "       [1],\n",
              "       [1],\n",
              "       [1],\n",
              "       [1],\n",
              "       [1],\n",
              "       [0],\n",
              "       [1],\n",
              "       [1],\n",
              "       [1],\n",
              "       [1],\n",
              "       [1],\n",
              "       [1],\n",
              "       [1],\n",
              "       [1],\n",
              "       [0],\n",
              "       [0],\n",
              "       [0],\n",
              "       [1],\n",
              "       [1],\n",
              "       [0],\n",
              "       [1],\n",
              "       [1],\n",
              "       [1],\n",
              "       [1],\n",
              "       [1],\n",
              "       [1],\n",
              "       [0],\n",
              "       [1],\n",
              "       [1],\n",
              "       [1],\n",
              "       [0],\n",
              "       [1],\n",
              "       [1],\n",
              "       [1],\n",
              "       [1],\n",
              "       [0],\n",
              "       [0],\n",
              "       [1],\n",
              "       [1],\n",
              "       [1],\n",
              "       [1],\n",
              "       [1],\n",
              "       [0],\n",
              "       [1],\n",
              "       [1],\n",
              "       [1],\n",
              "       [1],\n",
              "       [1],\n",
              "       [1],\n",
              "       [1],\n",
              "       [1],\n",
              "       [0],\n",
              "       [1],\n",
              "       [0],\n",
              "       [1],\n",
              "       [1],\n",
              "       [1],\n",
              "       [1],\n",
              "       [1],\n",
              "       [1],\n",
              "       [0],\n",
              "       [0],\n",
              "       [1],\n",
              "       [1],\n",
              "       [1],\n",
              "       [1],\n",
              "       [0],\n",
              "       [1],\n",
              "       [0],\n",
              "       [1],\n",
              "       [0],\n",
              "       [1],\n",
              "       [1],\n",
              "       [1],\n",
              "       [1],\n",
              "       [1],\n",
              "       [1],\n",
              "       [1],\n",
              "       [1],\n",
              "       [0],\n",
              "       [1],\n",
              "       [1],\n",
              "       [0],\n",
              "       [0],\n",
              "       [0],\n",
              "       [0],\n",
              "       [1],\n",
              "       [0],\n",
              "       [1],\n",
              "       [0],\n",
              "       [1],\n",
              "       [1],\n",
              "       [1],\n",
              "       [0],\n",
              "       [0],\n",
              "       [0],\n",
              "       [0],\n",
              "       [1],\n",
              "       [1],\n",
              "       [1],\n",
              "       [0],\n",
              "       [1],\n",
              "       [1],\n",
              "       [0],\n",
              "       [0],\n",
              "       [0],\n",
              "       [0],\n",
              "       [0],\n",
              "       [0],\n",
              "       [1],\n",
              "       [1]])"
            ]
          },
          "metadata": {},
          "execution_count": 23
        }
      ]
    },
    {
      "cell_type": "code",
      "source": [
        "encoder = OneHotEncoder(sparse=False)\n",
        "y_new = encoder.fit_transform(y_)\n",
        "y_new"
      ],
      "metadata": {
        "colab": {
          "base_uri": "https://localhost:8080/"
        },
        "id": "fPw5IgbZtfbP",
        "outputId": "ff71a6c6-057b-4af0-daf6-08fc094707c6"
      },
      "execution_count": null,
      "outputs": [
        {
          "output_type": "execute_result",
          "data": {
            "text/plain": [
              "array([[0., 1.],\n",
              "       [1., 0.],\n",
              "       [0., 1.],\n",
              "       ...,\n",
              "       [1., 0.],\n",
              "       [0., 1.],\n",
              "       [0., 1.]])"
            ]
          },
          "metadata": {},
          "execution_count": 24
        }
      ]
    },
    {
      "cell_type": "code",
      "source": [
        "x_train, x_test, y_train, y_test = train_test_split(X,y_new,test_size=0.2)"
      ],
      "metadata": {
        "id": "T5PJBseRwvCw"
      },
      "execution_count": null,
      "outputs": []
    },
    {
      "cell_type": "markdown",
      "source": [
        "Task 5"
      ],
      "metadata": {
        "id": "rbnKtyYd-hOg"
      }
    },
    {
      "cell_type": "code",
      "source": [
        "model2 = tf.keras.Sequential([\n",
        "                             tf.keras.layers.InputLayer(input_shape=(7, )),\n",
        "                             tf.keras.layers.Dense(3, ),\n",
        "                             tf.keras.layers.Dense(2, activation='softmax')\n",
        "])\n",
        "model2.compile(optimizer=tf.keras.optimizers.SGD(learning_rate=0.006), loss='categorical_crossentropy')\n",
        "model2.summary()"
      ],
      "metadata": {
        "colab": {
          "base_uri": "https://localhost:8080/"
        },
        "id": "ui4Uyr4Wc7Z7",
        "outputId": "7b05933b-7b7f-48e3-f2b1-1c3e37c50090"
      },
      "execution_count": null,
      "outputs": [
        {
          "output_type": "stream",
          "name": "stdout",
          "text": [
            "Model: \"sequential_1\"\n",
            "_________________________________________________________________\n",
            " Layer (type)                Output Shape              Param #   \n",
            "=================================================================\n",
            " dense_2 (Dense)             (None, 3)                 24        \n",
            "                                                                 \n",
            " dense_3 (Dense)             (None, 2)                 8         \n",
            "                                                                 \n",
            "=================================================================\n",
            "Total params: 32\n",
            "Trainable params: 32\n",
            "Non-trainable params: 0\n",
            "_________________________________________________________________\n"
          ]
        }
      ]
    },
    {
      "cell_type": "code",
      "source": [
        "model2.fit(X_test,y_test, epochs=50)"
      ],
      "metadata": {
        "colab": {
          "base_uri": "https://localhost:8080/"
        },
        "id": "gjYCsCjrjV2E",
        "outputId": "ebdb7ae3-e729-4af5-fd64-8d9a4d4c327f"
      },
      "execution_count": null,
      "outputs": [
        {
          "output_type": "stream",
          "name": "stdout",
          "text": [
            "Epoch 1/50\n",
            "4/4 [==============================] - 0s 3ms/step - loss: 5.5819\n",
            "Epoch 2/50\n",
            "4/4 [==============================] - 0s 3ms/step - loss: 4.1764\n",
            "Epoch 3/50\n",
            "4/4 [==============================] - 0s 3ms/step - loss: 1.8584\n",
            "Epoch 4/50\n",
            "4/4 [==============================] - 0s 3ms/step - loss: 2.1758\n",
            "Epoch 5/50\n",
            "4/4 [==============================] - 0s 4ms/step - loss: 1.9900\n",
            "Epoch 6/50\n",
            "4/4 [==============================] - 0s 4ms/step - loss: 2.7789\n",
            "Epoch 7/50\n",
            "4/4 [==============================] - 0s 4ms/step - loss: 3.6019\n",
            "Epoch 8/50\n",
            "4/4 [==============================] - 0s 3ms/step - loss: 1.9568\n",
            "Epoch 9/50\n",
            "4/4 [==============================] - 0s 3ms/step - loss: 1.7348\n",
            "Epoch 10/50\n",
            "4/4 [==============================] - 0s 5ms/step - loss: 1.8931\n",
            "Epoch 11/50\n",
            "4/4 [==============================] - 0s 4ms/step - loss: 1.2335\n",
            "Epoch 12/50\n",
            "4/4 [==============================] - 0s 3ms/step - loss: 0.9311\n",
            "Epoch 13/50\n",
            "4/4 [==============================] - 0s 4ms/step - loss: 1.3356\n",
            "Epoch 14/50\n",
            "4/4 [==============================] - 0s 4ms/step - loss: 0.8459\n",
            "Epoch 15/50\n",
            "4/4 [==============================] - 0s 3ms/step - loss: 1.3054\n",
            "Epoch 16/50\n",
            "4/4 [==============================] - 0s 3ms/step - loss: 1.1902\n",
            "Epoch 17/50\n",
            "4/4 [==============================] - 0s 3ms/step - loss: 1.4457\n",
            "Epoch 18/50\n",
            "4/4 [==============================] - 0s 3ms/step - loss: 1.0134\n",
            "Epoch 19/50\n",
            "4/4 [==============================] - 0s 3ms/step - loss: 0.9714\n",
            "Epoch 20/50\n",
            "4/4 [==============================] - 0s 2ms/step - loss: 0.8566\n",
            "Epoch 21/50\n",
            "4/4 [==============================] - 0s 3ms/step - loss: 0.7350\n",
            "Epoch 22/50\n",
            "4/4 [==============================] - 0s 3ms/step - loss: 0.7387\n",
            "Epoch 23/50\n",
            "4/4 [==============================] - 0s 4ms/step - loss: 0.9332\n",
            "Epoch 24/50\n",
            "4/4 [==============================] - 0s 4ms/step - loss: 0.9315\n",
            "Epoch 25/50\n",
            "4/4 [==============================] - 0s 3ms/step - loss: 1.0081\n",
            "Epoch 26/50\n",
            "4/4 [==============================] - 0s 3ms/step - loss: 1.0761\n",
            "Epoch 27/50\n",
            "4/4 [==============================] - 0s 4ms/step - loss: 0.9653\n",
            "Epoch 28/50\n",
            "4/4 [==============================] - 0s 3ms/step - loss: 0.9746\n",
            "Epoch 29/50\n",
            "4/4 [==============================] - 0s 3ms/step - loss: 0.7278\n",
            "Epoch 30/50\n",
            "4/4 [==============================] - 0s 4ms/step - loss: 0.6712\n",
            "Epoch 31/50\n",
            "4/4 [==============================] - 0s 3ms/step - loss: 0.6870\n",
            "Epoch 32/50\n",
            "4/4 [==============================] - 0s 3ms/step - loss: 0.7740\n",
            "Epoch 33/50\n",
            "4/4 [==============================] - 0s 3ms/step - loss: 0.7050\n",
            "Epoch 34/50\n",
            "4/4 [==============================] - 0s 3ms/step - loss: 0.7558\n",
            "Epoch 35/50\n",
            "4/4 [==============================] - 0s 4ms/step - loss: 0.6624\n",
            "Epoch 36/50\n",
            "4/4 [==============================] - 0s 5ms/step - loss: 0.7858\n",
            "Epoch 37/50\n",
            "4/4 [==============================] - 0s 4ms/step - loss: 0.6954\n",
            "Epoch 38/50\n",
            "4/4 [==============================] - 0s 7ms/step - loss: 0.7851\n",
            "Epoch 39/50\n",
            "4/4 [==============================] - 0s 4ms/step - loss: 0.6944\n",
            "Epoch 40/50\n",
            "4/4 [==============================] - 0s 4ms/step - loss: 0.6996\n",
            "Epoch 41/50\n",
            "4/4 [==============================] - 0s 4ms/step - loss: 0.6689\n",
            "Epoch 42/50\n",
            "4/4 [==============================] - 0s 4ms/step - loss: 0.8514\n",
            "Epoch 43/50\n",
            "4/4 [==============================] - 0s 4ms/step - loss: 0.6812\n",
            "Epoch 44/50\n",
            "4/4 [==============================] - 0s 4ms/step - loss: 0.7383\n",
            "Epoch 45/50\n",
            "4/4 [==============================] - 0s 4ms/step - loss: 0.7129\n",
            "Epoch 46/50\n",
            "4/4 [==============================] - 0s 4ms/step - loss: 0.7746\n",
            "Epoch 47/50\n",
            "4/4 [==============================] - 0s 3ms/step - loss: 0.7267\n",
            "Epoch 48/50\n",
            "4/4 [==============================] - 0s 3ms/step - loss: 0.6572\n",
            "Epoch 49/50\n",
            "4/4 [==============================] - 0s 4ms/step - loss: 0.6669\n",
            "Epoch 50/50\n",
            "4/4 [==============================] - 0s 4ms/step - loss: 0.6499\n"
          ]
        },
        {
          "output_type": "execute_result",
          "data": {
            "text/plain": [
              "<keras.callbacks.History at 0x7ff7e5c6e8d0>"
            ]
          },
          "metadata": {},
          "execution_count": 27
        }
      ]
    },
    {
      "cell_type": "code",
      "source": [
        "model2.evaluate(x_test,y_test)"
      ],
      "metadata": {
        "colab": {
          "base_uri": "https://localhost:8080/"
        },
        "id": "8FvFkN7DjctR",
        "outputId": "dc41dfee-53b3-463a-80e3-6f948f1fbed2"
      },
      "execution_count": null,
      "outputs": [
        {
          "output_type": "stream",
          "name": "stdout",
          "text": [
            "4/4 [==============================] - 0s 3ms/step - loss: 0.6880\n"
          ]
        },
        {
          "output_type": "execute_result",
          "data": {
            "text/plain": [
              "0.6879958510398865"
            ]
          },
          "metadata": {},
          "execution_count": 28
        }
      ]
    },
    {
      "cell_type": "code",
      "source": [
        "model2_predict = model2.predict(x_test)"
      ],
      "metadata": {
        "id": "mA-n2NLQyg2T"
      },
      "execution_count": null,
      "outputs": []
    },
    {
      "cell_type": "markdown",
      "source": [
        "Task 6"
      ],
      "metadata": {
        "id": "LY359nD3-ksH"
      }
    },
    {
      "cell_type": "markdown",
      "source": [
        "Log Loss Score"
      ],
      "metadata": {
        "id": "k6i_5_g8AL3d"
      }
    },
    {
      "cell_type": "code",
      "source": [
        "from sklearn.metrics import log_loss\n",
        "log_loss(y_test,model2_predict)"
      ],
      "metadata": {
        "colab": {
          "base_uri": "https://localhost:8080/"
        },
        "id": "jhui4S_zypUi",
        "outputId": "ab4c04f7-10e7-4634-e0b1-144f720c67f0"
      },
      "execution_count": null,
      "outputs": [
        {
          "output_type": "execute_result",
          "data": {
            "text/plain": [
              "0.6879958098224543"
            ]
          },
          "metadata": {},
          "execution_count": 30
        }
      ]
    }
  ]
}