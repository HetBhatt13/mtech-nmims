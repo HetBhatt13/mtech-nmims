{
  "nbformat": 4,
  "nbformat_minor": 0,
  "metadata": {
    "colab": {
      "name": "20220731-Lab-2-MTech-AI",
      "provenance": [],
      "collapsed_sections": [],
      "authorship_tag": "ABX9TyMVxCDcoAPXlqhYmNFDIs3P",
      "include_colab_link": true
    },
    "kernelspec": {
      "name": "python3",
      "display_name": "Python 3"
    },
    "language_info": {
      "name": "python"
    }
  },
  "cells": [
    {
      "cell_type": "markdown",
      "metadata": {
        "id": "view-in-github",
        "colab_type": "text"
      },
      "source": [
        "<a href=\"https://colab.research.google.com/github/bilalProgTech/mtech-nmims/blob/master/speech-recognition/Lab-Work/20220731-Lab-2-MTech-AI.ipynb\" target=\"_parent\"><img src=\"https://colab.research.google.com/assets/colab-badge.svg\" alt=\"Open In Colab\"/></a>"
      ]
    },
    {
      "cell_type": "code",
      "execution_count": null,
      "metadata": {
        "id": "OqmAMil5emiu"
      },
      "outputs": [],
      "source": [
        "import librosa\n",
        "import librosa.display\n",
        "from sklearn.preprocessing import minmax_scale\n",
        "import IPython.display as ipd\n",
        "import matplotlib.pyplot as plt\n",
        "%matplotlib inline\n",
        "import numpy as np\n",
        "import pandas as pd"
      ]
    },
    {
      "cell_type": "code",
      "source": [
        "ipd.Audio('/content/angry_woman.wav')"
      ],
      "metadata": {
        "id": "yz3FgoXner2_"
      },
      "execution_count": null,
      "outputs": []
    },
    {
      "cell_type": "code",
      "source": [
        "ipd.Audio('/content/angry_man.wav')"
      ],
      "metadata": {
        "id": "VwENHcWtex5j"
      },
      "execution_count": null,
      "outputs": []
    },
    {
      "cell_type": "markdown",
      "source": [
        "# Waveform"
      ],
      "metadata": {
        "id": "APYqMENdfB0W"
      }
    },
    {
      "cell_type": "code",
      "source": [
        "x , sr = librosa.load('/content/angry_woman.wav')\n",
        "plt.figure(figsize=(20, 5))\n",
        "plt.title('Waveplot of angry woman')\n",
        "librosa.display.waveplot(x, sr=sr)\n",
        "plt.show()\n",
        "\n",
        "\n",
        "x_ , sr_ = librosa.load('/content/1001_ITH_ANG_XX.wav')\n",
        "plt.figure(figsize=(20, 5))\n",
        "plt.title('Waveplot of angry man')\n",
        "librosa.display.waveplot(x_, sr=sr_)\n",
        "plt.show()"
      ],
      "metadata": {
        "id": "QUzYjb_Xex3E"
      },
      "execution_count": null,
      "outputs": []
    },
    {
      "cell_type": "markdown",
      "source": [
        "# Spectogram"
      ],
      "metadata": {
        "id": "Kf83UsWyfEtG"
      }
    },
    {
      "cell_type": "code",
      "source": [
        "plt.figure(figsize=(20, 5))\n",
        "plt.title('Specshow of angry woman')\n",
        "# Short term Fourier Transform\n",
        "X = librosa.stft(x)\n",
        "\n",
        "# Amplitude of given frequency at a given time of an audio signal\n",
        "Xdb = librosa.amplitude_to_db(abs(X))\n",
        "librosa.display.specshow(Xdb, sr=sr, x_axis='time', y_axis='log')\n",
        "plt.show()\n",
        "\n",
        "plt.figure(figsize=(20, 5))\n",
        "plt.title('Specshow of angry woman')\n",
        "# Short term Fourier Transform\n",
        "X = librosa.stft(x_)\n",
        "\n",
        "# Amplitude of given frequency at a given time of an audio signal\n",
        "Xdb = librosa.amplitude_to_db(abs(X))\n",
        "librosa.display.specshow(Xdb, sr=sr_, x_axis='time', y_axis='log')\n",
        "plt.show()"
      ],
      "metadata": {
        "id": "8v9lyD0Kex0T"
      },
      "execution_count": null,
      "outputs": []
    },
    {
      "cell_type": "markdown",
      "source": [
        "# Zero Cross Rating"
      ],
      "metadata": {
        "id": "5cM9BWF3fGMl"
      }
    },
    {
      "cell_type": "code",
      "source": [
        "zero_crossings = librosa.zero_crossings(x)\n",
        "print(\"Sum of zero crossing \", zero_crossings.sum())\n",
        "plt.figure(figsize=(20, 5))\n",
        "plt.title('Zero Crossing Rate of angry woman')\n",
        "zcrs = librosa.feature.zero_crossing_rate(x)\n",
        "plt.plot(zcrs[0])\n",
        "plt.show()\n",
        "\n",
        "zero_crossings = librosa.zero_crossings(x_)\n",
        "print(\"Sum of zero crossing \", zero_crossings.sum())\n",
        "plt.figure(figsize=(20, 5))\n",
        "plt.title('Zero Crossing Rate of angry man')\n",
        "zcrs = librosa.feature.zero_crossing_rate(x_)\n",
        "plt.plot(zcrs[0])\n",
        "plt.show()"
      ],
      "metadata": {
        "id": "2yGCw1zPexx0"
      },
      "execution_count": null,
      "outputs": []
    },
    {
      "cell_type": "code",
      "source": [
        "from sklearn.preprocessing import minmax_scale\n",
        "def normalize(x, axis=0):\n",
        "    return minmax_scale(x, axis=axis)"
      ],
      "metadata": {
        "id": "kE91pP5oexSB"
      },
      "execution_count": null,
      "outputs": []
    },
    {
      "cell_type": "markdown",
      "source": [
        "# Spectral Centroids"
      ],
      "metadata": {
        "id": "4E4IHEH6fJS2"
      }
    },
    {
      "cell_type": "code",
      "source": [
        "plt.figure(figsize=(20, 5))\n",
        "plt.title('Spectral Centroids of angry woman')\n",
        "spectral_centroids = librosa.feature.spectral_centroid(x, sr=sr)[0]\n",
        "frames = range(len(spectral_centroids))\n",
        "t = librosa.frames_to_time(frames)\n",
        "librosa.display.waveplot(x, sr=sr, alpha=0.4)\n",
        "plt.plot(t, normalize(spectral_centroids), color='r')\n",
        "plt.show()\n",
        "\n",
        "plt.figure(figsize=(20, 5))\n",
        "plt.title('Spectral Centroids of angry man')\n",
        "spectral_centroids = librosa.feature.spectral_centroid(x_, sr=sr_)[0]\n",
        "frames = range(len(spectral_centroids))\n",
        "t = librosa.frames_to_time(frames)\n",
        "librosa.display.waveplot(x_, sr=sr_, alpha=0.4)\n",
        "plt.plot(t, normalize(spectral_centroids), color='r')\n",
        "plt.show()"
      ],
      "metadata": {
        "id": "ZOy2FTheexPr"
      },
      "execution_count": null,
      "outputs": []
    },
    {
      "cell_type": "markdown",
      "source": [
        "# Spectral Rolloff"
      ],
      "metadata": {
        "id": "_mGxqtrifLWb"
      }
    },
    {
      "cell_type": "code",
      "source": [
        "plt.figure(figsize=(20, 5))\n",
        "plt.title('Spectral Rolloff of angry woman')\n",
        "spectral_rolloff = librosa.feature.spectral_rolloff(x, sr=sr, roll_percent=0.01)[0]\n",
        "frames = range(len(spectral_rolloff))\n",
        "t = librosa.frames_to_time(frames)\n",
        "librosa.display.waveplot(x, sr=sr, alpha=0.4)\n",
        "plt.plot(t, normalize(spectral_rolloff), color='r')\n",
        "plt.show()\n",
        "\n",
        "plt.figure(figsize=(20, 5))\n",
        "plt.title('Spectral Rolloff of angry man')\n",
        "spectral_rolloff = librosa.feature.spectral_rolloff(x_, sr=sr_, roll_percent=0.01)[0]\n",
        "frames = range(len(spectral_rolloff))\n",
        "t = librosa.frames_to_time(frames)\n",
        "librosa.display.waveplot(x_, sr=sr_, alpha=0.4)\n",
        "plt.plot(t, normalize(spectral_rolloff), color='r')\n",
        "plt.show()"
      ],
      "metadata": {
        "id": "paa6z29bexM0"
      },
      "execution_count": null,
      "outputs": []
    },
    {
      "cell_type": "markdown",
      "source": [
        "# MFCC and Mel Spectrogram"
      ],
      "metadata": {
        "id": "ly_TeqFbfNUk"
      }
    },
    {
      "cell_type": "code",
      "source": [
        "plt.figure(figsize=(20, 6))\n",
        "plt.title('MFCC Spectral of angry woman')\n",
        "mfccs = librosa.feature.mfcc(y=x, sr=sr)\n",
        "librosa.display.specshow(mfccs, sr=sr, x_axis='time')\n",
        "plt.show()\n",
        "\n",
        "plt.figure(figsize=(20, 6))\n",
        "plt.title('MFCC Spectral of angry man')\n",
        "mfccs = librosa.feature.mfcc(y=x_, sr=sr_)\n",
        "librosa.display.specshow(mfccs, sr=sr_, x_axis='time')\n",
        "plt.show()"
      ],
      "metadata": {
        "id": "wY9G7itJexKe"
      },
      "execution_count": null,
      "outputs": []
    },
    {
      "cell_type": "code",
      "source": [
        "plt.figure(figsize=(20, 6))\n",
        "plt.title('Mel Spectrogram of angry woman')\n",
        "mel_spec = librosa.feature.melspectrogram(y=x, sr=sr)\n",
        "librosa.display.specshow(mel_spec, sr=sr, x_axis='time')\n",
        "plt.show()\n",
        "\n",
        "plt.figure(figsize=(20, 6))\n",
        "plt.title('Mel Spectrogram of angry man')\n",
        "mel_spec = librosa.feature.melspectrogram(y=x_, sr=sr_)\n",
        "librosa.display.specshow(mel_spec, sr=sr_, x_axis='time')\n",
        "plt.show()"
      ],
      "metadata": {
        "id": "ZjtjYKZXKl3-"
      },
      "execution_count": null,
      "outputs": []
    },
    {
      "cell_type": "code",
      "source": [
        "plt.figure(figsize=(20, 6))\n",
        "plt.title('MFCC Spectral of angry man with MFCC 10 Components')\n",
        "mfccs = librosa.feature.mfcc(y=x_, sr=sr_, n_mfcc=10)\n",
        "librosa.display.specshow(mfccs, sr=sr_, x_axis='time')\n",
        "plt.show()\n",
        "\n",
        "plt.figure(figsize=(20, 6))\n",
        "plt.title('MFCC Spectral of angry man with Mel spectrogram and MFCC 128')\n",
        "S = librosa.feature.melspectrogram(y=x_, sr=sr_, n_mels=128)\n",
        "mfccs = librosa.feature.mfcc(S=librosa.power_to_db(S), n_mfcc=10)\n",
        "librosa.display.specshow(mfccs, sr=sr_, x_axis='time')\n",
        "plt.show()"
      ],
      "metadata": {
        "id": "tssX1ITjD47P"
      },
      "execution_count": null,
      "outputs": []
    },
    {
      "cell_type": "markdown",
      "source": [
        "# Extracting fratures for model"
      ],
      "metadata": {
        "id": "vnTunMjxLAm_"
      }
    },
    {
      "cell_type": "code",
      "source": [
        "#np.mean(librosa.feature.melspectrogram(y=x, sr=sr).T,axis=0)\n",
        "#np.mean(librosa.feature.mfcc(y=x, sr=sr).T,axis=0)"
      ],
      "metadata": {
        "id": "aCwZQV1gJ7AG"
      },
      "execution_count": null,
      "outputs": []
    }
  ]
}